{
 "cells": [
  {
   "cell_type": "markdown",
   "id": "f36b56ba",
   "metadata": {},
   "source": [
    "## Preguntas a responder:\n",
    "- Cuál es el cliente típico?\n",
    "- Qué diferencia un comprador de alguien curioso? \n",
    "- Cómo se distribuyen las propiedades?"
   ]
  },
  {
   "cell_type": "code",
   "execution_count": null,
   "id": "568d9114",
   "metadata": {},
   "outputs": [],
   "source": [
    "import pandas as pd\n",
    "import numpy as np\n",
    "import matplotlib.pyplot as plt\n",
    "import seaborn as sns\n",
    "import plotly.express as px\n",
    "import json\n",
    "import geopy"
   ]
  },
  {
   "cell_type": "code",
   "execution_count": null,
   "id": "5a63fe17",
   "metadata": {},
   "outputs": [],
   "source": [
    "# --- 1. Definir los colores de la marca Colibid ---\n",
    "# Ajusta estos códigos hexadecimales si tienes los colores exactos de la guía de estilo de Colibid\n",
    "COLORES_COLIBID = {\n",
    "    'primary_blue_green': '#03897D', # Turquesa/Azul verdoso (similar al del PDF)\n",
    "    'secondary': '#80BEAB',\n",
    "    'secondary_orange': '#FF8C00',  # Naranja vibrante (similar al de los elementos naranjas del PDF)\n",
    "    'text_dark': '#333333',         # Gris oscuro para el texto\n",
    "    'background_light': '#FFFFFF'   # Blanco puro para fondos\n",
    "}\n",
    "\n",
    "# --- 2. Configurar el estilo de Matplotlib y Seaborn ---\n",
    "# Utilizar un estilo de Seaborn que sea limpio y luego aplicar nuestras personalizaciones\n",
    "sns.set_theme(style=\"whitegrid\", palette=\"deep\") # \"whitegrid\" para el fondo blanco con cuadrículas\n",
    "plt.rcParams['font.family'] = 'Segoe UI' # Fuente limpia, puedes probar 'Arial', 'Verdana'\n",
    "plt.rcParams['axes.titlecolor'] = COLORES_COLIBID['text_dark']\n",
    "plt.rcParams['axes.labelcolor'] = COLORES_COLIBID['text_dark']\n",
    "plt.rcParams['xtick.color'] = COLORES_COLIBID['text_dark']\n",
    "plt.rcParams['ytick.color'] = COLORES_COLIBID['text_dark']\n",
    "plt.rcParams['figure.facecolor'] = COLORES_COLIBID['background_light']\n",
    "plt.rcParams['axes.facecolor'] = COLORES_COLIBID['background_light']\n",
    "plt.rcParams['grid.color'] = '#CCCCCC' # Un gris claro para las líneas de la cuadrícula\n",
    "plt.rcParams['grid.linestyle'] = '--'\n",
    "plt.rcParams['grid.alpha'] = 0.7\n",
    "\n",
    "# Crear una paleta de Seaborn personalizada con los colores de Colibid\n",
    "# Esto es útil para cuando seaborn asigna colores automáticamente\n",
    "colibid_palette = [COLORES_COLIBID['primary_blue_green'], COLORES_COLIBID['secondary_orange'],\n",
    "                   '#7F8C8D', '#9B59B6', '#34495E', '#E74C3C'] # Añade más colores si tienes más categorías\n",
    "\n",
    "# Puedes establecer esta paleta como la predeterminada de Seaborn si quieres\n",
    "# sns.set_palette(colibid_palette)\n",
    "\n",
    "print(\"Estilo de Colibid configurado para Matplotlib y Seaborn.\")"
   ]
  },
  {
   "cell_type": "code",
   "execution_count": null,
   "id": "cbbe2fd3",
   "metadata": {},
   "outputs": [],
   "source": [
    "df_dataset_v2 = pd.read_csv('data/dataset_v2.csv')\n",
    "df_ofertas_aceptadas = pd.read_csv('data/ofertas_aceptadas.csv')\n",
    "df_ofertas = pd.read_csv('data/ofertas.csv')\n",
    "df_registros = pd.read_csv('data/registros.csv')\n",
    "df_solicitudes = pd.read_csv('data/solicitudes_de_hipoteca.csv')"
   ]
  },
  {
   "cell_type": "markdown",
   "id": "861b979f",
   "metadata": {},
   "source": [
    "### Exploramos cada dataset para determinar qué queremos estudiar"
   ]
  },
  {
   "cell_type": "code",
   "execution_count": null,
   "id": "953c6bfb",
   "metadata": {},
   "outputs": [],
   "source": [
    "df_registros.head(2)"
   ]
  },
  {
   "cell_type": "code",
   "execution_count": null,
   "id": "2e2304ed",
   "metadata": {},
   "outputs": [],
   "source": [
    "df_registros.iloc[2,:]"
   ]
  },
  {
   "cell_type": "code",
   "execution_count": null,
   "id": "1a5cbfca",
   "metadata": {},
   "outputs": [],
   "source": [
    "df_solicitudes.head(2)"
   ]
  },
  {
   "cell_type": "code",
   "execution_count": null,
   "id": "3c6da508",
   "metadata": {},
   "outputs": [],
   "source": [
    "df_solicitudes.iloc[0,:]"
   ]
  },
  {
   "cell_type": "code",
   "execution_count": null,
   "id": "b0401580",
   "metadata": {},
   "outputs": [],
   "source": [
    "json.loads(df_solicitudes.iloc[50,2])['user']#['data']#['address']"
   ]
  },
  {
   "cell_type": "code",
   "execution_count": null,
   "id": "ed253349",
   "metadata": {},
   "outputs": [],
   "source": [
    "json.loads(df_solicitudes.iloc[1,2])['property']"
   ]
  },
  {
   "cell_type": "code",
   "execution_count": null,
   "id": "31c2e342",
   "metadata": {},
   "outputs": [],
   "source": [
    "df_ofertas.head(2)"
   ]
  },
  {
   "cell_type": "code",
   "execution_count": null,
   "id": "fad45bb1",
   "metadata": {},
   "outputs": [],
   "source": [
    "json.loads(df_ofertas.iloc[8, 6])['id']\n",
    "json.loads(df_ofertas.iloc[8, 6])['name']"
   ]
  },
  {
   "cell_type": "code",
   "execution_count": null,
   "id": "06b8c95c",
   "metadata": {},
   "outputs": [],
   "source": [
    "df_ofertas_aceptadas.head(2)"
   ]
  },
  {
   "cell_type": "markdown",
   "id": "b24cc98a",
   "metadata": {},
   "source": [
    "### Seleccionamos columnas y hacemos los merge\n",
    "\n",
    "- De registros nos interesa el id y sacar el json de mortgage data y de ahí:\n",
    "    * data -> amount, debtRatio\n",
    "    * property -> zipcode\n",
    "\n",
    "- De ofertas nos interesa id, mortgage_id, created, del json el nombre del banco\n",
    "- De ofertas aceptadas, la fecha de aceptación y el bid_id\n",
    "\n",
    "merge1: solicitudes(id) == ofertas(mortgage_id)\n",
    "merge2: ofertas_aceptadas(bid_id) = ofertas(id)"
   ]
  },
  {
   "cell_type": "code",
   "execution_count": null,
   "id": "0907e9a5",
   "metadata": {},
   "outputs": [],
   "source": [
    "# Solicitudes\n",
    "amount = []\n",
    "debtRatio = []\n",
    "zipcode = []\n",
    "salary = []\n",
    "birth = []\n",
    "work = []\n",
    "\n",
    "for i in range(df_solicitudes.shape[0]):\n",
    "    amount.append(json.loads(df_solicitudes.iloc[i,2])['data']['amount'])\n",
    "    debtRatio.append(json.loads(df_solicitudes.iloc[i,2]).get('data').get('debtRatio'))\n",
    "    zipcode.append(json.loads(df_solicitudes.iloc[i,2])['property']['zipcode'])\n",
    "    salary.append(json.loads(df_solicitudes.iloc[i,2])['revenue']['monthly'])\n",
    "    birth.append(json.loads(df_solicitudes.iloc[i,2])['user']['birthdate'])\n",
    "    work.append(int(json.loads(df_solicitudes.iloc[i,2])['user']['work']))\n"
   ]
  },
  {
   "cell_type": "code",
   "execution_count": null,
   "id": "0e54ad6b",
   "metadata": {},
   "outputs": [],
   "source": [
    "my_dict = {'id_solicitud': df_solicitudes.loc[:, 'id'].copy(),\n",
    "           'amount': amount.copy(),\n",
    "           'debtRatio': debtRatio.copy(),\n",
    "           'zipcode': zipcode.copy(),\n",
    "           'salary': salary.copy(),\n",
    "           'birth': birth.copy(),\n",
    "           'work': work.copy()}\n",
    "\n",
    "df_solicitudes_clean = pd.DataFrame(my_dict)\n",
    "df_solicitudes_clean.head(5)"
   ]
  },
  {
   "cell_type": "code",
   "execution_count": null,
   "id": "b230e695",
   "metadata": {},
   "outputs": [],
   "source": [
    "# Ofertas\n",
    "df_ofertas_clean = df_ofertas.loc[:,['id', 'mortgage_id', 'created']].copy()\n",
    "df_ofertas_clean.columns = ['id_oferta', 'mortgage_id', 'date_offer']\n",
    "df_ofertas_clean.head(2)"
   ]
  },
  {
   "cell_type": "code",
   "execution_count": null,
   "id": "33fd9e12",
   "metadata": {},
   "outputs": [],
   "source": [
    "# Ofertas aceptadas\n",
    "df_ofertas_aceptadas_clean = df_ofertas_aceptadas.loc[:, ['bid_id', 'solicitor_accepted']].copy()\n",
    "df_ofertas_aceptadas_clean.columns = ['bid_id', 'date_accepted']"
   ]
  },
  {
   "cell_type": "code",
   "execution_count": null,
   "id": "cb34fd96",
   "metadata": {},
   "outputs": [],
   "source": [
    "# Merge 1\n",
    "df_merge1 = pd.merge(left=df_solicitudes_clean, right=df_ofertas_clean, left_on='id_solicitud', right_on='mortgage_id')\n",
    "df_merge1.head(2)"
   ]
  },
  {
   "cell_type": "code",
   "execution_count": null,
   "id": "76a284a7",
   "metadata": {},
   "outputs": [],
   "source": [
    "# Merge 2\n",
    "df_merge2 = pd.merge(left=df_merge1, right=df_ofertas_aceptadas_clean, left_on='id_oferta', right_on='bid_id', how='outer')\n",
    "df_merge2.head(2)"
   ]
  },
  {
   "cell_type": "code",
   "execution_count": null,
   "id": "66f5c60f",
   "metadata": {},
   "outputs": [],
   "source": [
    "df = df_merge2.drop(['bid_id', 'mortgage_id'], axis=1).copy()"
   ]
  },
  {
   "cell_type": "code",
   "execution_count": null,
   "id": "78c3651f",
   "metadata": {},
   "outputs": [],
   "source": [
    "df.head(2)"
   ]
  },
  {
   "cell_type": "code",
   "execution_count": null,
   "id": "7526e8d6",
   "metadata": {},
   "outputs": [],
   "source": [
    "df.info()"
   ]
  },
  {
   "cell_type": "code",
   "execution_count": null,
   "id": "e464f07e",
   "metadata": {},
   "outputs": [],
   "source": [
    "df['amount'] = df['amount'].astype(float).copy()\n",
    "df['salary'] = pd.to_numeric(df['salary'], errors='coerce')\n",
    "df['date_offer'] = pd.to_datetime(df['date_offer'], utc=True).copy()\n",
    "df['date_accepted'] = pd.to_datetime(df['date_accepted'], utc=True, errors='coerce').copy()\n",
    "df['age'] = (pd.to_datetime('2025-05-25', utc=True)- pd.to_datetime(df['birth'], utc=True, errors='coerce').copy()).dt.days//365\n",
    "df = df.drop('birth', axis=1)"
   ]
  },
  {
   "cell_type": "code",
   "execution_count": null,
   "id": "4f7d0ebe",
   "metadata": {},
   "outputs": [],
   "source": [
    "df = df.copy()\n",
    "df.info()"
   ]
  },
  {
   "cell_type": "code",
   "execution_count": null,
   "id": "1269cada",
   "metadata": {},
   "outputs": [],
   "source": [
    "mask_validos = df['date_offer'] >= '2024-01-01'\n",
    "df = df.loc[mask_validos, :].copy()"
   ]
  },
  {
   "cell_type": "code",
   "execution_count": null,
   "id": "e7830528",
   "metadata": {},
   "outputs": [],
   "source": [
    "df.info()"
   ]
  },
  {
   "cell_type": "code",
   "execution_count": null,
   "id": "9942cb82",
   "metadata": {},
   "outputs": [],
   "source": [
    "df['date_accepted']"
   ]
  },
  {
   "cell_type": "code",
   "execution_count": null,
   "id": "00944172",
   "metadata": {},
   "outputs": [],
   "source": [
    "(df.groupby('id_solicitud')['date_accepted'].count() == 0).count() #sort_values(ascending=True)"
   ]
  },
  {
   "cell_type": "code",
   "execution_count": null,
   "id": "6be967ba",
   "metadata": {},
   "outputs": [],
   "source": [
    "df.loc[df['id_solicitud'] == '002bd62f-6aa3-46f5-8715-ab17d8d1e57f', :]"
   ]
  },
  {
   "cell_type": "code",
   "execution_count": null,
   "id": "aa98f686",
   "metadata": {},
   "outputs": [],
   "source": [
    "mask_aceptados = df['date_accepted'].isnull() == False\n",
    "mask_aceptados[mask_aceptados].count()"
   ]
  },
  {
   "cell_type": "code",
   "execution_count": null,
   "id": "7f2ec98a",
   "metadata": {},
   "outputs": [],
   "source": [
    "# Crear una nueva columna con el valor máximo de 'date_accepted' por 'id_solicitud'\n",
    "df_aceptados = df[mask_aceptados].copy()\n",
    "df_aceptados['max_date_accepted'] = df_aceptados.groupby('id_solicitud')['date_accepted'].transform('max')\n",
    "\n",
    "# Filtrar solo las filas donde 'date_accepted' sea igual a la máxima para ese id\n",
    "df_aceptados_unicos = df_aceptados[df_aceptados['date_accepted'] == df_aceptados['max_date_accepted']].copy()"
   ]
  },
  {
   "cell_type": "code",
   "execution_count": null,
   "id": "4fea0289",
   "metadata": {},
   "outputs": [],
   "source": [
    "df_solicitudes_unicas = df.drop_duplicates(subset='id_solicitud', keep='first').copy()\n",
    "df_solicitudes.shape"
   ]
  },
  {
   "cell_type": "code",
   "execution_count": null,
   "id": "b7f2e46f",
   "metadata": {},
   "outputs": [],
   "source": [
    "df_solicitudes_unicas"
   ]
  },
  {
   "cell_type": "markdown",
   "id": "68f6e2ce",
   "metadata": {},
   "source": [
    "### Eliminamos los outliers"
   ]
  },
  {
   "cell_type": "code",
   "execution_count": null,
   "id": "2f86abc3",
   "metadata": {},
   "outputs": [],
   "source": [
    "def remove_outliers_iqr(df, column, iqr_multiplier=1.5):\n",
    "    \"\"\"\n",
    "    Removes outliers from a specified column in a DataFrame using the IQR method.\n",
    "\n",
    "    Args:\n",
    "        df (pd.DataFrame): The input DataFrame.\n",
    "        column (str): The name of the column to remove outliers from.\n",
    "        iqr_multiplier (float): The multiplier for the IQR to define the outlier fences.\n",
    "                                  Commonly 1.5 for \"mild\" outliers, 3.0 for \"extreme\" outliers.\n",
    "\n",
    "    Returns:\n",
    "        pd.DataFrame: A new DataFrame with outliers removed.\n",
    "    \"\"\"\n",
    "    if column not in df.columns:\n",
    "        raise ValueError(f\"Column '{column}' not found in the DataFrame.\")\n",
    "\n",
    "    # Calculate Q1, Q3, and IQR, ignoring NaN values\n",
    "    Q1 = df[column].quantile(0.25)\n",
    "    Q3 = df[column].quantile(0.75)\n",
    "    IQR = Q3 - Q1\n",
    "\n",
    "    # Define outlier fences\n",
    "    lower_bound = Q1 - iqr_multiplier * IQR\n",
    "    upper_bound = Q3 + iqr_multiplier * IQR\n",
    "\n",
    "    # Filter out outliers. Keep rows where the value is within the bounds OR is NaN.\n",
    "    # We explicitly include NaN values so they are not treated as outliers and are preserved\n",
    "    # if you want to handle them separately later.\n",
    "    filtered_df = df[(df[column] >= lower_bound) & (df[column] <= upper_bound) | (df[column].isna())]\n",
    "\n",
    "    # Optional: Print how many outliers were removed\n",
    "    num_outliers = len(df) - len(filtered_df)\n",
    "    print(f\"Removed {num_outliers} outliers from '{column}' using IQR method (multiplier={iqr_multiplier}).\")\n",
    "\n",
    "    return filtered_df\n",
    "\n",
    "columns = ['amount', 'salary', 'debtRatio']\n",
    "\n",
    "for column in columns:\n",
    "    df_solicitudes_unicas = remove_outliers_iqr(df_solicitudes_unicas, column)\n",
    "    df_aceptados = remove_outliers_iqr(df_aceptados, column)\n",
    "    df_aceptados_unicos = remove_outliers_iqr(df_aceptados_unicos, column)"
   ]
  },
  {
   "cell_type": "markdown",
   "id": "d559b677",
   "metadata": {},
   "source": [
    "### Empezamos el análisis"
   ]
  },
  {
   "cell_type": "code",
   "execution_count": null,
   "id": "b54d8d5c",
   "metadata": {},
   "outputs": [],
   "source": [
    "# Primero qué tipo de cliente se interesa por nuestra empresa:\n",
    "fig, ax = plt.subplots(5, 1, figsize=(8,8))\n",
    "fig.suptitle('Solicitudes')\n",
    "sns.histplot(data=df_solicitudes_unicas, x='amount', ax=ax[0])\n",
    "sns.histplot(data=df_solicitudes_unicas, x='salary', ax=ax[1])\n",
    "sns.histplot(data=df_solicitudes_unicas, x='debtRatio', ax=ax[2])\n",
    "sns.histplot(data=df_solicitudes_unicas, x='age', ax=ax[3])\n",
    "sns.countplot(data=df_solicitudes_unicas, x='work', ax=ax[4])\n",
    "\n",
    "plt.tight_layout()"
   ]
  },
  {
   "cell_type": "code",
   "execution_count": null,
   "id": "fc02eb9f",
   "metadata": {},
   "outputs": [],
   "source": [
    "fig, ax = plt.subplots(1, 1, figsize=(6,4))\n",
    "fig.suptitle('Edad')\n",
    "sns.histplot(data=df_solicitudes_unicas, x='age', ax=ax, color=COLORES_COLIBID['primary_blue_green'], edgecolor='black')\n",
    "ax.set_xlabel('Edad [años]')\n",
    "ax.set_ylabel('Frecuencia')\n",
    "plt.tight_layout()"
   ]
  },
  {
   "cell_type": "code",
   "execution_count": null,
   "id": "0552f3ee",
   "metadata": {},
   "outputs": [],
   "source": [
    "fig, ax = plt.subplots(1, 1, figsize=(6,4))\n",
    "fig.suptitle('Trabajo')\n",
    "sns.countplot(data=df_solicitudes_unicas, x='work', ax=ax, color=COLORES_COLIBID['primary_blue_green'], edgecolor='black')\n",
    "ax.set_xlabel('Sector de trabajo')\n",
    "ax.set_ylabel('Frecuencia')\n",
    "\n",
    "plt.tight_layout()"
   ]
  },
  {
   "cell_type": "code",
   "execution_count": null,
   "id": "4d04dadf",
   "metadata": {},
   "outputs": [],
   "source": [
    "fig, ax = plt.subplots(2, 2, figsize=(12,8))\n",
    "#fig.suptitle('Trabajo')\n",
    "sns.histplot(data=df_solicitudes_unicas, x='amount', ax=ax[0,0], color=COLORES_COLIBID['primary_blue_green'], edgecolor='black')\n",
    "ax[0,0].set_xlabel('Hipoteca [€]')\n",
    "ax[0,0].set_ylabel('Frecuencia')\n",
    "ax[0,0].set_title('Hipoteca', fontsize=25)\n",
    "\n",
    "sns.histplot(data=df_solicitudes_unicas, x='salary', ax=ax[0,1], color=COLORES_COLIBID['primary_blue_green'], edgecolor='black')\n",
    "ax[0,1].set_xlabel('Sueldo [€]')\n",
    "ax[0,1].set_ylabel('Frecuencia')\n",
    "ax[0,1].set_title('Sueldo', fontsize=25)\n",
    "\n",
    "sns.histplot(data=df_solicitudes_unicas, x='age', ax=ax[1,0], color=COLORES_COLIBID['primary_blue_green'], edgecolor='black')\n",
    "ax[1,0].set_xlabel('Edad [años]')\n",
    "ax[1,0].set_ylabel('Frecuencia')\n",
    "ax[1,0].set_title('Edad', fontsize=25)\n",
    "\n",
    "sns.histplot(data=df_solicitudes_unicas, x='debtRatio', ax=ax[1,1], color=COLORES_COLIBID['primary_blue_green'], edgecolor='black')\n",
    "ax[1,1].set_xlabel('Ratio de deuda')\n",
    "ax[1,1].set_ylabel('Frecuencia')\n",
    "ax[1,1].set_title('Ratio de deuda', fontsize=25)\n",
    "\n",
    "\n",
    "plt.tight_layout() "
   ]
  },
  {
   "cell_type": "code",
   "execution_count": null,
   "id": "d467f2d3",
   "metadata": {},
   "outputs": [],
   "source": [
    "fig, ax = plt.subplots(2, 2, figsize=(12,8))\n",
    "#fig.suptitle('Trabajo')\n",
    "sns.histplot(data=df_solicitudes_unicas, x='age', ax=ax[0,0], color=COLORES_COLIBID['primary_blue_green'], edgecolor='black')\n",
    "ax[0,0].set_xlabel('Edad [años]')\n",
    "ax[0,0].set_ylabel('Frecuencia')\n",
    "ax[0,0].set_title('Solicitud', fontsize=25)\n",
    "\n",
    "sns.histplot(data=df_aceptados_unicos, x='age', ax=ax[0,1], color=COLORES_COLIBID['secondary'], edgecolor='black')\n",
    "ax[0,1].set_xlabel('Edad [años] [€]')\n",
    "ax[0,1].set_ylabel('Frecuencia')\n",
    "ax[0,1].set_title('Oferta aceptada', fontsize=25)\n",
    "\n",
    "sns.histplot(data=df_solicitudes_unicas, x='debtRatio', ax=ax[1,0], color=COLORES_COLIBID['primary_blue_green'], edgecolor='black')\n",
    "ax[1,0].set_xlabel('Ratio deuda')\n",
    "ax[1,0].set_ylabel('Frecuencia')\n",
    "#ax[1,0].set_title('Edad', fontsize=25)\n",
    "\n",
    "sns.histplot(data=df_aceptados_unicos, x='debtRatio', ax=ax[1,1], color=COLORES_COLIBID['secondary'], edgecolor='black')\n",
    "ax[1,1].set_xlabel('Ratio deuda')\n",
    "ax[1,1].set_ylabel('Frecuencia')\n",
    "#ax[1,1].set_title('Ratio de deuda', fontsize=25)\n",
    "\n",
    "plt.tight_layout()"
   ]
  },
  {
   "cell_type": "code",
   "execution_count": null,
   "id": "a8595a8f",
   "metadata": {},
   "outputs": [],
   "source": [
    "fig, ax = plt.subplots(2, 1, figsize=(4,6))\n",
    "#fig.suptitle('Trabajo')\n",
    "sns.countplot(data=df_solicitudes_unicas, x='work', ax=ax[0], color=COLORES_COLIBID['primary_blue_green'], edgecolor='black')\n",
    "ax[0].set_xlabel('Sector de trabajo')\n",
    "ax[0].set_ylabel('Frecuencia')\n",
    "ax[0].set_title('Solicitud', fontsize=25)\n",
    "\n",
    "sns.countplot(data=df_aceptados_unicos, x='work', ax=ax[1], color=COLORES_COLIBID['secondary'], edgecolor='black')\n",
    "ax[1].set_xlabel('Sector de trabajo')\n",
    "ax[1].set_ylabel('Frecuencia')\n",
    "ax[1].set_title('Oferta aceptada', fontsize=25)\n",
    "\n",
    "plt.tight_layout()"
   ]
  },
  {
   "cell_type": "code",
   "execution_count": null,
   "id": "e4bdbc75",
   "metadata": {},
   "outputs": [],
   "source": [
    "fig, ax = plt.subplots(6, 2, figsize=(12, 12))\n",
    "# fig.suptitle('Solicitudes')\n",
    "sns.histplot(data=df_solicitudes_unicas, x='amount', ax=ax[0,0], color=COLORES_COLIBID['primary_blue_green'], edgecolor='black')\n",
    "sns.histplot(data=df_solicitudes_unicas, x='salary', ax=ax[1,0], color=COLORES_COLIBID['primary_blue_green'], edgecolor='black')\n",
    "sns.histplot(data=df_solicitudes_unicas, x='debtRatio', ax=ax[2,0], color=COLORES_COLIBID['primary_blue_green'], edgecolor='black')\n",
    "sns.histplot(data=df_solicitudes_unicas, x='age', ax=ax[3,0], color=COLORES_COLIBID['primary_blue_green'], edgecolor='black')\n",
    "sns.countplot(data=df_solicitudes_unicas, x='work', ax=ax[4,0], color=COLORES_COLIBID['primary_blue_green'], edgecolor='black')\n",
    "sns.histplot(data=df_solicitudes_unicas, x='date_offer', ax=ax[5,0], color=COLORES_COLIBID['primary_blue_green'], edgecolor='black')\n",
    "\n",
    "sns.histplot(data=df_aceptados_unicos, x='amount', ax=ax[0,1], color=COLORES_COLIBID['secondary_orange'], edgecolor='black')\n",
    "sns.histplot(data=df_aceptados_unicos, x='salary', ax=ax[1,1], color=COLORES_COLIBID['secondary_orange'], edgecolor='black')\n",
    "sns.histplot(data=df_aceptados_unicos, x='debtRatio', ax=ax[2,1], color=COLORES_COLIBID['secondary_orange'], edgecolor='black')\n",
    "sns.histplot(data=df_aceptados_unicos, x='age', ax=ax[3,1], color=COLORES_COLIBID['secondary_orange'], edgecolor='black')\n",
    "sns.countplot(data=df_aceptados_unicos, x='work', ax=ax[4,1], color=COLORES_COLIBID['secondary_orange'], edgecolor='black')\n",
    "sns.histplot(data=df_aceptados_unicos, x='date_offer', ax=ax[5,1], color=COLORES_COLIBID['secondary_orange'], edgecolor='black')\n",
    "\n",
    "plt.tight_layout()\n",
    "plt.savefig('PrimeraComparacion.png')\n",
    "plt.show()\n",
    "\n",
    "\n",
    "for column in columns:\n",
    "    print(f\"\"\"{column}: Solicitud: {df_solicitudes_unicas[column].median()}, aceptada: {df_aceptados_unicos[column].median()}, std_dev: {df_solicitudes_unicas[column].std() - df_aceptados_unicos[column].std()}\"\"\")"
   ]
  },
  {
   "cell_type": "code",
   "execution_count": null,
   "id": "5140ac3b",
   "metadata": {},
   "outputs": [],
   "source": [
    "# Asume que df_solicitudes_unicas y df_aceptados_unicos ya están definidos\n",
    "columns = ['amount', 'salary', 'debtRatio', 'age']\n",
    "\n",
    "for column in columns:\n",
    "    print(f\"\\n--- Análisis de la Columna: {column} ---\")\n",
    "\n",
    "    # Calculamos las métricas para cada grupo\n",
    "    median_solicitudes = df_solicitudes_unicas[column].median()\n",
    "    median_aceptados = df_aceptados_unicos[column].median()\n",
    "\n",
    "    mean_solicitudes = df_solicitudes_unicas[column].mean()\n",
    "    mean_aceptados = df_aceptados_unicos[column].mean()\n",
    "\n",
    "    std_solicitudes = df_solicitudes_unicas[column].std()\n",
    "    std_aceptados = df_aceptados_unicos[column].std()\n",
    "\n",
    "    q1_solicitudes = df_solicitudes_unicas[column].quantile(0.25)\n",
    "    q1_aceptados = df_aceptados_unicos[column].quantile(0.25)\n",
    "\n",
    "    q3_solicitudes = df_solicitudes_unicas[column].quantile(0.75)\n",
    "    q3_aceptados = df_aceptados_unicos[column].quantile(0.75)\n",
    "\n",
    "    # Coeficiente de Variación (CV), usa la media como denominador\n",
    "    cv_solicitudes = (std_solicitudes / mean_solicitudes) * 100 if mean_solicitudes != 0 else np.nan\n",
    "    cv_aceptados = (std_aceptados / mean_aceptados) * 100 if mean_aceptados != 0 else np.nan\n",
    "\n",
    "    # Imprimimos los resultados para una fácil comparación\n",
    "    print(f\"  Métrica        | Solicitudes         | Aceptados           | Diferencia (Aceptados - Solicitudes)\")\n",
    "    print(f\"-----------------|---------------------|---------------------|--------------------------------------\")\n",
    "    print(f\"  Mediana        | {median_solicitudes:<19.2f} | {median_aceptados:<19.2f} | {median_aceptados - median_solicitudes:<25.2f}\")\n",
    "    print(f\"  Media          | {mean_solicitudes:<19.2f} | {mean_aceptados:<19.2f} | {mean_aceptados - mean_solicitudes:<25.2f}\")\n",
    "    print(f\"  Std Dev        | {std_solicitudes:<19.2f} | {std_aceptados:<19.2f} | {std_aceptados - std_solicitudes:<25.2f}\")\n",
    "    print(f\"  Q1 (25%)       | {q1_solicitudes:<19.2f} | {q1_aceptados:<19.2f} | {q1_aceptados - q1_solicitudes:<25.2f}\")\n",
    "    print(f\"  Q3 (75%)       | {q3_solicitudes:<19.2f} | {q3_aceptados:<19.2f} | {q3_aceptados - q3_solicitudes:<25.2f}\")\n",
    "    print(f\"  CV (%)         | {cv_solicitudes:<19.2f} | {cv_aceptados:<19.2f} | {cv_aceptados - cv_solicitudes:<25.2f}\")"
   ]
  },
  {
   "cell_type": "code",
   "execution_count": null,
   "id": "d0bfb81c",
   "metadata": {},
   "outputs": [],
   "source": [
    "import matplotlib.dates as mdates\n",
    "ax = sns.histplot(df_solicitudes_unicas['date_offer'], \n",
    "            color=COLORES_COLIBID['primary_blue_green'],\n",
    "            edgecolor='black')\n",
    "\n",
    "ax.set_ylabel('Frecuencia')\n",
    "ax.set_xlabel('Fecha')\n",
    "\n",
    "# Formatear el eje X\n",
    "ax.xaxis.set_major_locator(mdates.MonthLocator(interval=2))  # cada 2 meses\n",
    "ax.xaxis.set_major_formatter(mdates.DateFormatter('%Y-%m'))\n",
    "ax.tick_params(axis='x', rotation=45)  # rotar para mejor lectura\n",
    "\n",
    "plt.tight_layout()\n",
    "plt.show()"
   ]
  },
  {
   "cell_type": "code",
   "execution_count": null,
   "id": "c83bfd96",
   "metadata": {},
   "outputs": [],
   "source": [
    "df_aceptados_unicos['tiempo_aceptacion'] = (df_aceptados_unicos['date_accepted'] - df_aceptados_unicos['date_offer']).dt.total_seconds() / (60 * 60 * 24)\n",
    "df_aceptados_unicos.shape\n",
    "\n",
    "# Now plot it\n",
    "ax = sns.histplot(\n",
    "    df_aceptados_unicos['tiempo_aceptacion'], \n",
    "    color=COLORES_COLIBID['primary_blue_green'],\n",
    "    edgecolor='black',\n",
    "    bins=30  # optional: set number of bins\n",
    ")\n",
    "\n",
    "ax.set_xlabel('Tiempo de aceptación (días)')\n",
    "ax.set_ylabel('Frecuencia')\n",
    "plt.tight_layout()\n",
    "plt.show()"
   ]
  },
  {
   "cell_type": "code",
   "execution_count": null,
   "id": "7e140196",
   "metadata": {},
   "outputs": [],
   "source": [
    "ax = sns.barplot(df_solicitudes_unicas['date_offer'].dt.day_name(), \n",
    "            order=['Monday', 'Tuesday', 'Wednesday', 'Thursday', 'Friday', 'Saturday', 'Sunday'],\n",
    "            errorbar=None,\n",
    "            color=COLORES_COLIBID['primary_blue_green'],\n",
    "            edgecolor='black')\n",
    "ax.set_ylabel('Día de la semana')\n",
    "\n",
    "# Set Spanish labels safely\n",
    "spanish_labels = ['Lunes', 'Martes', 'Miércoles', 'Jueves', 'Viernes', 'Sábado', 'Domingo']\n",
    "ax.set_yticks(range(len(spanish_labels)))  # set fixed tick positions\n",
    "ax.set_yticklabels(spanish_labels)    \n",
    "\n",
    "plt.tight_layout()\n",
    "plt.show()"
   ]
  },
  {
   "cell_type": "markdown",
   "id": "32e45b92",
   "metadata": {},
   "source": [
    "#### Intentamos localizar las hipotecas en un mapa"
   ]
  },
  {
   "cell_type": "code",
   "execution_count": null,
   "id": "0868514b",
   "metadata": {},
   "outputs": [],
   "source": [
    "from geopy.geocoders import Nominatim\n",
    "from geopy.extra.rate_limiter import RateLimiter\n",
    "import time"
   ]
  },
  {
   "cell_type": "code",
   "execution_count": null,
   "id": "4f752cb7",
   "metadata": {},
   "outputs": [],
   "source": [
    "df_locs = pd.DataFrame(df_solicitudes_unicas.groupby('zipcode')['id_oferta'].count().sort_values(ascending=False)).reset_index()"
   ]
  },
  {
   "cell_type": "code",
   "execution_count": null,
   "id": "47580c68",
   "metadata": {},
   "outputs": [],
   "source": [
    "df_locs.columns=['zipcode', 'counts']"
   ]
  },
  {
   "cell_type": "code",
   "execution_count": null,
   "id": "2e8a20ce",
   "metadata": {},
   "outputs": [],
   "source": [
    "df_excel = pd.read_excel('data/Listado-de-CP.xlsx')\n",
    "df_excel.head()"
   ]
  },
  {
   "cell_type": "code",
   "execution_count": null,
   "id": "ca9e3498",
   "metadata": {},
   "outputs": [],
   "source": [
    "df_excel.loc[df_excel['codigo_postal'] == 46910, :]\n",
    "df_excel.info()\n",
    "df_excel['codigo_postal'] = df_excel['codigo_postal'].astype(str)"
   ]
  },
  {
   "cell_type": "code",
   "execution_count": null,
   "id": "65be43f4",
   "metadata": {},
   "outputs": [],
   "source": [
    "df_locs2 = pd.merge(left=df_locs, right=df_excel, left_on='zipcode', right_on='codigo_postal', how='inner')\n",
    "df_locs = df_locs2.drop(['codigo_postal', 'municipio_id', 'codigo_unidad_poblacional', 'entidad_singular_nombre'], axis=1)\n",
    "df_locs\n"
   ]
  },
  {
   "cell_type": "code",
   "execution_count": null,
   "id": "ecde6588",
   "metadata": {},
   "outputs": [],
   "source": [
    "fig, ax = plt.subplots(1,1)\n",
    "sns.barplot(data=df_locs.iloc[:20, :], x='zipcode', y='counts', errorbar=None, color=COLORES_COLIBID['primary_blue_green'], edgecolor='black')\n",
    "ax.set_xticklabels(ax.get_xticklabels(), rotation=45)\n",
    "plt.tight_layout()"
   ]
  },
  {
   "cell_type": "code",
   "execution_count": null,
   "id": "91e556dc",
   "metadata": {},
   "outputs": [],
   "source": [
    "df_locs_plot = pd.DataFrame(df_locs.groupby('nucleo_nombre')['zipcode'].count().sort_values(ascending=False)).reset_index()\n",
    "df_locs_plot.columns=['nombre_nucleo', 'counts']\n"
   ]
  },
  {
   "cell_type": "code",
   "execution_count": null,
   "id": "4846c1b9",
   "metadata": {},
   "outputs": [],
   "source": [
    "fig, ax = plt.subplots(1,1, figsize = (15, 7))\n",
    "sns.barplot(data=df_locs_plot.iloc[1:11, :], x='nombre_nucleo', y='counts', errorbar=None, color=COLORES_COLIBID['primary_blue_green'], edgecolor='black')\n",
    "ax.set_xticklabels(ax.get_xticklabels(), rotation=45, fontsize=15)\n",
    "ax.set_xlabel('Localidad')\n",
    "ax.set_ylabel('Frecuencia')\n",
    "ax.set_title('Top 10 localidades de contratación de hipotecas', fontsize=20)\n",
    "plt.tight_layout()"
   ]
  },
  {
   "cell_type": "code",
   "execution_count": null,
   "id": "ea2c6bab",
   "metadata": {},
   "outputs": [],
   "source": [
    "fig_scatter = px.scatter_mapbox(df_locs,\n",
    "                                lat='Latitud',\n",
    "                                lon='Longitud',\n",
    "                                color='counts',\n",
    "                                color_continuous_scale=px.colors.sequential.YlOrRd, # Escala de colores (amarillo a rojo)\n",
    "                                size_max=30, # Tamaño máximo de los marcadores para evitar que sean demasiado grandes\n",
    "                                zoom=5.5, # Nivel de zoom inicial (ajusta según tu región)\n",
    "                                # Centra el mapa en la media de tus puntos para una vista general\n",
    "                                center={\"lat\": df_locs['Latitud'].mean(), \"lon\": df_locs['Longitud'].mean()},\n",
    "                                mapbox_style=\"open-street-map\", # Estilo de mapa base (no requiere clave de Mapbox)\n",
    "                                title=f\"Puntos Calientes de Actividad Hipotecaria por Código Postal (España)\"\n",
    "                               )\n",
    "\n",
    "# Ajustes adicionales para el layout del mapa\n",
    "fig_scatter.update_layout(\n",
    "    margin={\"r\":0,\"t\":50,\"l\":0,\"b\":0},\n",
    "    coloraxis_colorbar=dict(\n",
    "        title='cuentas',\n",
    "        tickformat=\",\" # Formato para los números en la leyenda de color\n",
    "    )\n",
    ")\n",
    "\n",
    "fig_scatter.show()"
   ]
  },
  {
   "cell_type": "code",
   "execution_count": null,
   "id": "a3963bb3",
   "metadata": {},
   "outputs": [],
   "source": [
    "fig_density = px.density_mapbox(df_locs,\n",
    "                                lat=\"Latitud\",\n",
    "                                lon=\"Longitud\",\n",
    "                                z='counts', # Variable que define la intensidad del calor\n",
    "                                radius=20, # Ajusta el radio de los puntos de calor (mayor radio = calor más extendido)\n",
    "                                color_continuous_scale=px.colors.sequential.Teal,#['#E5F5F1', '#80BEAB', '#03897D'],#px.colors.sequential.Hot, # Otra buena escala de colores para calor\n",
    "                                zoom=5.5,\n",
    "                                center={\"lat\": df_locs['Latitud'].mean(), \"lon\": df_locs['Longitud'].mean()},\n",
    "                                mapbox_style=\"open-street-map\",\n",
    "                                title=f\"Mapa de Densidad de Actividad Hipotecaria por Código Postal (España)\"\n",
    "                               )\n",
    "\n",
    "fig_density.update_layout(\n",
    "    margin={\"r\":0,\"t\":50,\"l\":0,\"b\":0},\n",
    "    coloraxis_colorbar=dict(\n",
    "        title='Número de hipotecas',\n",
    "        tickformat=\",\" # Formato para los números en la leyenda de color\n",
    "    ))\n",
    "fig_density.show()"
   ]
  },
  {
   "cell_type": "code",
   "execution_count": null,
   "id": "eba2f2a1",
   "metadata": {},
   "outputs": [],
   "source": []
  }
 ],
 "metadata": {
  "kernelspec": {
   "display_name": "data_analysis_env",
   "language": "python",
   "name": "python3"
  },
  "language_info": {
   "codemirror_mode": {
    "name": "ipython",
    "version": 3
   },
   "file_extension": ".py",
   "mimetype": "text/x-python",
   "name": "python",
   "nbconvert_exporter": "python",
   "pygments_lexer": "ipython3",
   "version": "3.11.11"
  }
 },
 "nbformat": 4,
 "nbformat_minor": 5
}
