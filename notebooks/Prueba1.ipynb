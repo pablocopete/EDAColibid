{
 "cells": [
  {
   "cell_type": "code",
   "execution_count": null,
   "id": "52c4b931",
   "metadata": {},
   "outputs": [],
   "source": [
    "import numpy as np\n",
    "import pandas as pd\n",
    "import json\n",
    "\n",
    "import matplotlib.pyplot as plt\n",
    "import seaborn as sns\n",
    "import plotly.express as px"
   ]
  },
  {
   "cell_type": "markdown",
   "id": "cb8ffb2a",
   "metadata": {},
   "source": [
    "El dataset cuenta con información sobre los potenciales clientes. Estas personas solicitaron una hipoteca, pero no se muestra si la venta llego al proceso final."
   ]
  },
  {
   "cell_type": "markdown",
   "id": "8fd91b24",
   "metadata": {},
   "source": []
  },
  {
   "cell_type": "code",
   "execution_count": null,
   "id": "e327f7f9",
   "metadata": {},
   "outputs": [],
   "source": [
    "df = pd.read_csv('data/dataset_v1.csv')\n",
    "df.head(2)"
   ]
  },
  {
   "cell_type": "code",
   "execution_count": null,
   "id": "c588f991",
   "metadata": {},
   "outputs": [],
   "source": [
    "df.info()"
   ]
  },
  {
   "cell_type": "code",
   "execution_count": null,
   "id": "df417647",
   "metadata": {},
   "outputs": [],
   "source": [
    "mask_solo_un_propietario = df['User 2 Birthdate'].isnull() != True\n",
    "mask_solo_un_propietario2 = df['User 2 Salary'] < 1 \n",
    "df[mask_solo_un_propietario & mask_solo_un_propietario2].head(2)\n"
   ]
  },
  {
   "cell_type": "markdown",
   "id": "a2bbe843",
   "metadata": {},
   "source": [
    "El dataset no presenta datos faltantes\n",
    "Cuando solo hay un usuario, los datos de user2 se presentan como: \n",
    "- Fecha de nacimiento: NaN - 2779\n",
    "- Trabajo: 0\n",
    "- Salario: 0 - 2924\n",
    "\n",
    "La diferencia se encuentra en personas que piden salario juntos, pero la segunda personas está en el paro"
   ]
  },
  {
   "cell_type": "code",
   "execution_count": null,
   "id": "7c52ac99",
   "metadata": {},
   "outputs": [],
   "source": [
    "# Tenemos más hipotecas individuales o compartidas?\n"
   ]
  },
  {
   "cell_type": "markdown",
   "id": "8d143369",
   "metadata": {},
   "source": [
    "Cargamos los datasets de registros y solicitudes de hipoteca"
   ]
  },
  {
   "cell_type": "code",
   "execution_count": null,
   "id": "2ad66338",
   "metadata": {},
   "outputs": [],
   "source": [
    "df_registros = pd.read_csv('data/registros.csv')\n",
    "df_solicitudes = pd.read_csv('data/solicitudes_de_hipoteca.csv')"
   ]
  },
  {
   "cell_type": "code",
   "execution_count": null,
   "id": "cc8a3875",
   "metadata": {},
   "outputs": [],
   "source": [
    "df_registros.head(2)"
   ]
  },
  {
   "cell_type": "code",
   "execution_count": null,
   "id": "5fd34ed2",
   "metadata": {},
   "outputs": [],
   "source": [
    "df_registros_clean = df_registros.loc[:, ['user', 'id']]\n",
    "df_registros_clean.columns = ['user', 'id_user']\n",
    "df_registros_clean.head(2)"
   ]
  },
  {
   "cell_type": "code",
   "execution_count": null,
   "id": "7b4aabf5",
   "metadata": {},
   "outputs": [],
   "source": [
    "df_solicitudes.head(2)"
   ]
  },
  {
   "cell_type": "code",
   "execution_count": null,
   "id": "02ff6eba",
   "metadata": {},
   "outputs": [],
   "source": [
    "df_solicitudes_clean = df_solicitudes.loc[:, ['id', 'user', 'mortgage_data']]\n",
    "df_solicitudes_clean.columns = ['id_solicitud', 'user', 'mortgage_data']\n",
    "df_solicitudes_clean.head(2)"
   ]
  },
  {
   "cell_type": "code",
   "execution_count": null,
   "id": "ee6ddc54",
   "metadata": {},
   "outputs": [],
   "source": [
    "prueba = json.loads(df_solicitudes_clean['mortgage_data'][2])\n",
    "prueba.keys()"
   ]
  },
  {
   "cell_type": "code",
   "execution_count": null,
   "id": "d28fa49e",
   "metadata": {},
   "outputs": [],
   "source": [
    "cantidad_hipo = prueba['data']['amount']\n",
    "debt_ratio = prueba['data']['debtRatio']\n",
    "total_income = prueba['revenue']['monthly'] # per month\n",
    "date_solicitud = prueba['form_init_date']\n",
    "pago_inicial = prueba['mortgage_initial']\n",
    "mortgage_rate = prueba['data']['mortgage_rate']\n",
    "\n",
    "pago_inicial"
   ]
  },
  {
   "cell_type": "code",
   "execution_count": null,
   "id": "b1bed551",
   "metadata": {},
   "outputs": [],
   "source": [
    "#data_solicitudes =json.loads(df_solicitudes_clean['mortgage_data'])\n",
    "amount = []\n",
    "debt_ratio = []\n",
    "total_income = []\n",
    "date = []\n",
    "mortgage_inital = []\n",
    "mortgage_rate = []\n",
    "\n",
    "for i in range(df_solicitudes.shape[0]):\n",
    "    solicitud = json.loads(df_solicitudes_clean['mortgage_data'][i])\n",
    "    amount.append(solicitud.get('data', {}).get('amount', None))\n",
    "    total_income.append(solicitud.get('revenue',{}).get('monthly', None))\n",
    "    debt_ratio.append(solicitud.get('data',{}).get('debtRatio', None))\n",
    "    date.append(solicitud.get('form_init_date', None))\n",
    "    mortgage_inital.append(solicitud.get('mortgage_initial', None))\n",
    "    mortgage_rate.append(solicitud.get('data',{}).get('mortgage_rate',None))"
   ]
  },
  {
   "cell_type": "code",
   "execution_count": null,
   "id": "fb8e9888",
   "metadata": {},
   "outputs": [],
   "source": [
    "print(np.shape(amount),\n",
    "np.shape(debt_ratio),\n",
    "np.shape(total_income),\n",
    "np.shape(date),\n",
    "np.shape(mortgage_inital),\n",
    "np.shape(mortgage_rate))"
   ]
  },
  {
   "cell_type": "code",
   "execution_count": null,
   "id": "48d466fe",
   "metadata": {},
   "outputs": [],
   "source": [
    "\n",
    "df_info_solicitud = pd.DataFrame({\n",
    "    'amount': amount,\n",
    "    'debt_ratio': debt_ratio,\n",
    "    'total_income': total_income,\n",
    "    'date': date,\n",
    "    'mortgage_inital': mortgage_inital,\n",
    "    'mortgage_rate': mortgage_rate\n",
    "})"
   ]
  },
  {
   "cell_type": "code",
   "execution_count": null,
   "id": "dcb3e1c7",
   "metadata": {},
   "outputs": [],
   "source": [
    "df_solicitudes_clean_2 = pd.concat([df_solicitudes_clean, df_info_solicitud], axis=1)\n",
    "df_solicitudes_clean_2 = df_solicitudes_clean_2.drop('mortgage_data',axis=1)"
   ]
  },
  {
   "cell_type": "code",
   "execution_count": null,
   "id": "e9d7fa35",
   "metadata": {},
   "outputs": [],
   "source": [
    "df_solicitudes_clean_2.head(2)"
   ]
  },
  {
   "cell_type": "code",
   "execution_count": null,
   "id": "ecae7871",
   "metadata": {},
   "outputs": [],
   "source": [
    "df_registros_y_solicitudes = pd.merge(left=df_registros_clean, right=df_solicitudes_clean_2, left_on='user', right_on='user', how='inner')\n",
    "df_registros_y_solicitudes.head(2)"
   ]
  },
  {
   "cell_type": "code",
   "execution_count": null,
   "id": "9cd0a775",
   "metadata": {},
   "outputs": [],
   "source": [
    "df_registros_y_solicitudes.info()"
   ]
  },
  {
   "cell_type": "code",
   "execution_count": null,
   "id": "60c36ae7",
   "metadata": {},
   "outputs": [],
   "source": [
    "df_ofertas = pd.read_csv('data/ofertas.csv')\n",
    "df_ofertas_aceptadas = pd.read_csv('data/ofertas_aceptadas.csv')"
   ]
  },
  {
   "cell_type": "code",
   "execution_count": null,
   "id": "f76b1803",
   "metadata": {},
   "outputs": [],
   "source": [
    "df_ofertas.head(2)"
   ]
  },
  {
   "cell_type": "code",
   "execution_count": null,
   "id": "1d415553",
   "metadata": {},
   "outputs": [],
   "source": [
    "df_ofertas_clean = df_ofertas.loc[:, ['id', 'mortgage_id', 'status']]\n",
    "df_ofertas_clean.columns = ['id_oferta', 'mortgage_id', 'status_oferta']\n",
    "df_ofertas_clean.head(2)"
   ]
  },
  {
   "cell_type": "code",
   "execution_count": null,
   "id": "e30dbe0a",
   "metadata": {},
   "outputs": [],
   "source": [
    "df_ofertas_aceptadas.head(20)\n",
    "df_ofertas_aceptadas.info()"
   ]
  },
  {
   "cell_type": "code",
   "execution_count": null,
   "id": "75307931",
   "metadata": {},
   "outputs": [],
   "source": [
    "df_ofertas_aceptadas_clean = df_ofertas_aceptadas.loc[:, ['id', 'bid_id', 'closed_at']]\n",
    "df_ofertas_aceptadas_clean.columns = ['id_oferta_aceptada', 'bid_id', 'closed_at']\n",
    "df_ofertas_aceptadas_clean.head(2)"
   ]
  },
  {
   "cell_type": "code",
   "execution_count": null,
   "id": "73a226c4",
   "metadata": {},
   "outputs": [],
   "source": [
    "df_ofertas_merged = pd.merge(left=df_ofertas_clean, right=df_ofertas_aceptadas_clean, left_on='id_oferta', right_on='bid_id')\n",
    "df_ofertas_merged.head()"
   ]
  },
  {
   "cell_type": "code",
   "execution_count": null,
   "id": "a7f7526d",
   "metadata": {},
   "outputs": [],
   "source": [
    "df_ofertas_merged2 = df_ofertas_merged.drop('bid_id', axis=1)\n",
    "df_ofertas_merged2.head(2)"
   ]
  },
  {
   "cell_type": "code",
   "execution_count": null,
   "id": "5b818143",
   "metadata": {},
   "outputs": [],
   "source": [
    "df_registros_y_solicitudes.head(2)"
   ]
  },
  {
   "cell_type": "code",
   "execution_count": null,
   "id": "7f8a478b",
   "metadata": {},
   "outputs": [],
   "source": [
    "print(f'Shape df_registros_y_solicitudes: {df_registros_y_solicitudes.shape}, \\n shape df_ofertas_merged_2: {df_ofertas_merged2.shape}')"
   ]
  },
  {
   "cell_type": "code",
   "execution_count": null,
   "id": "f301cc54",
   "metadata": {},
   "outputs": [],
   "source": [
    "df_merged = pd.merge(left=df_registros_y_solicitudes, right=df_ofertas_merged2, left_on='id_solicitud', right_on='mortgage_id', how='outer')\n",
    "df_merged = df_merged.drop('mortgage_id', axis=1)\n",
    "df_merged.head(10)"
   ]
  },
  {
   "cell_type": "code",
   "execution_count": null,
   "id": "79200f2a",
   "metadata": {},
   "outputs": [],
   "source": [
    "df_merged.info()"
   ]
  },
  {
   "cell_type": "code",
   "execution_count": null,
   "id": "afc8da27",
   "metadata": {},
   "outputs": [],
   "source": [
    "df_merged['total_income'] = pd.to_numeric(df_merged['total_income'], errors='coerce')\n",
    "df_merged.info()"
   ]
  },
  {
   "cell_type": "code",
   "execution_count": null,
   "id": "d955ff6c",
   "metadata": {},
   "outputs": [],
   "source": [
    "df_merged.head(2)"
   ]
  },
  {
   "cell_type": "code",
   "execution_count": null,
   "id": "4476cea2",
   "metadata": {},
   "outputs": [],
   "source": [
    "# Convertimos los tipos\n",
    "df_merged['amount'] = df_merged['amount'].replace('', np.nan)\n",
    "df_merged['amount'] = df_merged['amount'].astype(float)\n",
    "df_merged['date'] = pd.to_datetime(df_merged['date'])\n",
    "df_merged['mortgage_inital'] = df_merged['mortgage_inital'].replace('', np.nan)\n",
    "df_merged['mortgage_inital'] = df_merged['mortgage_inital'].astype(float)\n",
    "df_merged['closed_at'] = pd.to_datetime(df_merged['closed_at'], errors='coerce')\n",
    "df_merged['closed_at'].apply(type).value_counts()\n",
    "\n",
    "df = df_merged.copy()\n",
    "df.info()\n"
   ]
  },
  {
   "cell_type": "code",
   "execution_count": null,
   "id": "46d9020c",
   "metadata": {},
   "outputs": [],
   "source": [
    "def remove_outliers_iqr(df, column, iqr_multiplier=1.5):\n",
    "    \"\"\"\n",
    "    Removes outliers from a specified column in a DataFrame using the IQR method.\n",
    "\n",
    "    Args:\n",
    "        df (pd.DataFrame): The input DataFrame.\n",
    "        column (str): The name of the column to remove outliers from.\n",
    "        iqr_multiplier (float): The multiplier for the IQR to define the outlier fences.\n",
    "                                  Commonly 1.5 for \"mild\" outliers, 3.0 for \"extreme\" outliers.\n",
    "\n",
    "    Returns:\n",
    "        pd.DataFrame: A new DataFrame with outliers removed.\n",
    "    \"\"\"\n",
    "    if column not in df.columns:\n",
    "        raise ValueError(f\"Column '{column}' not found in the DataFrame.\")\n",
    "\n",
    "    # Calculate Q1, Q3, and IQR, ignoring NaN values\n",
    "    Q1 = df[column].quantile(0.25)\n",
    "    Q3 = df[column].quantile(0.75)\n",
    "    IQR = Q3 - Q1\n",
    "\n",
    "    # Define outlier fences\n",
    "    lower_bound = Q1 - iqr_multiplier * IQR\n",
    "    upper_bound = Q3 + iqr_multiplier * IQR\n",
    "\n",
    "    # Filter out outliers. Keep rows where the value is within the bounds OR is NaN.\n",
    "    # We explicitly include NaN values so they are not treated as outliers and are preserved\n",
    "    # if you want to handle them separately later.\n",
    "    filtered_df = df[(df[column] >= lower_bound) & (df[column] <= upper_bound) | (df[column].isna())]\n",
    "\n",
    "    # Optional: Print how many outliers were removed\n",
    "    num_outliers = len(df) - len(filtered_df)\n",
    "    print(f\"Removed {num_outliers} outliers from '{column}' using IQR method (multiplier={iqr_multiplier}).\")\n",
    "\n",
    "    return filtered_df\n",
    "\n",
    "df_clean = df.copy()\n",
    "df_clean = remove_outliers_iqr(df_clean, 'amount', iqr_multiplier=1.5).copy()\n",
    "df_clean = remove_outliers_iqr(df_clean, 'total_income', iqr_multiplier=1.5).copy() # Apply sequentially\n",
    "df_clean = remove_outliers_iqr(df_clean, 'debt_ratio', iqr_multiplier=1.5).copy()\n",
    "\n",
    "df = df_clean.copy()\n",
    "\n",
    "\n",
    "# You can also chain the operations if you prefer\n",
    "# df_clean_chained = df.pipe(remove_outliers_iqr, 'amount').pipe(remove_outliers_iqr, 'total_income').pipe(remove_outliers_iqr, 'debt_ratio')\n",
    "# print(\"\\nCleaned DataFrame (chained operations):\")\n",
    "# print(df_clean_chained)"
   ]
  },
  {
   "cell_type": "code",
   "execution_count": null,
   "id": "d21ebcc1",
   "metadata": {},
   "outputs": [],
   "source": [
    "df.info()"
   ]
  },
  {
   "cell_type": "code",
   "execution_count": null,
   "id": "00500609",
   "metadata": {},
   "outputs": [],
   "source": [
    "interesting_columns = ['amount', 'total_income', 'debt_ratio']\n",
    "mask = df['closed_at'].notna()\n",
    "mask_vendido = mask\n",
    "fig, ax = plt.subplots(len(interesting_columns), 2)\n",
    "for i in range(len(interesting_columns)):\n",
    "    ax[i][0].hist(df[interesting_columns[i]],  bins=30, alpha=0.7)\n",
    "    ax[i,0].hist(df.loc[mask, interesting_columns[i]],  bins=30, alpha=0.7, color='orange')\n",
    "    ax[i,1].hist(df.loc[mask, interesting_columns[i]],  bins=30, alpha=0.7, color='orange')\n",
    "    ax[i, 0].set_title(interesting_columns[i])\n",
    "    ax[i, 1].set_title(interesting_columns[i] + ' exitosos')\n",
    "    print(f'{interesting_columns[i]} mean: {df[interesting_columns[i]].mean()}, exitosos: {df.loc[mask, interesting_columns[i]].mean()}, diferencia: {df[interesting_columns[i]].mean() - df.loc[mask, interesting_columns[i]].mean()}')\n",
    "\n",
    "plt.tight_layout()"
   ]
  },
  {
   "cell_type": "code",
   "execution_count": null,
   "id": "2ea6bbf2",
   "metadata": {},
   "outputs": [],
   "source": [
    "df_dates = df.loc[mask_vendido, ['date', 'closed_at']].copy()\n",
    "df_dates.info()"
   ]
  },
  {
   "cell_type": "code",
   "execution_count": null,
   "id": "ae98aa6f",
   "metadata": {},
   "outputs": [],
   "source": [
    "df_dates['closed_at'] = pd.to_datetime(df_dates['closed_at'], errors='coerce')\n",
    "df_dates.info()\n",
    "df_dates['duration'] = (df_dates['closed_at'] - df_dates['date']).dt.days\n",
    "df_duration = remove_outliers_iqr(df_dates, 'duration', iqr_multiplier=1.5).copy()"
   ]
  },
  {
   "cell_type": "code",
   "execution_count": null,
   "id": "d494b4b8",
   "metadata": {},
   "outputs": [],
   "source": [
    "plt.hist(x=df_dates['duration'], bins=30)\n",
    "print(f\"Mean days: {df_dates['duration'].mean()}, moda days: {df_dates['duration'].mode()}\")"
   ]
  },
  {
   "cell_type": "code",
   "execution_count": null,
   "id": "fb38c34e",
   "metadata": {},
   "outputs": [],
   "source": [
    "plt.hist(x=df_dates['duration'], bins=30)\n",
    "plt.xlim(0,200)\n",
    "print(f\"Mean days: {df_dates['duration'].mean()}, moda days: {df_dates['duration'].mode()}\")"
   ]
  },
  {
   "cell_type": "code",
   "execution_count": null,
   "id": "3c37051a",
   "metadata": {},
   "outputs": [],
   "source": []
  }
 ],
 "metadata": {
  "kernelspec": {
   "display_name": "data_analysis_env",
   "language": "python",
   "name": "python3"
  },
  "language_info": {
   "codemirror_mode": {
    "name": "ipython",
    "version": 3
   },
   "file_extension": ".py",
   "mimetype": "text/x-python",
   "name": "python",
   "nbconvert_exporter": "python",
   "pygments_lexer": "ipython3",
   "version": "3.11.11"
  }
 },
 "nbformat": 4,
 "nbformat_minor": 5
}
