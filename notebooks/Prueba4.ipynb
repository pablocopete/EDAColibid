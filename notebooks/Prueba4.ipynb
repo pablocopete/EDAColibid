{
 "cells": [
  {
   "cell_type": "markdown",
   "id": "f36b56ba",
   "metadata": {},
   "source": [
    "## Preguntas a responder:\n",
    "- ¿Cuál es el cliente típico?\n",
    "- ¿Hay alfuna diferencia entre quien compra y quien no finaliza el proceso? \n",
    "- ¿Los datos siguen algún tipo de estacionalidad?\n",
    "- ¿Cómo se distribuyen las propiedades?"
   ]
  },
  {
   "cell_type": "code",
   "execution_count": 2,
   "id": "568d9114",
   "metadata": {},
   "outputs": [],
   "source": [
    "import pandas as pd\n",
    "import numpy as np\n",
    "import matplotlib.pyplot as plt\n",
    "import seaborn as sns\n",
    "import plotly.express as px\n",
    "import json\n",
    "import geopy"
   ]
  },
  {
   "cell_type": "code",
   "execution_count": 3,
   "id": "5a63fe17",
   "metadata": {},
   "outputs": [
    {
     "name": "stdout",
     "output_type": "stream",
     "text": [
      "Estilo de Colibid configurado para Matplotlib y Seaborn.\n"
     ]
    }
   ],
   "source": [
    "# --- 1. Definir los colores de la marca Colibid ---\n",
    "# Ajusta estos códigos hexadecimales si tienes los colores exactos de la guía de estilo de Colibid\n",
    "COLORES_COLIBID = {\n",
    "    'primary_blue_green': '#03897D', # Turquesa/Azul verdoso (similar al del PDF)\n",
    "    'secondary': '#80BEAB',\n",
    "    'secondary_orange': '#FF8C00',  # Naranja vibrante (similar al de los elementos naranjas del PDF)\n",
    "    'text_dark': '#333333',         # Gris oscuro para el texto\n",
    "    'background_light': '#FFFFFF'   # Blanco puro para fondos\n",
    "}\n",
    "\n",
    "# --- 2. Configurar el estilo de Matplotlib y Seaborn ---\n",
    "# Utilizar un estilo de Seaborn que sea limpio y luego aplicar nuestras personalizaciones\n",
    "sns.set_theme(style=\"whitegrid\", palette=\"deep\") # \"whitegrid\" para el fondo blanco con cuadrículas\n",
    "plt.rcParams['font.family'] = 'Segoe UI' # Fuente limpia, puedes probar 'Arial', 'Verdana'\n",
    "plt.rcParams['axes.titlecolor'] = COLORES_COLIBID['text_dark']\n",
    "plt.rcParams['axes.labelcolor'] = COLORES_COLIBID['text_dark']\n",
    "plt.rcParams['xtick.color'] = COLORES_COLIBID['text_dark']\n",
    "plt.rcParams['ytick.color'] = COLORES_COLIBID['text_dark']\n",
    "plt.rcParams['figure.facecolor'] = COLORES_COLIBID['background_light']\n",
    "plt.rcParams['axes.facecolor'] = COLORES_COLIBID['background_light']\n",
    "plt.rcParams['grid.color'] = '#CCCCCC' # Un gris claro para las líneas de la cuadrícula\n",
    "plt.rcParams['grid.linestyle'] = '--'\n",
    "plt.rcParams['grid.alpha'] = 0.7\n",
    "\n",
    "# Crear una paleta de Seaborn personalizada con los colores de Colibid\n",
    "# Esto es útil para cuando seaborn asigna colores automáticamente\n",
    "colibid_palette = [COLORES_COLIBID['primary_blue_green'], COLORES_COLIBID['secondary_orange'],\n",
    "                   '#7F8C8D', '#9B59B6', '#34495E', '#E74C3C'] # Añade más colores si tienes más categorías\n",
    "\n",
    "# Puedes establecer esta paleta como la predeterminada de Seaborn si quieres\n",
    "# sns.set_palette(colibid_palette)\n",
    "\n",
    "print(\"Estilo de Colibid configurado para Matplotlib y Seaborn.\")"
   ]
  },
  {
   "cell_type": "code",
   "execution_count": 4,
   "id": "cbbe2fd3",
   "metadata": {},
   "outputs": [
    {
     "name": "stderr",
     "output_type": "stream",
     "text": [
      "C:\\Users\\Pablo\\AppData\\Local\\Temp\\ipykernel_8524\\576739487.py:3: DtypeWarning: Columns (13) have mixed types. Specify dtype option on import or set low_memory=False.\n",
      "  df_ofertas = pd.read_csv('data/ofertas.csv')\n",
      "C:\\Users\\Pablo\\AppData\\Local\\Temp\\ipykernel_8524\\576739487.py:4: DtypeWarning: Columns (7,8) have mixed types. Specify dtype option on import or set low_memory=False.\n",
      "  df_registros = pd.read_csv('data/registros.csv')\n",
      "C:\\Users\\Pablo\\AppData\\Local\\Temp\\ipykernel_8524\\576739487.py:5: DtypeWarning: Columns (5,6,23) have mixed types. Specify dtype option on import or set low_memory=False.\n",
      "  df_solicitudes = pd.read_csv('data/solicitudes_de_hipoteca.csv')\n"
     ]
    }
   ],
   "source": [
    "df_dataset_v2 = pd.read_csv('data/dataset_v2.csv')\n",
    "df_ofertas_aceptadas = pd.read_csv('data/ofertas_aceptadas.csv')\n",
    "df_ofertas = pd.read_csv('data/ofertas.csv')\n",
    "df_registros = pd.read_csv('data/registros.csv')\n",
    "df_solicitudes = pd.read_csv('data/solicitudes_de_hipoteca.csv')"
   ]
  },
  {
   "cell_type": "markdown",
   "id": "861b979f",
   "metadata": {},
   "source": [
    "### Exploramos cada dataset para determinar qué queremos estudiar"
   ]
  },
  {
   "cell_type": "code",
   "execution_count": 5,
   "id": "953c6bfb",
   "metadata": {},
   "outputs": [
    {
     "data": {
      "text/html": [
       "<div>\n",
       "<style scoped>\n",
       "    .dataframe tbody tr th:only-of-type {\n",
       "        vertical-align: middle;\n",
       "    }\n",
       "\n",
       "    .dataframe tbody tr th {\n",
       "        vertical-align: top;\n",
       "    }\n",
       "\n",
       "    .dataframe thead th {\n",
       "        text-align: right;\n",
       "    }\n",
       "</style>\n",
       "<table border=\"1\" class=\"dataframe\">\n",
       "  <thead>\n",
       "    <tr style=\"text-align: right;\">\n",
       "      <th></th>\n",
       "      <th>user</th>\n",
       "      <th>created</th>\n",
       "      <th>firstname</th>\n",
       "      <th>lastname</th>\n",
       "      <th>phone</th>\n",
       "      <th>additional</th>\n",
       "      <th>last_access</th>\n",
       "      <th>nbric_data</th>\n",
       "      <th>nbric_solicitud</th>\n",
       "      <th>id</th>\n",
       "      <th>verified</th>\n",
       "      <th>opt_in</th>\n",
       "    </tr>\n",
       "  </thead>\n",
       "  <tbody>\n",
       "    <tr>\n",
       "      <th>0</th>\n",
       "      <td>ivanllama96@gmail.com</td>\n",
       "      <td>2025-05-18T14:17:24.340136+02:00</td>\n",
       "      <td>Iván</td>\n",
       "      <td>Llamazares rodríguez</td>\n",
       "      <td>+34662666642</td>\n",
       "      <td>{\"referral\": \"\", \"has_default_password\": true}</td>\n",
       "      <td>2025-05-18T14:17:25.625119+02:00</td>\n",
       "      <td>NaN</td>\n",
       "      <td>NaN</td>\n",
       "      <td>1c7d8492-55f5-4f2a-8b2e-8722d9dd4af7</td>\n",
       "      <td>False</td>\n",
       "      <td>True</td>\n",
       "    </tr>\n",
       "    <tr>\n",
       "      <th>1</th>\n",
       "      <td>ikertapia@hotmail.com</td>\n",
       "      <td>2025-05-18T11:36:40.215805+02:00</td>\n",
       "      <td>Iker</td>\n",
       "      <td>Tapia saez</td>\n",
       "      <td>+34665722207</td>\n",
       "      <td>{\"ref\": \"https://www.google.com/\", \"url\": \"htt...</td>\n",
       "      <td>2025-05-18T11:36:41.499893+02:00</td>\n",
       "      <td>NaN</td>\n",
       "      <td>NaN</td>\n",
       "      <td>d7a33186-e783-4f41-919e-2049e178060d</td>\n",
       "      <td>False</td>\n",
       "      <td>True</td>\n",
       "    </tr>\n",
       "  </tbody>\n",
       "</table>\n",
       "</div>"
      ],
      "text/plain": [
       "                    user                           created firstname  \\\n",
       "0  ivanllama96@gmail.com  2025-05-18T14:17:24.340136+02:00      Iván   \n",
       "1  ikertapia@hotmail.com  2025-05-18T11:36:40.215805+02:00      Iker   \n",
       "\n",
       "               lastname         phone  \\\n",
       "0  Llamazares rodríguez  +34662666642   \n",
       "1            Tapia saez  +34665722207   \n",
       "\n",
       "                                          additional  \\\n",
       "0     {\"referral\": \"\", \"has_default_password\": true}   \n",
       "1  {\"ref\": \"https://www.google.com/\", \"url\": \"htt...   \n",
       "\n",
       "                        last_access nbric_data nbric_solicitud  \\\n",
       "0  2025-05-18T14:17:25.625119+02:00        NaN             NaN   \n",
       "1  2025-05-18T11:36:41.499893+02:00        NaN             NaN   \n",
       "\n",
       "                                     id  verified  opt_in  \n",
       "0  1c7d8492-55f5-4f2a-8b2e-8722d9dd4af7     False    True  \n",
       "1  d7a33186-e783-4f41-919e-2049e178060d     False    True  "
      ]
     },
     "execution_count": 5,
     "metadata": {},
     "output_type": "execute_result"
    }
   ],
   "source": [
    "df_registros.head(2)"
   ]
  },
  {
   "cell_type": "code",
   "execution_count": 6,
   "id": "2e2304ed",
   "metadata": {},
   "outputs": [
    {
     "data": {
      "text/plain": [
       "user                                            guifreguiu@gmail.com\n",
       "created                             2025-05-18T07:27:38.828718+02:00\n",
       "firstname                                                     Guifré\n",
       "lastname                                                   Guiu amor\n",
       "phone                                                   +34675818081\n",
       "additional         {\"ref\": \"https://colibid.com/\", \"url\": \"https:...\n",
       "last_access                         2025-05-18T07:27:40.117704+02:00\n",
       "nbric_data                                                       NaN\n",
       "nbric_solicitud                                                  NaN\n",
       "id                              bd7cb8c7-fc16-4cf0-8a8d-a581ae74e4e6\n",
       "verified                                                       False\n",
       "opt_in                                                          True\n",
       "Name: 2, dtype: object"
      ]
     },
     "execution_count": 6,
     "metadata": {},
     "output_type": "execute_result"
    }
   ],
   "source": [
    "df_registros.iloc[2,:]"
   ]
  },
  {
   "cell_type": "code",
   "execution_count": 7,
   "id": "1a5cbfca",
   "metadata": {},
   "outputs": [
    {
     "data": {
      "text/html": [
       "<div>\n",
       "<style scoped>\n",
       "    .dataframe tbody tr th:only-of-type {\n",
       "        vertical-align: middle;\n",
       "    }\n",
       "\n",
       "    .dataframe tbody tr th {\n",
       "        vertical-align: top;\n",
       "    }\n",
       "\n",
       "    .dataframe thead th {\n",
       "        text-align: right;\n",
       "    }\n",
       "</style>\n",
       "<table border=\"1\" class=\"dataframe\">\n",
       "  <thead>\n",
       "    <tr style=\"text-align: right;\">\n",
       "      <th></th>\n",
       "      <th>id</th>\n",
       "      <th>user</th>\n",
       "      <th>mortgage_data</th>\n",
       "      <th>created</th>\n",
       "      <th>ends</th>\n",
       "      <th>nbric_data</th>\n",
       "      <th>nbric_solicitud</th>\n",
       "      <th>status</th>\n",
       "      <th>document_status</th>\n",
       "      <th>fullname</th>\n",
       "      <th>...</th>\n",
       "      <th>main_user_complete_truelayer</th>\n",
       "      <th>partner_complete_truelayer</th>\n",
       "      <th>crm_current_step</th>\n",
       "      <th>scoring</th>\n",
       "      <th>crm_bidder_last_comment</th>\n",
       "      <th>crm_bidder_last_value</th>\n",
       "      <th>timeline_version</th>\n",
       "      <th>is_ocr_auto_activated</th>\n",
       "      <th>is_document_complete</th>\n",
       "      <th>matching</th>\n",
       "    </tr>\n",
       "  </thead>\n",
       "  <tbody>\n",
       "    <tr>\n",
       "      <th>0</th>\n",
       "      <td>b9e84995-2c9e-41ad-a256-adfeb60dbc0a</td>\n",
       "      <td>ikeravista@hotmail.com</td>\n",
       "      <td>{\"data\": {\"amount\": 147000.0, \"period\": 20, \"d...</td>\n",
       "      <td>2025-05-18T15:24:39.103635+02:00</td>\n",
       "      <td>2025-05-19T15:24:39.246944+02:00</td>\n",
       "      <td>NaN</td>\n",
       "      <td>NaN</td>\n",
       "      <td>active</td>\n",
       "      <td>pending</td>\n",
       "      <td>Iker Orrantia Montes</td>\n",
       "      <td>...</td>\n",
       "      <td>False</td>\n",
       "      <td>False</td>\n",
       "      <td>NaN</td>\n",
       "      <td>NaN</td>\n",
       "      <td>NaN</td>\n",
       "      <td>NaN</td>\n",
       "      <td>v2</td>\n",
       "      <td>False</td>\n",
       "      <td>False</td>\n",
       "      <td>True</td>\n",
       "    </tr>\n",
       "    <tr>\n",
       "      <th>1</th>\n",
       "      <td>6de9aa20-ff72-43fc-9e93-db339a601f94</td>\n",
       "      <td>ivanllama96@gmail.com</td>\n",
       "      <td>{\"data\": {\"amount\": 85500.0, \"period\": 20, \"de...</td>\n",
       "      <td>2025-05-18T14:22:54.305455+02:00</td>\n",
       "      <td>2025-05-19T14:22:54.473434+02:00</td>\n",
       "      <td>NaN</td>\n",
       "      <td>NaN</td>\n",
       "      <td>active</td>\n",
       "      <td>pending</td>\n",
       "      <td>Iván Llamazares Rodríguez</td>\n",
       "      <td>...</td>\n",
       "      <td>False</td>\n",
       "      <td>False</td>\n",
       "      <td>NaN</td>\n",
       "      <td>NaN</td>\n",
       "      <td>NaN</td>\n",
       "      <td>NaN</td>\n",
       "      <td>v2</td>\n",
       "      <td>False</td>\n",
       "      <td>False</td>\n",
       "      <td>True</td>\n",
       "    </tr>\n",
       "  </tbody>\n",
       "</table>\n",
       "<p>2 rows × 24 columns</p>\n",
       "</div>"
      ],
      "text/plain": [
       "                                     id                    user  \\\n",
       "0  b9e84995-2c9e-41ad-a256-adfeb60dbc0a  ikeravista@hotmail.com   \n",
       "1  6de9aa20-ff72-43fc-9e93-db339a601f94   ivanllama96@gmail.com   \n",
       "\n",
       "                                       mortgage_data  \\\n",
       "0  {\"data\": {\"amount\": 147000.0, \"period\": 20, \"d...   \n",
       "1  {\"data\": {\"amount\": 85500.0, \"period\": 20, \"de...   \n",
       "\n",
       "                            created                              ends  \\\n",
       "0  2025-05-18T15:24:39.103635+02:00  2025-05-19T15:24:39.246944+02:00   \n",
       "1  2025-05-18T14:22:54.305455+02:00  2025-05-19T14:22:54.473434+02:00   \n",
       "\n",
       "  nbric_data nbric_solicitud  status document_status  \\\n",
       "0        NaN             NaN  active         pending   \n",
       "1        NaN             NaN  active         pending   \n",
       "\n",
       "                    fullname  ... main_user_complete_truelayer  \\\n",
       "0       Iker Orrantia Montes  ...                        False   \n",
       "1  Iván Llamazares Rodríguez  ...                        False   \n",
       "\n",
       "  partner_complete_truelayer  crm_current_step  scoring  \\\n",
       "0                      False               NaN      NaN   \n",
       "1                      False               NaN      NaN   \n",
       "\n",
       "   crm_bidder_last_comment  crm_bidder_last_value timeline_version  \\\n",
       "0                      NaN                    NaN               v2   \n",
       "1                      NaN                    NaN               v2   \n",
       "\n",
       "  is_ocr_auto_activated is_document_complete matching  \n",
       "0                 False                False     True  \n",
       "1                 False                False     True  \n",
       "\n",
       "[2 rows x 24 columns]"
      ]
     },
     "execution_count": 7,
     "metadata": {},
     "output_type": "execute_result"
    }
   ],
   "source": [
    "df_solicitudes.head(2)"
   ]
  },
  {
   "cell_type": "code",
   "execution_count": 8,
   "id": "3c6da508",
   "metadata": {},
   "outputs": [
    {
     "data": {
      "text/plain": [
       "id                                           b9e84995-2c9e-41ad-a256-adfeb60dbc0a\n",
       "user                                                       ikeravista@hotmail.com\n",
       "mortgage_data                   {\"data\": {\"amount\": 147000.0, \"period\": 20, \"d...\n",
       "created                                          2025-05-18T15:24:39.103635+02:00\n",
       "ends                                             2025-05-19T15:24:39.246944+02:00\n",
       "nbric_data                                                                    NaN\n",
       "nbric_solicitud                                                               NaN\n",
       "status                                                                     active\n",
       "document_status                                                           pending\n",
       "fullname                                                     Iker Orrantia Montes\n",
       "last_bid_at                                                                   NaN\n",
       "updated_at                                       2025-05-18T15:24:39.247114+02:00\n",
       "main_user_complete_cpin                                                     False\n",
       "partner_complete_cpin                                                       False\n",
       "main_user_complete_truelayer                                                False\n",
       "partner_complete_truelayer                                                  False\n",
       "crm_current_step                                                              NaN\n",
       "scoring                                                                       NaN\n",
       "crm_bidder_last_comment                                                       NaN\n",
       "crm_bidder_last_value                                                         NaN\n",
       "timeline_version                                                               v2\n",
       "is_ocr_auto_activated                                                       False\n",
       "is_document_complete                                                        False\n",
       "matching                                                                     True\n",
       "Name: 0, dtype: object"
      ]
     },
     "execution_count": 8,
     "metadata": {},
     "output_type": "execute_result"
    }
   ],
   "source": [
    "df_solicitudes.iloc[0,:]"
   ]
  },
  {
   "cell_type": "code",
   "execution_count": 9,
   "id": "b0401580",
   "metadata": {},
   "outputs": [
    {
     "data": {
      "text/plain": [
       "{'dni': '16562300T',\n",
       " 'name': 'José Antonio',\n",
       " 'work': 7,\n",
       " 'email': 'lodaan97@hotmail.com',\n",
       " 'phone': '+34619761607',\n",
       " 'salary': 10000.0,\n",
       " 'surname': 'Miguel Rodriguez',\n",
       " 'children': 2,\n",
       " 'type_dni': 'DNI',\n",
       " 'birthdate': '1970-08-04T00:00:00.000Z',\n",
       " 'residence': 'España',\n",
       " 'work_date': '',\n",
       " 'profession': '',\n",
       " 'dni_file_back': '',\n",
       " 'dni_file_front': '',\n",
       " 'marital_status': 2,\n",
       " 'work_init_year': 0,\n",
       " 'work_init_month': '',\n",
       " 'residence_permit': 1,\n",
       " 'has_last_year_tax': '1',\n",
       " 'current_house_situation': 0}"
      ]
     },
     "execution_count": 9,
     "metadata": {},
     "output_type": "execute_result"
    }
   ],
   "source": [
    "json.loads(df_solicitudes.iloc[50,2])['user']#['data']#['address']"
   ]
  },
  {
   "cell_type": "code",
   "execution_count": 10,
   "id": "ed253349",
   "metadata": {},
   "outputs": [
    {
     "data": {
      "text/plain": [
       "{'area': 0,\n",
       " 'city': 'León',\n",
       " 'type': 1,\n",
       " 'arras': '',\n",
       " 'value': 95000.0,\n",
       " 'address': 'Calle Rey Emperador 15, 24009 León, provincia de León, España',\n",
       " 'reserva': '',\n",
       " 'zipcode': '24009',\n",
       " 'province': 'León',\n",
       " 'appraisal': '',\n",
       " 'community': 'Castilla y León',\n",
       " 'notasimple': '',\n",
       " 'hasEndorsement': 2,\n",
       " 'house_situation': 3,\n",
       " 'service_request': {'solar_panel': {'req': False}},\n",
       " 'constructionType': 1,\n",
       " 'project_approved': {'value': '',\n",
       "  'selected_doc_type': '',\n",
       "  'nota_simple_parcela': '',\n",
       "  'project_obra_visado': ''}}"
      ]
     },
     "execution_count": 10,
     "metadata": {},
     "output_type": "execute_result"
    }
   ],
   "source": [
    "json.loads(df_solicitudes.iloc[1,2])['property']"
   ]
  },
  {
   "cell_type": "code",
   "execution_count": 11,
   "id": "31c2e342",
   "metadata": {},
   "outputs": [
    {
     "data": {
      "text/html": [
       "<div>\n",
       "<style scoped>\n",
       "    .dataframe tbody tr th:only-of-type {\n",
       "        vertical-align: middle;\n",
       "    }\n",
       "\n",
       "    .dataframe tbody tr th {\n",
       "        vertical-align: top;\n",
       "    }\n",
       "\n",
       "    .dataframe thead th {\n",
       "        text-align: right;\n",
       "    }\n",
       "</style>\n",
       "<table border=\"1\" class=\"dataframe\">\n",
       "  <thead>\n",
       "    <tr style=\"text-align: right;\">\n",
       "      <th></th>\n",
       "      <th>id</th>\n",
       "      <th>interest_rate</th>\n",
       "      <th>conditions</th>\n",
       "      <th>bidder_id</th>\n",
       "      <th>mortgage_id</th>\n",
       "      <th>created</th>\n",
       "      <th>bid_for</th>\n",
       "      <th>conditions_details</th>\n",
       "      <th>general_fees</th>\n",
       "      <th>interest_data</th>\n",
       "      <th>calculated</th>\n",
       "      <th>is_merged</th>\n",
       "      <th>is_auto</th>\n",
       "      <th>additional_detail</th>\n",
       "      <th>is_active</th>\n",
       "      <th>status</th>\n",
       "    </tr>\n",
       "  </thead>\n",
       "  <tbody>\n",
       "    <tr>\n",
       "      <th>0</th>\n",
       "      <td>88c1f805-7105-4a09-bbc2-8251fd1107f3</td>\n",
       "      <td>0.00</td>\n",
       "      <td>{}</td>\n",
       "      <td>6e64183d-0651-45db-9ab9-2edddf23f7a2</td>\n",
       "      <td>6e2af030-b8f9-450e-ab00-431b4a0727d5</td>\n",
       "      <td>2025-05-18T19:20:45.856859+02:00</td>\n",
       "      <td>{\"id\": 107, \"logo\": null, \"name\": \"ING\", \"hidd...</td>\n",
       "      <td>[{\"code\": \"b01\", \"allow\": true, \"interest_rate...</td>\n",
       "      <td>{\"values\": {\"net_fees\": 1700.0, \"total_fees\": ...</td>\n",
       "      <td>{\"mode\": \"mixto\", \"interest\": [{\"mode\": \"fijo\"...</td>\n",
       "      <td>{\"deposit\": 24000, \"monthly\": 388.461053185204...</td>\n",
       "      <td>False</td>\n",
       "      <td>True</td>\n",
       "      <td>NaN</td>\n",
       "      <td>True</td>\n",
       "      <td>pending</td>\n",
       "    </tr>\n",
       "    <tr>\n",
       "      <th>1</th>\n",
       "      <td>005d1ec8-a0be-4840-876e-4d588f082b99</td>\n",
       "      <td>2.09</td>\n",
       "      <td>{}</td>\n",
       "      <td>eecfc900-0c6e-4961-b842-770e98e5b2e7</td>\n",
       "      <td>b21e4b70-fab9-4de1-a6b2-a463344ddd38</td>\n",
       "      <td>2025-05-18T19:18:12.565669+02:00</td>\n",
       "      <td>{\"id\": 77, \"logo\": null, \"name\": \"Caja Rural d...</td>\n",
       "      <td>[{\"code\": \"b01\", \"allow\": true, \"interest_rate...</td>\n",
       "      <td>{\"values\": {\"net_fees\": 0, \"total_fees\": 0, \"c...</td>\n",
       "      <td>{\"mode\": \"fijo\", \"rate\": \"2.09\"}</td>\n",
       "      <td>{\"deposit\": 51000, \"monthly\": 426.515395312381...</td>\n",
       "      <td>False</td>\n",
       "      <td>True</td>\n",
       "      <td>2.09% FIJO los primeros 12 meses. A partir de ...</td>\n",
       "      <td>True</td>\n",
       "      <td>accepted</td>\n",
       "    </tr>\n",
       "  </tbody>\n",
       "</table>\n",
       "</div>"
      ],
      "text/plain": [
       "                                     id  interest_rate conditions  \\\n",
       "0  88c1f805-7105-4a09-bbc2-8251fd1107f3           0.00         {}   \n",
       "1  005d1ec8-a0be-4840-876e-4d588f082b99           2.09         {}   \n",
       "\n",
       "                              bidder_id                           mortgage_id  \\\n",
       "0  6e64183d-0651-45db-9ab9-2edddf23f7a2  6e2af030-b8f9-450e-ab00-431b4a0727d5   \n",
       "1  eecfc900-0c6e-4961-b842-770e98e5b2e7  b21e4b70-fab9-4de1-a6b2-a463344ddd38   \n",
       "\n",
       "                            created  \\\n",
       "0  2025-05-18T19:20:45.856859+02:00   \n",
       "1  2025-05-18T19:18:12.565669+02:00   \n",
       "\n",
       "                                             bid_for  \\\n",
       "0  {\"id\": 107, \"logo\": null, \"name\": \"ING\", \"hidd...   \n",
       "1  {\"id\": 77, \"logo\": null, \"name\": \"Caja Rural d...   \n",
       "\n",
       "                                  conditions_details  \\\n",
       "0  [{\"code\": \"b01\", \"allow\": true, \"interest_rate...   \n",
       "1  [{\"code\": \"b01\", \"allow\": true, \"interest_rate...   \n",
       "\n",
       "                                        general_fees  \\\n",
       "0  {\"values\": {\"net_fees\": 1700.0, \"total_fees\": ...   \n",
       "1  {\"values\": {\"net_fees\": 0, \"total_fees\": 0, \"c...   \n",
       "\n",
       "                                       interest_data  \\\n",
       "0  {\"mode\": \"mixto\", \"interest\": [{\"mode\": \"fijo\"...   \n",
       "1                   {\"mode\": \"fijo\", \"rate\": \"2.09\"}   \n",
       "\n",
       "                                          calculated  is_merged  is_auto  \\\n",
       "0  {\"deposit\": 24000, \"monthly\": 388.461053185204...      False     True   \n",
       "1  {\"deposit\": 51000, \"monthly\": 426.515395312381...      False     True   \n",
       "\n",
       "                                   additional_detail  is_active    status  \n",
       "0                                                NaN       True   pending  \n",
       "1  2.09% FIJO los primeros 12 meses. A partir de ...       True  accepted  "
      ]
     },
     "execution_count": 11,
     "metadata": {},
     "output_type": "execute_result"
    }
   ],
   "source": [
    "df_ofertas.head(2)"
   ]
  },
  {
   "cell_type": "code",
   "execution_count": 12,
   "id": "fad45bb1",
   "metadata": {},
   "outputs": [
    {
     "data": {
      "text/plain": [
       "'Sabadell'"
      ]
     },
     "execution_count": 12,
     "metadata": {},
     "output_type": "execute_result"
    }
   ],
   "source": [
    "json.loads(df_ofertas.iloc[8, 6])['id']\n",
    "json.loads(df_ofertas.iloc[8, 6])['name']"
   ]
  },
  {
   "cell_type": "code",
   "execution_count": 13,
   "id": "06b8c95c",
   "metadata": {},
   "outputs": [
    {
     "data": {
      "text/html": [
       "<div>\n",
       "<style scoped>\n",
       "    .dataframe tbody tr th:only-of-type {\n",
       "        vertical-align: middle;\n",
       "    }\n",
       "\n",
       "    .dataframe tbody tr th {\n",
       "        vertical-align: top;\n",
       "    }\n",
       "\n",
       "    .dataframe thead th {\n",
       "        text-align: right;\n",
       "    }\n",
       "</style>\n",
       "<table border=\"1\" class=\"dataframe\">\n",
       "  <thead>\n",
       "    <tr style=\"text-align: right;\">\n",
       "      <th></th>\n",
       "      <th>id</th>\n",
       "      <th>bidder_accepted</th>\n",
       "      <th>solicitor_accepted</th>\n",
       "      <th>bid_id</th>\n",
       "      <th>seen</th>\n",
       "      <th>accept_financed_commission</th>\n",
       "      <th>closed_at</th>\n",
       "    </tr>\n",
       "  </thead>\n",
       "  <tbody>\n",
       "    <tr>\n",
       "      <th>0</th>\n",
       "      <td>19916</td>\n",
       "      <td>NaN</td>\n",
       "      <td>2025-05-18T19:27:18.878266+02:00</td>\n",
       "      <td>005d1ec8-a0be-4840-876e-4d588f082b99</td>\n",
       "      <td>NaN</td>\n",
       "      <td>False</td>\n",
       "      <td>NaN</td>\n",
       "    </tr>\n",
       "    <tr>\n",
       "      <th>1</th>\n",
       "      <td>19915</td>\n",
       "      <td>NaN</td>\n",
       "      <td>2025-05-18T18:19:26.536066+02:00</td>\n",
       "      <td>578cf6e6-40f4-4f00-a7fe-4432eafac86c</td>\n",
       "      <td>NaN</td>\n",
       "      <td>False</td>\n",
       "      <td>NaN</td>\n",
       "    </tr>\n",
       "  </tbody>\n",
       "</table>\n",
       "</div>"
      ],
      "text/plain": [
       "      id bidder_accepted                solicitor_accepted  \\\n",
       "0  19916             NaN  2025-05-18T19:27:18.878266+02:00   \n",
       "1  19915             NaN  2025-05-18T18:19:26.536066+02:00   \n",
       "\n",
       "                                 bid_id seen  accept_financed_commission  \\\n",
       "0  005d1ec8-a0be-4840-876e-4d588f082b99  NaN                       False   \n",
       "1  578cf6e6-40f4-4f00-a7fe-4432eafac86c  NaN                       False   \n",
       "\n",
       "  closed_at  \n",
       "0       NaN  \n",
       "1       NaN  "
      ]
     },
     "execution_count": 13,
     "metadata": {},
     "output_type": "execute_result"
    }
   ],
   "source": [
    "df_ofertas_aceptadas.head(2)"
   ]
  },
  {
   "cell_type": "markdown",
   "id": "b24cc98a",
   "metadata": {},
   "source": [
    "### Seleccionamos columnas y hacemos los merge\n",
    "\n",
    "- De registros nos interesa el id y sacar el json de mortgage data y de ahí:\n",
    "    * data -> amount, debtRatio\n",
    "    * property -> zipcode\n",
    "\n",
    "- De ofertas nos interesa id, mortgage_id, created, del json el nombre del banco\n",
    "- De ofertas aceptadas, la fecha de aceptación y el bid_id\n",
    "\n",
    "merge1: solicitudes(id) == ofertas(mortgage_id)\n",
    "merge2: ofertas_aceptadas(bid_id) = ofertas(id)"
   ]
  },
  {
   "cell_type": "code",
   "execution_count": 14,
   "id": "0907e9a5",
   "metadata": {},
   "outputs": [],
   "source": [
    "# Solicitudes\n",
    "amount = []\n",
    "debtRatio = []\n",
    "zipcode = []\n",
    "salary = []\n",
    "birth = []\n",
    "work = []\n",
    "\n",
    "for i in range(df_solicitudes.shape[0]):\n",
    "    amount.append(json.loads(df_solicitudes.iloc[i,2])['data']['amount'])\n",
    "    debtRatio.append(json.loads(df_solicitudes.iloc[i,2]).get('data').get('debtRatio'))\n",
    "    zipcode.append(json.loads(df_solicitudes.iloc[i,2])['property']['zipcode'])\n",
    "    salary.append(json.loads(df_solicitudes.iloc[i,2])['revenue']['monthly'])\n",
    "    birth.append(json.loads(df_solicitudes.iloc[i,2])['user']['birthdate'])\n",
    "    work.append(int(json.loads(df_solicitudes.iloc[i,2])['user']['work']))\n"
   ]
  },
  {
   "cell_type": "code",
   "execution_count": 15,
   "id": "0e54ad6b",
   "metadata": {},
   "outputs": [
    {
     "data": {
      "text/html": [
       "<div>\n",
       "<style scoped>\n",
       "    .dataframe tbody tr th:only-of-type {\n",
       "        vertical-align: middle;\n",
       "    }\n",
       "\n",
       "    .dataframe tbody tr th {\n",
       "        vertical-align: top;\n",
       "    }\n",
       "\n",
       "    .dataframe thead th {\n",
       "        text-align: right;\n",
       "    }\n",
       "</style>\n",
       "<table border=\"1\" class=\"dataframe\">\n",
       "  <thead>\n",
       "    <tr style=\"text-align: right;\">\n",
       "      <th></th>\n",
       "      <th>id_solicitud</th>\n",
       "      <th>amount</th>\n",
       "      <th>debtRatio</th>\n",
       "      <th>zipcode</th>\n",
       "      <th>salary</th>\n",
       "      <th>birth</th>\n",
       "      <th>work</th>\n",
       "    </tr>\n",
       "  </thead>\n",
       "  <tbody>\n",
       "    <tr>\n",
       "      <th>0</th>\n",
       "      <td>b9e84995-2c9e-41ad-a256-adfeb60dbc0a</td>\n",
       "      <td>147000.0</td>\n",
       "      <td>39.0</td>\n",
       "      <td>48960</td>\n",
       "      <td>2200.0</td>\n",
       "      <td>1984-05-04T00:00:00.000Z</td>\n",
       "      <td>1</td>\n",
       "    </tr>\n",
       "    <tr>\n",
       "      <th>1</th>\n",
       "      <td>6de9aa20-ff72-43fc-9e93-db339a601f94</td>\n",
       "      <td>85500.0</td>\n",
       "      <td>21.0</td>\n",
       "      <td>24009</td>\n",
       "      <td>2400.0</td>\n",
       "      <td>1996-04-19T12:15:48.000Z</td>\n",
       "      <td>1</td>\n",
       "    </tr>\n",
       "    <tr>\n",
       "      <th>2</th>\n",
       "      <td>35f65000-638e-4cf9-aa09-72af00f5c606</td>\n",
       "      <td>251200.0</td>\n",
       "      <td>25.0</td>\n",
       "      <td>08590</td>\n",
       "      <td>4500.0</td>\n",
       "      <td>1997-04-27T09:39:04.000Z</td>\n",
       "      <td>7</td>\n",
       "    </tr>\n",
       "    <tr>\n",
       "      <th>3</th>\n",
       "      <td>3fca2ee5-8743-453b-b1cb-312ed81ef7e7</td>\n",
       "      <td>320000.0</td>\n",
       "      <td>29.0</td>\n",
       "      <td>08015</td>\n",
       "      <td>4900.0</td>\n",
       "      <td>1984-09-18T08:54:49.000Z</td>\n",
       "      <td>1</td>\n",
       "    </tr>\n",
       "    <tr>\n",
       "      <th>4</th>\n",
       "      <td>094a023f-7a4d-4bc1-aeb0-fbd55bbfe6db</td>\n",
       "      <td>75000.0</td>\n",
       "      <td>24.0</td>\n",
       "      <td>18620</td>\n",
       "      <td>4000.0</td>\n",
       "      <td>1988-09-16T00:00:00.000Z</td>\n",
       "      <td>7</td>\n",
       "    </tr>\n",
       "  </tbody>\n",
       "</table>\n",
       "</div>"
      ],
      "text/plain": [
       "                           id_solicitud    amount  debtRatio zipcode  salary  \\\n",
       "0  b9e84995-2c9e-41ad-a256-adfeb60dbc0a  147000.0       39.0   48960  2200.0   \n",
       "1  6de9aa20-ff72-43fc-9e93-db339a601f94   85500.0       21.0   24009  2400.0   \n",
       "2  35f65000-638e-4cf9-aa09-72af00f5c606  251200.0       25.0   08590  4500.0   \n",
       "3  3fca2ee5-8743-453b-b1cb-312ed81ef7e7  320000.0       29.0   08015  4900.0   \n",
       "4  094a023f-7a4d-4bc1-aeb0-fbd55bbfe6db   75000.0       24.0   18620  4000.0   \n",
       "\n",
       "                      birth  work  \n",
       "0  1984-05-04T00:00:00.000Z     1  \n",
       "1  1996-04-19T12:15:48.000Z     1  \n",
       "2  1997-04-27T09:39:04.000Z     7  \n",
       "3  1984-09-18T08:54:49.000Z     1  \n",
       "4  1988-09-16T00:00:00.000Z     7  "
      ]
     },
     "execution_count": 15,
     "metadata": {},
     "output_type": "execute_result"
    }
   ],
   "source": [
    "my_dict = {'id_solicitud': df_solicitudes.loc[:, 'id'].copy(),\n",
    "           'amount': amount.copy(),\n",
    "           'debtRatio': debtRatio.copy(),\n",
    "           'zipcode': zipcode.copy(),\n",
    "           'salary': salary.copy(),\n",
    "           'birth': birth.copy(),\n",
    "           'work': work.copy()}\n",
    "\n",
    "df_solicitudes_clean = pd.DataFrame(my_dict)\n",
    "df_solicitudes_clean.head(5)"
   ]
  },
  {
   "cell_type": "code",
   "execution_count": 16,
   "id": "b230e695",
   "metadata": {},
   "outputs": [
    {
     "data": {
      "text/html": [
       "<div>\n",
       "<style scoped>\n",
       "    .dataframe tbody tr th:only-of-type {\n",
       "        vertical-align: middle;\n",
       "    }\n",
       "\n",
       "    .dataframe tbody tr th {\n",
       "        vertical-align: top;\n",
       "    }\n",
       "\n",
       "    .dataframe thead th {\n",
       "        text-align: right;\n",
       "    }\n",
       "</style>\n",
       "<table border=\"1\" class=\"dataframe\">\n",
       "  <thead>\n",
       "    <tr style=\"text-align: right;\">\n",
       "      <th></th>\n",
       "      <th>id_oferta</th>\n",
       "      <th>mortgage_id</th>\n",
       "      <th>date_offer</th>\n",
       "    </tr>\n",
       "  </thead>\n",
       "  <tbody>\n",
       "    <tr>\n",
       "      <th>0</th>\n",
       "      <td>88c1f805-7105-4a09-bbc2-8251fd1107f3</td>\n",
       "      <td>6e2af030-b8f9-450e-ab00-431b4a0727d5</td>\n",
       "      <td>2025-05-18T19:20:45.856859+02:00</td>\n",
       "    </tr>\n",
       "    <tr>\n",
       "      <th>1</th>\n",
       "      <td>005d1ec8-a0be-4840-876e-4d588f082b99</td>\n",
       "      <td>b21e4b70-fab9-4de1-a6b2-a463344ddd38</td>\n",
       "      <td>2025-05-18T19:18:12.565669+02:00</td>\n",
       "    </tr>\n",
       "  </tbody>\n",
       "</table>\n",
       "</div>"
      ],
      "text/plain": [
       "                              id_oferta                           mortgage_id  \\\n",
       "0  88c1f805-7105-4a09-bbc2-8251fd1107f3  6e2af030-b8f9-450e-ab00-431b4a0727d5   \n",
       "1  005d1ec8-a0be-4840-876e-4d588f082b99  b21e4b70-fab9-4de1-a6b2-a463344ddd38   \n",
       "\n",
       "                         date_offer  \n",
       "0  2025-05-18T19:20:45.856859+02:00  \n",
       "1  2025-05-18T19:18:12.565669+02:00  "
      ]
     },
     "execution_count": 16,
     "metadata": {},
     "output_type": "execute_result"
    }
   ],
   "source": [
    "# Ofertas\n",
    "df_ofertas_clean = df_ofertas.loc[:,['id', 'mortgage_id', 'created']].copy()\n",
    "df_ofertas_clean.columns = ['id_oferta', 'mortgage_id', 'date_offer']\n",
    "df_ofertas_clean.head(2)"
   ]
  },
  {
   "cell_type": "code",
   "execution_count": 17,
   "id": "33fd9e12",
   "metadata": {},
   "outputs": [],
   "source": [
    "# Ofertas aceptadas\n",
    "df_ofertas_aceptadas_clean = df_ofertas_aceptadas.loc[:, ['bid_id', 'solicitor_accepted']].copy()\n",
    "df_ofertas_aceptadas_clean.columns = ['bid_id', 'date_accepted']"
   ]
  },
  {
   "cell_type": "code",
   "execution_count": 18,
   "id": "cb34fd96",
   "metadata": {},
   "outputs": [
    {
     "data": {
      "text/html": [
       "<div>\n",
       "<style scoped>\n",
       "    .dataframe tbody tr th:only-of-type {\n",
       "        vertical-align: middle;\n",
       "    }\n",
       "\n",
       "    .dataframe tbody tr th {\n",
       "        vertical-align: top;\n",
       "    }\n",
       "\n",
       "    .dataframe thead th {\n",
       "        text-align: right;\n",
       "    }\n",
       "</style>\n",
       "<table border=\"1\" class=\"dataframe\">\n",
       "  <thead>\n",
       "    <tr style=\"text-align: right;\">\n",
       "      <th></th>\n",
       "      <th>id_solicitud</th>\n",
       "      <th>amount</th>\n",
       "      <th>debtRatio</th>\n",
       "      <th>zipcode</th>\n",
       "      <th>salary</th>\n",
       "      <th>birth</th>\n",
       "      <th>work</th>\n",
       "      <th>id_oferta</th>\n",
       "      <th>mortgage_id</th>\n",
       "      <th>date_offer</th>\n",
       "    </tr>\n",
       "  </thead>\n",
       "  <tbody>\n",
       "    <tr>\n",
       "      <th>0</th>\n",
       "      <td>6de9aa20-ff72-43fc-9e93-db339a601f94</td>\n",
       "      <td>85500.0</td>\n",
       "      <td>21.0</td>\n",
       "      <td>24009</td>\n",
       "      <td>2400.0</td>\n",
       "      <td>1996-04-19T12:15:48.000Z</td>\n",
       "      <td>1</td>\n",
       "      <td>0be79779-aaea-4ee0-8265-d727d8e40acc</td>\n",
       "      <td>6de9aa20-ff72-43fc-9e93-db339a601f94</td>\n",
       "      <td>2025-05-18T19:06:27.903167+02:00</td>\n",
       "    </tr>\n",
       "    <tr>\n",
       "      <th>1</th>\n",
       "      <td>6de9aa20-ff72-43fc-9e93-db339a601f94</td>\n",
       "      <td>85500.0</td>\n",
       "      <td>21.0</td>\n",
       "      <td>24009</td>\n",
       "      <td>2400.0</td>\n",
       "      <td>1996-04-19T12:15:48.000Z</td>\n",
       "      <td>1</td>\n",
       "      <td>d49986b0-0c47-478c-98b3-802374a22b39</td>\n",
       "      <td>6de9aa20-ff72-43fc-9e93-db339a601f94</td>\n",
       "      <td>2025-05-18T16:00:54.613118+02:00</td>\n",
       "    </tr>\n",
       "  </tbody>\n",
       "</table>\n",
       "</div>"
      ],
      "text/plain": [
       "                           id_solicitud   amount  debtRatio zipcode  salary  \\\n",
       "0  6de9aa20-ff72-43fc-9e93-db339a601f94  85500.0       21.0   24009  2400.0   \n",
       "1  6de9aa20-ff72-43fc-9e93-db339a601f94  85500.0       21.0   24009  2400.0   \n",
       "\n",
       "                      birth  work                             id_oferta  \\\n",
       "0  1996-04-19T12:15:48.000Z     1  0be79779-aaea-4ee0-8265-d727d8e40acc   \n",
       "1  1996-04-19T12:15:48.000Z     1  d49986b0-0c47-478c-98b3-802374a22b39   \n",
       "\n",
       "                            mortgage_id                        date_offer  \n",
       "0  6de9aa20-ff72-43fc-9e93-db339a601f94  2025-05-18T19:06:27.903167+02:00  \n",
       "1  6de9aa20-ff72-43fc-9e93-db339a601f94  2025-05-18T16:00:54.613118+02:00  "
      ]
     },
     "execution_count": 18,
     "metadata": {},
     "output_type": "execute_result"
    }
   ],
   "source": [
    "# Merge 1\n",
    "df_merge1 = pd.merge(left=df_solicitudes_clean, right=df_ofertas_clean, left_on='id_solicitud', right_on='mortgage_id')\n",
    "df_merge1.head(2)"
   ]
  },
  {
   "cell_type": "code",
   "execution_count": 19,
   "id": "76a284a7",
   "metadata": {},
   "outputs": [
    {
     "data": {
      "text/html": [
       "<div>\n",
       "<style scoped>\n",
       "    .dataframe tbody tr th:only-of-type {\n",
       "        vertical-align: middle;\n",
       "    }\n",
       "\n",
       "    .dataframe tbody tr th {\n",
       "        vertical-align: top;\n",
       "    }\n",
       "\n",
       "    .dataframe thead th {\n",
       "        text-align: right;\n",
       "    }\n",
       "</style>\n",
       "<table border=\"1\" class=\"dataframe\">\n",
       "  <thead>\n",
       "    <tr style=\"text-align: right;\">\n",
       "      <th></th>\n",
       "      <th>id_solicitud</th>\n",
       "      <th>amount</th>\n",
       "      <th>debtRatio</th>\n",
       "      <th>zipcode</th>\n",
       "      <th>salary</th>\n",
       "      <th>birth</th>\n",
       "      <th>work</th>\n",
       "      <th>id_oferta</th>\n",
       "      <th>mortgage_id</th>\n",
       "      <th>date_offer</th>\n",
       "      <th>bid_id</th>\n",
       "      <th>date_accepted</th>\n",
       "    </tr>\n",
       "  </thead>\n",
       "  <tbody>\n",
       "    <tr>\n",
       "      <th>0</th>\n",
       "      <td>3b8a765c-7df8-4eb1-aca4-c6b7edaaacb0</td>\n",
       "      <td>145000.0</td>\n",
       "      <td>19.0</td>\n",
       "      <td>28002</td>\n",
       "      <td>5000.0</td>\n",
       "      <td>1990-10-11T00:00:00.000Z</td>\n",
       "      <td>1.0</td>\n",
       "      <td>00002696-f697-4b04-81ae-e9f2e9e61e9a</td>\n",
       "      <td>3b8a765c-7df8-4eb1-aca4-c6b7edaaacb0</td>\n",
       "      <td>2023-09-16T15:32:04.93938+02:00</td>\n",
       "      <td>NaN</td>\n",
       "      <td>NaN</td>\n",
       "    </tr>\n",
       "    <tr>\n",
       "      <th>1</th>\n",
       "      <td>69ad771c-0d5a-486a-92f9-29935886f990</td>\n",
       "      <td>131237.0</td>\n",
       "      <td>26.0</td>\n",
       "      <td>08529</td>\n",
       "      <td>2709.0</td>\n",
       "      <td>1971-08-01T10:21:38.000Z</td>\n",
       "      <td>1.0</td>\n",
       "      <td>00009c12-1fcf-48c6-aa43-7315f9e7f017</td>\n",
       "      <td>69ad771c-0d5a-486a-92f9-29935886f990</td>\n",
       "      <td>2024-05-19T14:24:33.103739+02:00</td>\n",
       "      <td>NaN</td>\n",
       "      <td>NaN</td>\n",
       "    </tr>\n",
       "  </tbody>\n",
       "</table>\n",
       "</div>"
      ],
      "text/plain": [
       "                           id_solicitud    amount  debtRatio zipcode  salary  \\\n",
       "0  3b8a765c-7df8-4eb1-aca4-c6b7edaaacb0  145000.0       19.0   28002  5000.0   \n",
       "1  69ad771c-0d5a-486a-92f9-29935886f990  131237.0       26.0   08529  2709.0   \n",
       "\n",
       "                      birth  work                             id_oferta  \\\n",
       "0  1990-10-11T00:00:00.000Z   1.0  00002696-f697-4b04-81ae-e9f2e9e61e9a   \n",
       "1  1971-08-01T10:21:38.000Z   1.0  00009c12-1fcf-48c6-aa43-7315f9e7f017   \n",
       "\n",
       "                            mortgage_id                        date_offer  \\\n",
       "0  3b8a765c-7df8-4eb1-aca4-c6b7edaaacb0   2023-09-16T15:32:04.93938+02:00   \n",
       "1  69ad771c-0d5a-486a-92f9-29935886f990  2024-05-19T14:24:33.103739+02:00   \n",
       "\n",
       "  bid_id date_accepted  \n",
       "0    NaN           NaN  \n",
       "1    NaN           NaN  "
      ]
     },
     "execution_count": 19,
     "metadata": {},
     "output_type": "execute_result"
    }
   ],
   "source": [
    "# Merge 2\n",
    "df_merge2 = pd.merge(left=df_merge1, right=df_ofertas_aceptadas_clean, left_on='id_oferta', right_on='bid_id', how='outer')\n",
    "df_merge2.head(2)"
   ]
  },
  {
   "cell_type": "code",
   "execution_count": 20,
   "id": "66f5c60f",
   "metadata": {},
   "outputs": [],
   "source": [
    "df = df_merge2.drop(['bid_id', 'mortgage_id'], axis=1).copy()"
   ]
  },
  {
   "cell_type": "code",
   "execution_count": 21,
   "id": "78c3651f",
   "metadata": {},
   "outputs": [
    {
     "data": {
      "text/html": [
       "<div>\n",
       "<style scoped>\n",
       "    .dataframe tbody tr th:only-of-type {\n",
       "        vertical-align: middle;\n",
       "    }\n",
       "\n",
       "    .dataframe tbody tr th {\n",
       "        vertical-align: top;\n",
       "    }\n",
       "\n",
       "    .dataframe thead th {\n",
       "        text-align: right;\n",
       "    }\n",
       "</style>\n",
       "<table border=\"1\" class=\"dataframe\">\n",
       "  <thead>\n",
       "    <tr style=\"text-align: right;\">\n",
       "      <th></th>\n",
       "      <th>id_solicitud</th>\n",
       "      <th>amount</th>\n",
       "      <th>debtRatio</th>\n",
       "      <th>zipcode</th>\n",
       "      <th>salary</th>\n",
       "      <th>birth</th>\n",
       "      <th>work</th>\n",
       "      <th>id_oferta</th>\n",
       "      <th>date_offer</th>\n",
       "      <th>date_accepted</th>\n",
       "    </tr>\n",
       "  </thead>\n",
       "  <tbody>\n",
       "    <tr>\n",
       "      <th>0</th>\n",
       "      <td>3b8a765c-7df8-4eb1-aca4-c6b7edaaacb0</td>\n",
       "      <td>145000.0</td>\n",
       "      <td>19.0</td>\n",
       "      <td>28002</td>\n",
       "      <td>5000.0</td>\n",
       "      <td>1990-10-11T00:00:00.000Z</td>\n",
       "      <td>1.0</td>\n",
       "      <td>00002696-f697-4b04-81ae-e9f2e9e61e9a</td>\n",
       "      <td>2023-09-16T15:32:04.93938+02:00</td>\n",
       "      <td>NaN</td>\n",
       "    </tr>\n",
       "    <tr>\n",
       "      <th>1</th>\n",
       "      <td>69ad771c-0d5a-486a-92f9-29935886f990</td>\n",
       "      <td>131237.0</td>\n",
       "      <td>26.0</td>\n",
       "      <td>08529</td>\n",
       "      <td>2709.0</td>\n",
       "      <td>1971-08-01T10:21:38.000Z</td>\n",
       "      <td>1.0</td>\n",
       "      <td>00009c12-1fcf-48c6-aa43-7315f9e7f017</td>\n",
       "      <td>2024-05-19T14:24:33.103739+02:00</td>\n",
       "      <td>NaN</td>\n",
       "    </tr>\n",
       "  </tbody>\n",
       "</table>\n",
       "</div>"
      ],
      "text/plain": [
       "                           id_solicitud    amount  debtRatio zipcode  salary  \\\n",
       "0  3b8a765c-7df8-4eb1-aca4-c6b7edaaacb0  145000.0       19.0   28002  5000.0   \n",
       "1  69ad771c-0d5a-486a-92f9-29935886f990  131237.0       26.0   08529  2709.0   \n",
       "\n",
       "                      birth  work                             id_oferta  \\\n",
       "0  1990-10-11T00:00:00.000Z   1.0  00002696-f697-4b04-81ae-e9f2e9e61e9a   \n",
       "1  1971-08-01T10:21:38.000Z   1.0  00009c12-1fcf-48c6-aa43-7315f9e7f017   \n",
       "\n",
       "                         date_offer date_accepted  \n",
       "0   2023-09-16T15:32:04.93938+02:00           NaN  \n",
       "1  2024-05-19T14:24:33.103739+02:00           NaN  "
      ]
     },
     "execution_count": 21,
     "metadata": {},
     "output_type": "execute_result"
    }
   ],
   "source": [
    "df.head(2)"
   ]
  },
  {
   "cell_type": "code",
   "execution_count": 22,
   "id": "7526e8d6",
   "metadata": {},
   "outputs": [
    {
     "name": "stdout",
     "output_type": "stream",
     "text": [
      "<class 'pandas.core.frame.DataFrame'>\n",
      "RangeIndex: 313576 entries, 0 to 313575\n",
      "Data columns (total 10 columns):\n",
      " #   Column         Non-Null Count   Dtype  \n",
      "---  ------         --------------   -----  \n",
      " 0   id_solicitud   313574 non-null  object \n",
      " 1   amount         313574 non-null  object \n",
      " 2   debtRatio      293148 non-null  float64\n",
      " 3   zipcode        313574 non-null  object \n",
      " 4   salary         313574 non-null  object \n",
      " 5   birth          313574 non-null  object \n",
      " 6   work           313574 non-null  float64\n",
      " 7   id_oferta      313574 non-null  object \n",
      " 8   date_offer     313574 non-null  object \n",
      " 9   date_accepted  19366 non-null   object \n",
      "dtypes: float64(2), object(8)\n",
      "memory usage: 23.9+ MB\n"
     ]
    }
   ],
   "source": [
    "df.info()"
   ]
  },
  {
   "cell_type": "code",
   "execution_count": 23,
   "id": "e464f07e",
   "metadata": {},
   "outputs": [],
   "source": [
    "df['amount'] = df['amount'].astype(float).copy()\n",
    "df['salary'] = pd.to_numeric(df['salary'], errors='coerce')\n",
    "df['date_offer'] = pd.to_datetime(df['date_offer'], utc=True).copy()\n",
    "df['date_accepted'] = pd.to_datetime(df['date_accepted'], utc=True, errors='coerce').copy()\n",
    "df['age'] = (pd.to_datetime('2025-05-25', utc=True)- pd.to_datetime(df['birth'], utc=True, errors='coerce').copy()).dt.days//365\n",
    "df = df.drop('birth', axis=1)"
   ]
  },
  {
   "cell_type": "code",
   "execution_count": 24,
   "id": "4f7d0ebe",
   "metadata": {},
   "outputs": [
    {
     "name": "stdout",
     "output_type": "stream",
     "text": [
      "<class 'pandas.core.frame.DataFrame'>\n",
      "RangeIndex: 313576 entries, 0 to 313575\n",
      "Data columns (total 10 columns):\n",
      " #   Column         Non-Null Count   Dtype              \n",
      "---  ------         --------------   -----              \n",
      " 0   id_solicitud   313574 non-null  object             \n",
      " 1   amount         313574 non-null  float64            \n",
      " 2   debtRatio      293148 non-null  float64            \n",
      " 3   zipcode        313574 non-null  object             \n",
      " 4   salary         313571 non-null  float64            \n",
      " 5   work           313574 non-null  float64            \n",
      " 6   id_oferta      313574 non-null  object             \n",
      " 7   date_offer     313574 non-null  datetime64[ns, UTC]\n",
      " 8   date_accepted  19326 non-null   datetime64[ns, UTC]\n",
      " 9   age            311808 non-null  float64            \n",
      "dtypes: datetime64[ns, UTC](2), float64(5), object(3)\n",
      "memory usage: 23.9+ MB\n"
     ]
    }
   ],
   "source": [
    "df = df.copy()\n",
    "df.info()"
   ]
  },
  {
   "cell_type": "code",
   "execution_count": 25,
   "id": "1269cada",
   "metadata": {},
   "outputs": [],
   "source": [
    "mask_validos = df['date_offer'] >= '2024-01-01'\n",
    "df = df.loc[mask_validos, :].copy()"
   ]
  },
  {
   "cell_type": "code",
   "execution_count": 26,
   "id": "e7830528",
   "metadata": {},
   "outputs": [
    {
     "name": "stdout",
     "output_type": "stream",
     "text": [
      "<class 'pandas.core.frame.DataFrame'>\n",
      "Index: 158521 entries, 1 to 313573\n",
      "Data columns (total 10 columns):\n",
      " #   Column         Non-Null Count   Dtype              \n",
      "---  ------         --------------   -----              \n",
      " 0   id_solicitud   158521 non-null  object             \n",
      " 1   amount         158521 non-null  float64            \n",
      " 2   debtRatio      158521 non-null  float64            \n",
      " 3   zipcode        158521 non-null  object             \n",
      " 4   salary         158521 non-null  float64            \n",
      " 5   work           158521 non-null  float64            \n",
      " 6   id_oferta      158521 non-null  object             \n",
      " 7   date_offer     158521 non-null  datetime64[ns, UTC]\n",
      " 8   date_accepted  8749 non-null    datetime64[ns, UTC]\n",
      " 9   age            158521 non-null  float64            \n",
      "dtypes: datetime64[ns, UTC](2), float64(5), object(3)\n",
      "memory usage: 13.3+ MB\n"
     ]
    }
   ],
   "source": [
    "df.info()"
   ]
  },
  {
   "cell_type": "code",
   "execution_count": 27,
   "id": "9942cb82",
   "metadata": {},
   "outputs": [
    {
     "data": {
      "text/plain": [
       "1        NaT\n",
       "3        NaT\n",
       "4        NaT\n",
       "5        NaT\n",
       "6        NaT\n",
       "          ..\n",
       "313562   NaT\n",
       "313567   NaT\n",
       "313570   NaT\n",
       "313571   NaT\n",
       "313573   NaT\n",
       "Name: date_accepted, Length: 158521, dtype: datetime64[ns, UTC]"
      ]
     },
     "execution_count": 27,
     "metadata": {},
     "output_type": "execute_result"
    }
   ],
   "source": [
    "df['date_accepted']"
   ]
  },
  {
   "cell_type": "code",
   "execution_count": 28,
   "id": "00944172",
   "metadata": {},
   "outputs": [
    {
     "data": {
      "text/plain": [
       "np.int64(17072)"
      ]
     },
     "execution_count": 28,
     "metadata": {},
     "output_type": "execute_result"
    }
   ],
   "source": [
    "(df.groupby('id_solicitud')['date_accepted'].count() == 0).count() #sort_values(ascending=True)"
   ]
  },
  {
   "cell_type": "code",
   "execution_count": 29,
   "id": "6be967ba",
   "metadata": {},
   "outputs": [
    {
     "data": {
      "text/html": [
       "<div>\n",
       "<style scoped>\n",
       "    .dataframe tbody tr th:only-of-type {\n",
       "        vertical-align: middle;\n",
       "    }\n",
       "\n",
       "    .dataframe tbody tr th {\n",
       "        vertical-align: top;\n",
       "    }\n",
       "\n",
       "    .dataframe thead th {\n",
       "        text-align: right;\n",
       "    }\n",
       "</style>\n",
       "<table border=\"1\" class=\"dataframe\">\n",
       "  <thead>\n",
       "    <tr style=\"text-align: right;\">\n",
       "      <th></th>\n",
       "      <th>id_solicitud</th>\n",
       "      <th>amount</th>\n",
       "      <th>debtRatio</th>\n",
       "      <th>zipcode</th>\n",
       "      <th>salary</th>\n",
       "      <th>work</th>\n",
       "      <th>id_oferta</th>\n",
       "      <th>date_offer</th>\n",
       "      <th>date_accepted</th>\n",
       "      <th>age</th>\n",
       "    </tr>\n",
       "  </thead>\n",
       "  <tbody>\n",
       "    <tr>\n",
       "      <th>89722</th>\n",
       "      <td>002bd62f-6aa3-46f5-8715-ab17d8d1e57f</td>\n",
       "      <td>159500.0</td>\n",
       "      <td>38.0</td>\n",
       "      <td>08185</td>\n",
       "      <td>3032.0</td>\n",
       "      <td>1.0</td>\n",
       "      <td>48eba77a-e581-41b3-affa-1c1d05ef5551</td>\n",
       "      <td>2024-07-23 21:11:56.580098+00:00</td>\n",
       "      <td>NaT</td>\n",
       "      <td>43.0</td>\n",
       "    </tr>\n",
       "    <tr>\n",
       "      <th>112216</th>\n",
       "      <td>002bd62f-6aa3-46f5-8715-ab17d8d1e57f</td>\n",
       "      <td>159500.0</td>\n",
       "      <td>38.0</td>\n",
       "      <td>08185</td>\n",
       "      <td>3032.0</td>\n",
       "      <td>1.0</td>\n",
       "      <td>5b40fbbe-66b9-4a84-84e4-1ff4f1c41a4c</td>\n",
       "      <td>2024-07-23 21:34:22.656345+00:00</td>\n",
       "      <td>NaT</td>\n",
       "      <td>43.0</td>\n",
       "    </tr>\n",
       "    <tr>\n",
       "      <th>160020</th>\n",
       "      <td>002bd62f-6aa3-46f5-8715-ab17d8d1e57f</td>\n",
       "      <td>159500.0</td>\n",
       "      <td>38.0</td>\n",
       "      <td>08185</td>\n",
       "      <td>3032.0</td>\n",
       "      <td>1.0</td>\n",
       "      <td>8251f30d-e285-49a6-b873-1130b84436f8</td>\n",
       "      <td>2024-07-24 07:56:23.021171+00:00</td>\n",
       "      <td>NaT</td>\n",
       "      <td>43.0</td>\n",
       "    </tr>\n",
       "    <tr>\n",
       "      <th>234308</th>\n",
       "      <td>002bd62f-6aa3-46f5-8715-ab17d8d1e57f</td>\n",
       "      <td>159500.0</td>\n",
       "      <td>38.0</td>\n",
       "      <td>08185</td>\n",
       "      <td>3032.0</td>\n",
       "      <td>1.0</td>\n",
       "      <td>bf005429-472a-4a57-8bd8-a21868dedbaf</td>\n",
       "      <td>2024-07-23 20:55:24.822341+00:00</td>\n",
       "      <td>NaT</td>\n",
       "      <td>43.0</td>\n",
       "    </tr>\n",
       "    <tr>\n",
       "      <th>252150</th>\n",
       "      <td>002bd62f-6aa3-46f5-8715-ab17d8d1e57f</td>\n",
       "      <td>159500.0</td>\n",
       "      <td>38.0</td>\n",
       "      <td>08185</td>\n",
       "      <td>3032.0</td>\n",
       "      <td>1.0</td>\n",
       "      <td>cda02301-0dc8-4b58-ab61-5c21727fb144</td>\n",
       "      <td>2024-07-23 22:01:43.961111+00:00</td>\n",
       "      <td>NaT</td>\n",
       "      <td>43.0</td>\n",
       "    </tr>\n",
       "    <tr>\n",
       "      <th>254782</th>\n",
       "      <td>002bd62f-6aa3-46f5-8715-ab17d8d1e57f</td>\n",
       "      <td>159500.0</td>\n",
       "      <td>38.0</td>\n",
       "      <td>08185</td>\n",
       "      <td>3032.0</td>\n",
       "      <td>1.0</td>\n",
       "      <td>cfb6fc7f-ab54-4371-8430-68bba9cba927</td>\n",
       "      <td>2024-07-23 21:50:30.476163+00:00</td>\n",
       "      <td>NaT</td>\n",
       "      <td>43.0</td>\n",
       "    </tr>\n",
       "  </tbody>\n",
       "</table>\n",
       "</div>"
      ],
      "text/plain": [
       "                                id_solicitud    amount  debtRatio zipcode  \\\n",
       "89722   002bd62f-6aa3-46f5-8715-ab17d8d1e57f  159500.0       38.0   08185   \n",
       "112216  002bd62f-6aa3-46f5-8715-ab17d8d1e57f  159500.0       38.0   08185   \n",
       "160020  002bd62f-6aa3-46f5-8715-ab17d8d1e57f  159500.0       38.0   08185   \n",
       "234308  002bd62f-6aa3-46f5-8715-ab17d8d1e57f  159500.0       38.0   08185   \n",
       "252150  002bd62f-6aa3-46f5-8715-ab17d8d1e57f  159500.0       38.0   08185   \n",
       "254782  002bd62f-6aa3-46f5-8715-ab17d8d1e57f  159500.0       38.0   08185   \n",
       "\n",
       "        salary  work                             id_oferta  \\\n",
       "89722   3032.0   1.0  48eba77a-e581-41b3-affa-1c1d05ef5551   \n",
       "112216  3032.0   1.0  5b40fbbe-66b9-4a84-84e4-1ff4f1c41a4c   \n",
       "160020  3032.0   1.0  8251f30d-e285-49a6-b873-1130b84436f8   \n",
       "234308  3032.0   1.0  bf005429-472a-4a57-8bd8-a21868dedbaf   \n",
       "252150  3032.0   1.0  cda02301-0dc8-4b58-ab61-5c21727fb144   \n",
       "254782  3032.0   1.0  cfb6fc7f-ab54-4371-8430-68bba9cba927   \n",
       "\n",
       "                             date_offer date_accepted   age  \n",
       "89722  2024-07-23 21:11:56.580098+00:00           NaT  43.0  \n",
       "112216 2024-07-23 21:34:22.656345+00:00           NaT  43.0  \n",
       "160020 2024-07-24 07:56:23.021171+00:00           NaT  43.0  \n",
       "234308 2024-07-23 20:55:24.822341+00:00           NaT  43.0  \n",
       "252150 2024-07-23 22:01:43.961111+00:00           NaT  43.0  \n",
       "254782 2024-07-23 21:50:30.476163+00:00           NaT  43.0  "
      ]
     },
     "execution_count": 29,
     "metadata": {},
     "output_type": "execute_result"
    }
   ],
   "source": [
    "df.loc[df['id_solicitud'] == '002bd62f-6aa3-46f5-8715-ab17d8d1e57f', :]"
   ]
  },
  {
   "cell_type": "code",
   "execution_count": 30,
   "id": "aa98f686",
   "metadata": {},
   "outputs": [
    {
     "data": {
      "text/plain": [
       "np.int64(8749)"
      ]
     },
     "execution_count": 30,
     "metadata": {},
     "output_type": "execute_result"
    }
   ],
   "source": [
    "mask_aceptados = df['date_accepted'].isnull() == False\n",
    "mask_aceptados[mask_aceptados].count()"
   ]
  },
  {
   "cell_type": "code",
   "execution_count": 31,
   "id": "7f2ec98a",
   "metadata": {},
   "outputs": [],
   "source": [
    "# Crear una nueva columna con el valor máximo de 'date_accepted' por 'id_solicitud'\n",
    "df_aceptados = df[mask_aceptados].copy()\n",
    "df_aceptados['max_date_accepted'] = df_aceptados.groupby('id_solicitud')['date_accepted'].transform('max')\n",
    "\n",
    "# Filtrar solo las filas donde 'date_accepted' sea igual a la máxima para ese id\n",
    "df_aceptados_unicos = df_aceptados[df_aceptados['date_accepted'] == df_aceptados['max_date_accepted']].copy()"
   ]
  },
  {
   "cell_type": "code",
   "execution_count": 32,
   "id": "4fea0289",
   "metadata": {},
   "outputs": [
    {
     "data": {
      "text/plain": [
       "(62268, 24)"
      ]
     },
     "execution_count": 32,
     "metadata": {},
     "output_type": "execute_result"
    }
   ],
   "source": [
    "df_solicitudes_unicas = df.drop_duplicates(subset='id_solicitud', keep='first').copy()\n",
    "df_solicitudes.shape"
   ]
  },
  {
   "cell_type": "code",
   "execution_count": 33,
   "id": "b7f2e46f",
   "metadata": {},
   "outputs": [
    {
     "data": {
      "text/html": [
       "<div>\n",
       "<style scoped>\n",
       "    .dataframe tbody tr th:only-of-type {\n",
       "        vertical-align: middle;\n",
       "    }\n",
       "\n",
       "    .dataframe tbody tr th {\n",
       "        vertical-align: top;\n",
       "    }\n",
       "\n",
       "    .dataframe thead th {\n",
       "        text-align: right;\n",
       "    }\n",
       "</style>\n",
       "<table border=\"1\" class=\"dataframe\">\n",
       "  <thead>\n",
       "    <tr style=\"text-align: right;\">\n",
       "      <th></th>\n",
       "      <th>id_solicitud</th>\n",
       "      <th>amount</th>\n",
       "      <th>debtRatio</th>\n",
       "      <th>zipcode</th>\n",
       "      <th>salary</th>\n",
       "      <th>work</th>\n",
       "      <th>id_oferta</th>\n",
       "      <th>date_offer</th>\n",
       "      <th>date_accepted</th>\n",
       "      <th>age</th>\n",
       "    </tr>\n",
       "  </thead>\n",
       "  <tbody>\n",
       "    <tr>\n",
       "      <th>1</th>\n",
       "      <td>69ad771c-0d5a-486a-92f9-29935886f990</td>\n",
       "      <td>131237.0</td>\n",
       "      <td>26.0</td>\n",
       "      <td>08529</td>\n",
       "      <td>2709.0</td>\n",
       "      <td>1.0</td>\n",
       "      <td>00009c12-1fcf-48c6-aa43-7315f9e7f017</td>\n",
       "      <td>2024-05-19 12:24:33.103739+00:00</td>\n",
       "      <td>NaT</td>\n",
       "      <td>53.0</td>\n",
       "    </tr>\n",
       "    <tr>\n",
       "      <th>3</th>\n",
       "      <td>0904d745-d375-4d4b-a9e1-2e1990a703d7</td>\n",
       "      <td>244000.0</td>\n",
       "      <td>12.0</td>\n",
       "      <td>08619</td>\n",
       "      <td>10500.0</td>\n",
       "      <td>4.0</td>\n",
       "      <td>0000a2d5-a976-4de3-b073-512f9020ef20</td>\n",
       "      <td>2024-08-23 18:34:24.844120+00:00</td>\n",
       "      <td>NaT</td>\n",
       "      <td>44.0</td>\n",
       "    </tr>\n",
       "    <tr>\n",
       "      <th>4</th>\n",
       "      <td>4d71bd0d-d468-4008-8ce4-2aa7c9cdcae1</td>\n",
       "      <td>76685.0</td>\n",
       "      <td>32.0</td>\n",
       "      <td>46185</td>\n",
       "      <td>3000.0</td>\n",
       "      <td>7.0</td>\n",
       "      <td>0000abdb-3227-4fcb-9d0e-979a6ce61c50</td>\n",
       "      <td>2025-02-18 10:28:44.054636+00:00</td>\n",
       "      <td>NaT</td>\n",
       "      <td>45.0</td>\n",
       "    </tr>\n",
       "    <tr>\n",
       "      <th>5</th>\n",
       "      <td>d21db535-8478-44e3-8e2e-5850a6a1ca1d</td>\n",
       "      <td>87000.0</td>\n",
       "      <td>27.0</td>\n",
       "      <td>41927</td>\n",
       "      <td>1800.0</td>\n",
       "      <td>7.0</td>\n",
       "      <td>0000b4fb-3218-4227-99b6-9768bdf7d3d7</td>\n",
       "      <td>2024-01-10 15:04:03.468164+00:00</td>\n",
       "      <td>NaT</td>\n",
       "      <td>42.0</td>\n",
       "    </tr>\n",
       "    <tr>\n",
       "      <th>6</th>\n",
       "      <td>ee3c7642-469a-4cfd-8f8d-16ea2788fbf8</td>\n",
       "      <td>152000.0</td>\n",
       "      <td>28.0</td>\n",
       "      <td>46711</td>\n",
       "      <td>2480.0</td>\n",
       "      <td>1.0</td>\n",
       "      <td>0001233e-1b0e-43ed-905d-2a04157b41bc</td>\n",
       "      <td>2025-05-07 20:31:51.261514+00:00</td>\n",
       "      <td>NaT</td>\n",
       "      <td>41.0</td>\n",
       "    </tr>\n",
       "    <tr>\n",
       "      <th>...</th>\n",
       "      <td>...</td>\n",
       "      <td>...</td>\n",
       "      <td>...</td>\n",
       "      <td>...</td>\n",
       "      <td>...</td>\n",
       "      <td>...</td>\n",
       "      <td>...</td>\n",
       "      <td>...</td>\n",
       "      <td>...</td>\n",
       "      <td>...</td>\n",
       "    </tr>\n",
       "    <tr>\n",
       "      <th>312809</th>\n",
       "      <td>96514b33-235d-40fa-b319-24f5443da36f</td>\n",
       "      <td>114000.0</td>\n",
       "      <td>40.0</td>\n",
       "      <td>03004</td>\n",
       "      <td>2550.0</td>\n",
       "      <td>8.0</td>\n",
       "      <td>ff5ba54f-2ca8-4965-8ad4-b99eb088e40a</td>\n",
       "      <td>2024-04-30 12:10:36.283087+00:00</td>\n",
       "      <td>NaT</td>\n",
       "      <td>25.0</td>\n",
       "    </tr>\n",
       "    <tr>\n",
       "      <th>312847</th>\n",
       "      <td>0fde6edd-0fd4-4088-a2cc-da4b7c8f4e25</td>\n",
       "      <td>114400.0</td>\n",
       "      <td>37.0</td>\n",
       "      <td>08758</td>\n",
       "      <td>1670.0</td>\n",
       "      <td>10.0</td>\n",
       "      <td>ff6180b2-3d33-4bfd-a4d1-aeab1704cfe7</td>\n",
       "      <td>2024-04-21 22:00:21.920820+00:00</td>\n",
       "      <td>NaT</td>\n",
       "      <td>37.0</td>\n",
       "    </tr>\n",
       "    <tr>\n",
       "      <th>312894</th>\n",
       "      <td>1976b66d-442b-4c1a-9ddb-7508c61fd1de</td>\n",
       "      <td>114000.0</td>\n",
       "      <td>14.0</td>\n",
       "      <td>46019</td>\n",
       "      <td>3600.0</td>\n",
       "      <td>8.0</td>\n",
       "      <td>ff6a5c1c-6537-4c94-a411-0fb2d0b442e7</td>\n",
       "      <td>2025-01-18 18:24:02.774100+00:00</td>\n",
       "      <td>2025-01-19 09:04:31.353031+00:00</td>\n",
       "      <td>30.0</td>\n",
       "    </tr>\n",
       "    <tr>\n",
       "      <th>313223</th>\n",
       "      <td>bcea6549-ce84-450e-9fa1-b72efe92747a</td>\n",
       "      <td>135000.0</td>\n",
       "      <td>19.0</td>\n",
       "      <td>15895</td>\n",
       "      <td>3600.0</td>\n",
       "      <td>1.0</td>\n",
       "      <td>ffb38e73-5b11-48aa-a4e4-7915a31a68f3</td>\n",
       "      <td>2024-01-04 11:26:03.965552+00:00</td>\n",
       "      <td>NaT</td>\n",
       "      <td>35.0</td>\n",
       "    </tr>\n",
       "    <tr>\n",
       "      <th>313465</th>\n",
       "      <td>67a3b895-0543-43ac-a0ac-e42d7dccc5ce</td>\n",
       "      <td>75000.0</td>\n",
       "      <td>28.0</td>\n",
       "      <td>01001</td>\n",
       "      <td>1250.0</td>\n",
       "      <td>8.0</td>\n",
       "      <td>ffe7f4bb-a527-4da1-a647-e1e055037bb4</td>\n",
       "      <td>2024-11-13 20:07:10.206795+00:00</td>\n",
       "      <td>NaT</td>\n",
       "      <td>37.0</td>\n",
       "    </tr>\n",
       "  </tbody>\n",
       "</table>\n",
       "<p>17072 rows × 10 columns</p>\n",
       "</div>"
      ],
      "text/plain": [
       "                                id_solicitud    amount  debtRatio zipcode  \\\n",
       "1       69ad771c-0d5a-486a-92f9-29935886f990  131237.0       26.0   08529   \n",
       "3       0904d745-d375-4d4b-a9e1-2e1990a703d7  244000.0       12.0   08619   \n",
       "4       4d71bd0d-d468-4008-8ce4-2aa7c9cdcae1   76685.0       32.0   46185   \n",
       "5       d21db535-8478-44e3-8e2e-5850a6a1ca1d   87000.0       27.0   41927   \n",
       "6       ee3c7642-469a-4cfd-8f8d-16ea2788fbf8  152000.0       28.0   46711   \n",
       "...                                      ...       ...        ...     ...   \n",
       "312809  96514b33-235d-40fa-b319-24f5443da36f  114000.0       40.0   03004   \n",
       "312847  0fde6edd-0fd4-4088-a2cc-da4b7c8f4e25  114400.0       37.0   08758   \n",
       "312894  1976b66d-442b-4c1a-9ddb-7508c61fd1de  114000.0       14.0   46019   \n",
       "313223  bcea6549-ce84-450e-9fa1-b72efe92747a  135000.0       19.0   15895   \n",
       "313465  67a3b895-0543-43ac-a0ac-e42d7dccc5ce   75000.0       28.0   01001   \n",
       "\n",
       "         salary  work                             id_oferta  \\\n",
       "1        2709.0   1.0  00009c12-1fcf-48c6-aa43-7315f9e7f017   \n",
       "3       10500.0   4.0  0000a2d5-a976-4de3-b073-512f9020ef20   \n",
       "4        3000.0   7.0  0000abdb-3227-4fcb-9d0e-979a6ce61c50   \n",
       "5        1800.0   7.0  0000b4fb-3218-4227-99b6-9768bdf7d3d7   \n",
       "6        2480.0   1.0  0001233e-1b0e-43ed-905d-2a04157b41bc   \n",
       "...         ...   ...                                   ...   \n",
       "312809   2550.0   8.0  ff5ba54f-2ca8-4965-8ad4-b99eb088e40a   \n",
       "312847   1670.0  10.0  ff6180b2-3d33-4bfd-a4d1-aeab1704cfe7   \n",
       "312894   3600.0   8.0  ff6a5c1c-6537-4c94-a411-0fb2d0b442e7   \n",
       "313223   3600.0   1.0  ffb38e73-5b11-48aa-a4e4-7915a31a68f3   \n",
       "313465   1250.0   8.0  ffe7f4bb-a527-4da1-a647-e1e055037bb4   \n",
       "\n",
       "                             date_offer                    date_accepted   age  \n",
       "1      2024-05-19 12:24:33.103739+00:00                              NaT  53.0  \n",
       "3      2024-08-23 18:34:24.844120+00:00                              NaT  44.0  \n",
       "4      2025-02-18 10:28:44.054636+00:00                              NaT  45.0  \n",
       "5      2024-01-10 15:04:03.468164+00:00                              NaT  42.0  \n",
       "6      2025-05-07 20:31:51.261514+00:00                              NaT  41.0  \n",
       "...                                 ...                              ...   ...  \n",
       "312809 2024-04-30 12:10:36.283087+00:00                              NaT  25.0  \n",
       "312847 2024-04-21 22:00:21.920820+00:00                              NaT  37.0  \n",
       "312894 2025-01-18 18:24:02.774100+00:00 2025-01-19 09:04:31.353031+00:00  30.0  \n",
       "313223 2024-01-04 11:26:03.965552+00:00                              NaT  35.0  \n",
       "313465 2024-11-13 20:07:10.206795+00:00                              NaT  37.0  \n",
       "\n",
       "[17072 rows x 10 columns]"
      ]
     },
     "execution_count": 33,
     "metadata": {},
     "output_type": "execute_result"
    }
   ],
   "source": [
    "df_solicitudes_unicas"
   ]
  },
  {
   "cell_type": "markdown",
   "id": "68f6e2ce",
   "metadata": {},
   "source": [
    "### Eliminamos los outliers"
   ]
  },
  {
   "cell_type": "code",
   "execution_count": 34,
   "id": "2f86abc3",
   "metadata": {},
   "outputs": [
    {
     "name": "stdout",
     "output_type": "stream",
     "text": [
      "Removed 832 outliers from 'amount' using IQR method (multiplier=1.5).\n",
      "Removed 348 outliers from 'amount' using IQR method (multiplier=1.5).\n",
      "Removed 248 outliers from 'amount' using IQR method (multiplier=1.5).\n",
      "Removed 704 outliers from 'salary' using IQR method (multiplier=1.5).\n",
      "Removed 393 outliers from 'salary' using IQR method (multiplier=1.5).\n",
      "Removed 272 outliers from 'salary' using IQR method (multiplier=1.5).\n",
      "Removed 0 outliers from 'debtRatio' using IQR method (multiplier=1.5).\n",
      "Removed 0 outliers from 'debtRatio' using IQR method (multiplier=1.5).\n",
      "Removed 0 outliers from 'debtRatio' using IQR method (multiplier=1.5).\n"
     ]
    }
   ],
   "source": [
    "def remove_outliers_iqr(df, column, iqr_multiplier=1.5):\n",
    "    \"\"\"\n",
    "    Removes outliers from a specified column in a DataFrame using the IQR method.\n",
    "\n",
    "    Args:\n",
    "        df (pd.DataFrame): The input DataFrame.\n",
    "        column (str): The name of the column to remove outliers from.\n",
    "        iqr_multiplier (float): The multiplier for the IQR to define the outlier fences.\n",
    "                                  Commonly 1.5 for \"mild\" outliers, 3.0 for \"extreme\" outliers.\n",
    "\n",
    "    Returns:\n",
    "        pd.DataFrame: A new DataFrame with outliers removed.\n",
    "    \"\"\"\n",
    "    if column not in df.columns:\n",
    "        raise ValueError(f\"Column '{column}' not found in the DataFrame.\")\n",
    "\n",
    "    # Calculate Q1, Q3, and IQR, ignoring NaN values\n",
    "    Q1 = df[column].quantile(0.25)\n",
    "    Q3 = df[column].quantile(0.75)\n",
    "    IQR = Q3 - Q1\n",
    "\n",
    "    # Define outlier fences\n",
    "    lower_bound = Q1 - iqr_multiplier * IQR\n",
    "    upper_bound = Q3 + iqr_multiplier * IQR\n",
    "\n",
    "    # Filter out outliers. Keep rows where the value is within the bounds OR is NaN.\n",
    "    # We explicitly include NaN values so they are not treated as outliers and are preserved\n",
    "    # if you want to handle them separately later.\n",
    "    filtered_df = df[(df[column] >= lower_bound) & (df[column] <= upper_bound) | (df[column].isna())]\n",
    "\n",
    "    # Optional: Print how many outliers were removed\n",
    "    num_outliers = len(df) - len(filtered_df)\n",
    "    print(f\"Removed {num_outliers} outliers from '{column}' using IQR method (multiplier={iqr_multiplier}).\")\n",
    "\n",
    "    return filtered_df\n",
    "\n",
    "columns = ['amount', 'salary', 'debtRatio']\n",
    "\n",
    "for column in columns:\n",
    "    df_solicitudes_unicas = remove_outliers_iqr(df_solicitudes_unicas, column)\n",
    "    df_aceptados = remove_outliers_iqr(df_aceptados, column)\n",
    "    df_aceptados_unicos = remove_outliers_iqr(df_aceptados_unicos, column)"
   ]
  },
  {
   "cell_type": "markdown",
   "id": "d559b677",
   "metadata": {},
   "source": [
    "### Empezamos el análisis"
   ]
  },
  {
   "cell_type": "code",
   "execution_count": 38,
   "id": "4d04dadf",
   "metadata": {},
   "outputs": [
    {
     "data": {
      "image/png": "[encoded data removed]",
      "text/plain": [
       "<Figure size 1200x800 with 4 Axes>"
      ]
     },
     "metadata": {},
     "output_type": "display_data"
    }
   ],
   "source": [
    "fig, ax = plt.subplots(2, 2, figsize=(12,8))\n",
    "#fig.suptitle('Trabajo')\n",
    "sns.histplot(data=df_solicitudes_unicas, x='amount', ax=ax[0,0], color=COLORES_COLIBID['primary_blue_green'], edgecolor='black')\n",
    "ax[0,0].set_xlabel('Hipoteca [€]')\n",
    "ax[0,0].set_ylabel('Frecuencia')\n",
    "ax[0,0].set_title('Hipoteca', fontsize=25)\n",
    "\n",
    "sns.histplot(data=df_solicitudes_unicas, x='salary', ax=ax[0,1], color=COLORES_COLIBID['primary_blue_green'], edgecolor='black')\n",
    "ax[0,1].set_xlabel('Sueldo [€]')\n",
    "ax[0,1].set_ylabel('Frecuencia')\n",
    "ax[0,1].set_title('Sueldo', fontsize=25)\n",
    "\n",
    "sns.histplot(data=df_solicitudes_unicas, x='age', ax=ax[1,0], color=COLORES_COLIBID['primary_blue_green'], edgecolor='black')\n",
    "ax[1,0].set_xlabel('Edad [años]')\n",
    "ax[1,0].set_ylabel('Frecuencia')\n",
    "ax[1,0].set_title('Edad', fontsize=25)\n",
    "\n",
    "sns.histplot(data=df_solicitudes_unicas, x='debtRatio', ax=ax[1,1], color=COLORES_COLIBID['primary_blue_green'], edgecolor='black')\n",
    "ax[1,1].set_xlabel('Ratio de deuda')\n",
    "ax[1,1].set_ylabel('Frecuencia')\n",
    "ax[1,1].set_title('Ratio de deuda', fontsize=25)\n",
    "\n",
    "\n",
    "plt.tight_layout() "
   ]
  },
  {
   "cell_type": "code",
   "execution_count": 57,
   "id": "9cba21f8",
   "metadata": {},
   "outputs": [
    {
     "data": {
      "image/png": "[encoded data removed]",
      "text/plain": [
       "<Figure size 600x400 with 1 Axes>"
      ]
     },
     "metadata": {},
     "output_type": "display_data"
    }
   ],
   "source": [
    "fig, ax = plt.subplots(1, 1, figsize=(6,4))\n",
    "fig.suptitle('Trabajo')\n",
    "sns.countplot(data=df_solicitudes_unicas, x='work', ax=ax, color=COLORES_COLIBID['primary_blue_green'], edgecolor='black')\n",
    "ax.set_xlabel('Sector de trabajo')\n",
    "ax.set_ylabel('Frecuencia')\n",
    "\n",
    "plt.tight_layout()"
   ]
  },
  {
   "cell_type": "code",
   "execution_count": 60,
   "id": "d467f2d3",
   "metadata": {},
   "outputs": [
    {
     "data": {
      "image/png": "[encoded data removed]",
      "text/plain": [
       "<Figure size 1200x800 with 4 Axes>"
      ]
     },
     "metadata": {},
     "output_type": "display_data"
    }
   ],
   "source": [
    "fig, ax = plt.subplots(2, 2, figsize=(12,8))\n",
    "#fig.suptitle('Trabajo')\n",
    "sns.histplot(data=df_solicitudes_unicas, x='amount', ax=ax[0,0], color=COLORES_COLIBID['primary_blue_green'], edgecolor='black')\n",
    "ax[0,0].set_xlabel('Hipoteca [€]')\n",
    "ax[0,0].set_ylabel('Frecuencia')\n",
    "ax[0,0].set_title('Solicitud', fontsize=25)\n",
    "\n",
    "sns.histplot(data=df_aceptados_unicos, x='amount', ax=ax[0,1], color=COLORES_COLIBID['secondary'], edgecolor='black')\n",
    "ax[0,1].set_xlabel('Hipoteca [€]')\n",
    "ax[0,1].set_ylabel('Frecuencia')\n",
    "ax[0,1].set_title('Oferta aceptada', fontsize=25)\n",
    "\n",
    "sns.histplot(data=df_solicitudes_unicas, x='salary', ax=ax[1,0], color=COLORES_COLIBID['primary_blue_green'], edgecolor='black')\n",
    "ax[1,0].set_xlabel('Sueldo [€]')\n",
    "ax[1,0].set_ylabel('Frecuencia')\n",
    "#ax[1,0].set_title('Edad', fontsize=25)\n",
    "\n",
    "sns.histplot(data=df_aceptados_unicos, x='salary', ax=ax[1,1], color=COLORES_COLIBID['secondary'], edgecolor='black')\n",
    "ax[1,1].set_xlabel('Sueldo [€]')\n",
    "ax[1,1].set_ylabel('Frecuencia')\n",
    "#ax[1,1].set_title('Ratio de deuda', fontsize=25)\n",
    "\n",
    "plt.tight_layout()"
   ]
  },
  {
   "cell_type": "code",
   "execution_count": 61,
   "id": "d6b1e1f0",
   "metadata": {},
   "outputs": [
    {
     "data": {
      "image/png": "[encoded data removed]",
      "text/plain": [
       "<Figure size 1200x800 with 4 Axes>"
      ]
     },
     "metadata": {},
     "output_type": "display_data"
    }
   ],
   "source": [
    "fig, ax = plt.subplots(2, 2, figsize=(12,8))\n",
    "#fig.suptitle('Trabajo')\n",
    "sns.histplot(data=df_solicitudes_unicas, x='age', ax=ax[0,0], color=COLORES_COLIBID['primary_blue_green'], edgecolor='black')\n",
    "ax[0,0].set_xlabel('Edad [años]')\n",
    "ax[0,0].set_ylabel('Frecuencia')\n",
    "ax[0,0].set_title('Solicitud', fontsize=25)\n",
    "\n",
    "sns.histplot(data=df_aceptados_unicos, x='age', ax=ax[0,1], color=COLORES_COLIBID['secondary'], edgecolor='black')\n",
    "ax[0,1].set_xlabel('Edad [años]')\n",
    "ax[0,1].set_ylabel('Frecuencia')\n",
    "ax[0,1].set_title('Oferta aceptada', fontsize=25)\n",
    "\n",
    "sns.histplot(data=df_solicitudes_unicas, x='debtRatio', ax=ax[1,0], color=COLORES_COLIBID['primary_blue_green'], edgecolor='black')\n",
    "ax[1,0].set_xlabel('Ratio deuda')\n",
    "ax[1,0].set_ylabel('Frecuencia')\n",
    "#ax[1,0].set_title('Edad', fontsize=25)\n",
    "\n",
    "sns.histplot(data=df_aceptados_unicos, x='debtRatio', ax=ax[1,1], color=COLORES_COLIBID['secondary'], edgecolor='black')\n",
    "ax[1,1].set_xlabel('Ratio deuda')\n",
    "ax[1,1].set_ylabel('Frecuencia')\n",
    "#ax[1,1].set_title('Ratio de deuda', fontsize=25)\n",
    "\n",
    "plt.tight_layout()"
   ]
  },
  {
   "cell_type": "code",
   "execution_count": 40,
   "id": "a8595a8f",
   "metadata": {},
   "outputs": [
    {
     "data": {
      "image/png": "[encoded data removed]",
      "text/plain": [
       "<Figure size 400x600 with 2 Axes>"
      ]
     },
     "metadata": {},
     "output_type": "display_data"
    }
   ],
   "source": [
    "fig, ax = plt.subplots(2, 1, figsize=(4,6))\n",
    "#fig.suptitle('Trabajo')\n",
    "sns.countplot(data=df_solicitudes_unicas, x='work', ax=ax[0], color=COLORES_COLIBID['primary_blue_green'], edgecolor='black')\n",
    "ax[0].set_xlabel('Sector de trabajo')\n",
    "ax[0].set_ylabel('Frecuencia')\n",
    "ax[0].set_title('Solicitud', fontsize=25)\n",
    "\n",
    "sns.countplot(data=df_aceptados_unicos, x='work', ax=ax[1], color=COLORES_COLIBID['secondary'], edgecolor='black')\n",
    "ax[1].set_xlabel('Sector de trabajo')\n",
    "ax[1].set_ylabel('Frecuencia')\n",
    "ax[1].set_title('Oferta aceptada', fontsize=25)\n",
    "\n",
    "plt.tight_layout()"
   ]
  },
  {
   "cell_type": "code",
   "execution_count": 42,
   "id": "5140ac3b",
   "metadata": {},
   "outputs": [
    {
     "name": "stdout",
     "output_type": "stream",
     "text": [
      "\n",
      "--- Análisis de la Columna: amount ---\n",
      "  Métrica        | Solicitudes         | Aceptados           | Diferencia (Aceptados - Solicitudes)\n",
      "-----------------|---------------------|---------------------|--------------------------------------\n",
      "  Mediana        | 132000.00           | 135067.50           | 3067.50                  \n",
      "  Media          | 144032.38           | 148197.57           | 4165.19                  \n",
      "  Std Dev        | 58572.01            | 61164.67            | 2592.66                  \n",
      "  Q1 (25%)       | 97000.00            | 100000.00           | 3000.00                  \n",
      "  Q3 (75%)       | 175750.00           | 180000.00           | 4250.00                  \n",
      "  CV (%)         | 40.67               | 41.27               | 0.61                     \n",
      "\n",
      "--- Análisis de la Columna: salary ---\n",
      "  Métrica        | Solicitudes         | Aceptados           | Diferencia (Aceptados - Solicitudes)\n",
      "-----------------|---------------------|---------------------|--------------------------------------\n",
      "  Mediana        | 3100.00             | 3300.00             | 200.00                   \n",
      "  Media          | 3319.34             | 3487.84             | 168.50                   \n",
      "  Std Dev        | 1270.22             | 1348.19             | 77.97                    \n",
      "  Q1 (25%)       | 2350.00             | 2460.00             | 110.00                   \n",
      "  Q3 (75%)       | 4100.00             | 4335.50             | 235.50                   \n",
      "  CV (%)         | 38.27               | 38.65               | 0.39                     \n",
      "\n",
      "--- Análisis de la Columna: debtRatio ---\n",
      "  Métrica        | Solicitudes         | Aceptados           | Diferencia (Aceptados - Solicitudes)\n",
      "-----------------|---------------------|---------------------|--------------------------------------\n",
      "  Mediana        | 26.00               | 26.00               | 0.00                     \n",
      "  Media          | 26.21               | 25.72               | -0.49                    \n",
      "  Std Dev        | 7.66                | 7.57                | -0.09                    \n",
      "  Q1 (25%)       | 21.00               | 20.00               | -1.00                    \n",
      "  Q3 (75%)       | 32.00               | 32.00               | 0.00                     \n",
      "  CV (%)         | 29.23               | 29.43               | 0.19                     \n",
      "\n",
      "--- Análisis de la Columna: age ---\n",
      "  Métrica        | Solicitudes         | Aceptados           | Diferencia (Aceptados - Solicitudes)\n",
      "-----------------|---------------------|---------------------|--------------------------------------\n",
      "  Mediana        | 37.00               | 37.00               | 0.00                     \n",
      "  Media          | 37.85               | 37.67               | -0.17                    \n",
      "  Std Dev        | 7.72                | 7.64                | -0.08                    \n",
      "  Q1 (25%)       | 32.00               | 32.00               | 0.00                     \n",
      "  Q3 (75%)       | 43.00               | 43.00               | 0.00                     \n",
      "  CV (%)         | 20.41               | 20.28               | -0.13                    \n"
     ]
    }
   ],
   "source": [
    "# Asume que df_solicitudes_unicas y df_aceptados_unicos ya están definidos\n",
    "columns = ['amount', 'salary', 'debtRatio', 'age']\n",
    "\n",
    "for column in columns:\n",
    "    print(f\"\\n--- Análisis de la Columna: {column} ---\")\n",
    "\n",
    "    # Calculamos las métricas para cada grupo\n",
    "    median_solicitudes = df_solicitudes_unicas[column].median()\n",
    "    median_aceptados = df_aceptados_unicos[column].median()\n",
    "\n",
    "    mean_solicitudes = df_solicitudes_unicas[column].mean()\n",
    "    mean_aceptados = df_aceptados_unicos[column].mean()\n",
    "\n",
    "    std_solicitudes = df_solicitudes_unicas[column].std()\n",
    "    std_aceptados = df_aceptados_unicos[column].std()\n",
    "\n",
    "    q1_solicitudes = df_solicitudes_unicas[column].quantile(0.25)\n",
    "    q1_aceptados = df_aceptados_unicos[column].quantile(0.25)\n",
    "\n",
    "    q3_solicitudes = df_solicitudes_unicas[column].quantile(0.75)\n",
    "    q3_aceptados = df_aceptados_unicos[column].quantile(0.75)\n",
    "\n",
    "    # Coeficiente de Variación (CV), usa la media como denominador\n",
    "    cv_solicitudes = (std_solicitudes / mean_solicitudes) * 100 if mean_solicitudes != 0 else np.nan\n",
    "    cv_aceptados = (std_aceptados / mean_aceptados) * 100 if mean_aceptados != 0 else np.nan\n",
    "\n",
    "    # Imprimimos los resultados para una fácil comparación\n",
    "    print(f\"  Métrica        | Solicitudes         | Aceptados           | Diferencia (Aceptados - Solicitudes)\")\n",
    "    print(f\"-----------------|---------------------|---------------------|--------------------------------------\")\n",
    "    print(f\"  Mediana        | {median_solicitudes:<19.2f} | {median_aceptados:<19.2f} | {median_aceptados - median_solicitudes:<25.2f}\")\n",
    "    print(f\"  Media          | {mean_solicitudes:<19.2f} | {mean_aceptados:<19.2f} | {mean_aceptados - mean_solicitudes:<25.2f}\")\n",
    "    print(f\"  Std Dev        | {std_solicitudes:<19.2f} | {std_aceptados:<19.2f} | {std_aceptados - std_solicitudes:<25.2f}\")\n",
    "    print(f\"  Q1 (25%)       | {q1_solicitudes:<19.2f} | {q1_aceptados:<19.2f} | {q1_aceptados - q1_solicitudes:<25.2f}\")\n",
    "    print(f\"  Q3 (75%)       | {q3_solicitudes:<19.2f} | {q3_aceptados:<19.2f} | {q3_aceptados - q3_solicitudes:<25.2f}\")\n",
    "    print(f\"  CV (%)         | {cv_solicitudes:<19.2f} | {cv_aceptados:<19.2f} | {cv_aceptados - cv_solicitudes:<25.2f}\")"
   ]
  },
  {
   "cell_type": "code",
   "execution_count": 43,
   "id": "d0bfb81c",
   "metadata": {},
   "outputs": [
    {
     "data": {
      "image/png": "[encoded data removed]",
      "text/plain": [
       "<Figure size 640x480 with 1 Axes>"
      ]
     },
     "metadata": {},
     "output_type": "display_data"
    }
   ],
   "source": [
    "import matplotlib.dates as mdates\n",
    "ax = sns.histplot(df_solicitudes_unicas['date_offer'], \n",
    "            color=COLORES_COLIBID['primary_blue_green'],\n",
    "            edgecolor='black')\n",
    "\n",
    "ax.set_ylabel('Frecuencia')\n",
    "ax.set_xlabel('Fecha')\n",
    "\n",
    "# Formatear el eje X\n",
    "ax.xaxis.set_major_locator(mdates.MonthLocator(interval=2))  # cada 2 meses\n",
    "ax.xaxis.set_major_formatter(mdates.DateFormatter('%Y-%m'))\n",
    "ax.tick_params(axis='x', rotation=45)  # rotar para mejor lectura\n",
    "\n",
    "plt.tight_layout()\n",
    "plt.show()"
   ]
  },
  {
   "cell_type": "code",
   "execution_count": 44,
   "id": "c83bfd96",
   "metadata": {},
   "outputs": [
    {
     "data": {
      "image/png": "[encoded data removed]",
      "text/plain": [
       "<Figure size 640x480 with 1 Axes>"
      ]
     },
     "metadata": {},
     "output_type": "display_data"
    }
   ],
   "source": [
    "df_aceptados_unicos['tiempo_aceptacion'] = (df_aceptados_unicos['date_accepted'] - df_aceptados_unicos['date_offer']).dt.total_seconds() / (60 * 60 * 24)\n",
    "df_aceptados_unicos.shape\n",
    "\n",
    "# Now plot it\n",
    "ax = sns.histplot(\n",
    "    df_aceptados_unicos['tiempo_aceptacion'], \n",
    "    color=COLORES_COLIBID['primary_blue_green'],\n",
    "    edgecolor='black',\n",
    "    bins=30  # optional: set number of bins\n",
    ")\n",
    "\n",
    "ax.set_xlabel('Tiempo de aceptación (días)')\n",
    "ax.set_ylabel('Frecuencia')\n",
    "plt.tight_layout()\n",
    "plt.show()"
   ]
  },
  {
   "cell_type": "code",
   "execution_count": 45,
   "id": "7e140196",
   "metadata": {},
   "outputs": [
    {
     "data": {
      "image/png": "[encoded data removed]",
      "text/plain": [
       "<Figure size 640x480 with 1 Axes>"
      ]
     },
     "metadata": {},
     "output_type": "display_data"
    }
   ],
   "source": [
    "ax = sns.barplot(df_solicitudes_unicas['date_offer'].dt.day_name(), \n",
    "            order=['Monday', 'Tuesday', 'Wednesday', 'Thursday', 'Friday', 'Saturday', 'Sunday'],\n",
    "            errorbar=None,\n",
    "            color=COLORES_COLIBID['primary_blue_green'],\n",
    "            edgecolor='black')\n",
    "ax.set_ylabel('Día de la semana')\n",
    "\n",
    "# Set Spanish labels safely\n",
    "spanish_labels = ['Lunes', 'Martes', 'Miércoles', 'Jueves', 'Viernes', 'Sábado', 'Domingo']\n",
    "ax.set_yticks(range(len(spanish_labels)))  # set fixed tick positions\n",
    "ax.set_yticklabels(spanish_labels)    \n",
    "\n",
    "plt.tight_layout()\n",
    "plt.show()"
   ]
  },
  {
   "cell_type": "markdown",
   "id": "32e45b92",
   "metadata": {},
   "source": [
    "#### Intentamos localizar las hipotecas en un mapa"
   ]
  },
  {
   "cell_type": "code",
   "execution_count": 46,
   "id": "0868514b",
   "metadata": {},
   "outputs": [],
   "source": [
    "from geopy.geocoders import Nominatim\n",
    "from geopy.extra.rate_limiter import RateLimiter\n",
    "import time"
   ]
  },
  {
   "cell_type": "code",
   "execution_count": 47,
   "id": "4f752cb7",
   "metadata": {},
   "outputs": [],
   "source": [
    "df_locs = pd.DataFrame(df_solicitudes_unicas.groupby('zipcode')['id_oferta'].count().sort_values(ascending=False)).reset_index()"
   ]
  },
  {
   "cell_type": "code",
   "execution_count": 48,
   "id": "47580c68",
   "metadata": {},
   "outputs": [],
   "source": [
    "df_locs.columns=['zipcode', 'counts']"
   ]
  },
  {
   "cell_type": "code",
   "execution_count": 49,
   "id": "2e8a20ce",
   "metadata": {},
   "outputs": [
    {
     "data": {
      "text/html": [
       "<div>\n",
       "<style scoped>\n",
       "    .dataframe tbody tr th:only-of-type {\n",
       "        vertical-align: middle;\n",
       "    }\n",
       "\n",
       "    .dataframe tbody tr th {\n",
       "        vertical-align: top;\n",
       "    }\n",
       "\n",
       "    .dataframe thead th {\n",
       "        text-align: right;\n",
       "    }\n",
       "</style>\n",
       "<table border=\"1\" class=\"dataframe\">\n",
       "  <thead>\n",
       "    <tr style=\"text-align: right;\">\n",
       "      <th></th>\n",
       "      <th>codigo_postal</th>\n",
       "      <th>municipio_id</th>\n",
       "      <th>codigo_unidad_poblacional</th>\n",
       "      <th>entidad_singular_nombre</th>\n",
       "      <th>nucleo_nombre</th>\n",
       "      <th>Latitud</th>\n",
       "      <th>Longitud</th>\n",
       "    </tr>\n",
       "  </thead>\n",
       "  <tbody>\n",
       "    <tr>\n",
       "      <th>0</th>\n",
       "      <td>1001</td>\n",
       "      <td>1059</td>\n",
       "      <td>63501</td>\n",
       "      <td>Vitoria-Gasteiz</td>\n",
       "      <td>Vitoria-Gasteiz</td>\n",
       "      <td>42.848539</td>\n",
       "      <td>-2.672299</td>\n",
       "    </tr>\n",
       "    <tr>\n",
       "      <th>1</th>\n",
       "      <td>1002</td>\n",
       "      <td>1059</td>\n",
       "      <td>63501</td>\n",
       "      <td>Vitoria-Gasteiz</td>\n",
       "      <td>Vitoria-Gasteiz</td>\n",
       "      <td>42.853755</td>\n",
       "      <td>-2.657399</td>\n",
       "    </tr>\n",
       "    <tr>\n",
       "      <th>2</th>\n",
       "      <td>1003</td>\n",
       "      <td>1059</td>\n",
       "      <td>63501</td>\n",
       "      <td>Vitoria-Gasteiz</td>\n",
       "      <td>Vitoria-Gasteiz</td>\n",
       "      <td>42.845374</td>\n",
       "      <td>-2.651191</td>\n",
       "    </tr>\n",
       "    <tr>\n",
       "      <th>3</th>\n",
       "      <td>1004</td>\n",
       "      <td>1059</td>\n",
       "      <td>63501</td>\n",
       "      <td>Vitoria-Gasteiz</td>\n",
       "      <td>Vitoria-Gasteiz</td>\n",
       "      <td>42.844406</td>\n",
       "      <td>-2.666711</td>\n",
       "    </tr>\n",
       "    <tr>\n",
       "      <th>4</th>\n",
       "      <td>1005</td>\n",
       "      <td>1059</td>\n",
       "      <td>63501</td>\n",
       "      <td>Vitoria-Gasteiz</td>\n",
       "      <td>Vitoria-Gasteiz</td>\n",
       "      <td>42.843667</td>\n",
       "      <td>-2.672299</td>\n",
       "    </tr>\n",
       "  </tbody>\n",
       "</table>\n",
       "</div>"
      ],
      "text/plain": [
       "   codigo_postal  municipio_id  codigo_unidad_poblacional  \\\n",
       "0           1001          1059                      63501   \n",
       "1           1002          1059                      63501   \n",
       "2           1003          1059                      63501   \n",
       "3           1004          1059                      63501   \n",
       "4           1005          1059                      63501   \n",
       "\n",
       "  entidad_singular_nombre    nucleo_nombre    Latitud  Longitud  \n",
       "0         Vitoria-Gasteiz  Vitoria-Gasteiz  42.848539 -2.672299  \n",
       "1         Vitoria-Gasteiz  Vitoria-Gasteiz  42.853755 -2.657399  \n",
       "2         Vitoria-Gasteiz  Vitoria-Gasteiz  42.845374 -2.651191  \n",
       "3         Vitoria-Gasteiz  Vitoria-Gasteiz  42.844406 -2.666711  \n",
       "4         Vitoria-Gasteiz  Vitoria-Gasteiz  42.843667 -2.672299  "
      ]
     },
     "execution_count": 49,
     "metadata": {},
     "output_type": "execute_result"
    }
   ],
   "source": [
    "df_excel = pd.read_excel('data/Listado-de-CP.xlsx')\n",
    "df_excel.head()"
   ]
  },
  {
   "cell_type": "code",
   "execution_count": 50,
   "id": "ca9e3498",
   "metadata": {},
   "outputs": [
    {
     "name": "stdout",
     "output_type": "stream",
     "text": [
      "<class 'pandas.core.frame.DataFrame'>\n",
      "RangeIndex: 11241 entries, 0 to 11240\n",
      "Data columns (total 7 columns):\n",
      " #   Column                     Non-Null Count  Dtype  \n",
      "---  ------                     --------------  -----  \n",
      " 0   codigo_postal              11241 non-null  int64  \n",
      " 1   municipio_id               11241 non-null  int64  \n",
      " 2   codigo_unidad_poblacional  11241 non-null  int64  \n",
      " 3   entidad_singular_nombre    11241 non-null  object \n",
      " 4   nucleo_nombre              11234 non-null  object \n",
      " 5   Latitud                    11238 non-null  float64\n",
      " 6   Longitud                   11238 non-null  float64\n",
      "dtypes: float64(2), int64(3), object(2)\n",
      "memory usage: 614.9+ KB\n"
     ]
    }
   ],
   "source": [
    "df_excel.loc[df_excel['codigo_postal'] == 46910, :]\n",
    "df_excel.info()\n",
    "df_excel['codigo_postal'] = df_excel['codigo_postal'].astype(str)"
   ]
  },
  {
   "cell_type": "code",
   "execution_count": 51,
   "id": "65be43f4",
   "metadata": {},
   "outputs": [
    {
     "data": {
      "text/html": [
       "<div>\n",
       "<style scoped>\n",
       "    .dataframe tbody tr th:only-of-type {\n",
       "        vertical-align: middle;\n",
       "    }\n",
       "\n",
       "    .dataframe tbody tr th {\n",
       "        vertical-align: top;\n",
       "    }\n",
       "\n",
       "    .dataframe thead th {\n",
       "        text-align: right;\n",
       "    }\n",
       "</style>\n",
       "<table border=\"1\" class=\"dataframe\">\n",
       "  <thead>\n",
       "    <tr style=\"text-align: right;\">\n",
       "      <th></th>\n",
       "      <th>zipcode</th>\n",
       "      <th>counts</th>\n",
       "      <th>nucleo_nombre</th>\n",
       "      <th>Latitud</th>\n",
       "      <th>Longitud</th>\n",
       "    </tr>\n",
       "  </thead>\n",
       "  <tbody>\n",
       "    <tr>\n",
       "      <th>0</th>\n",
       "      <td>28031</td>\n",
       "      <td>118</td>\n",
       "      <td>Madrid</td>\n",
       "      <td>40.380916</td>\n",
       "      <td>-3.586331</td>\n",
       "    </tr>\n",
       "    <tr>\n",
       "      <th>1</th>\n",
       "      <td>28850</td>\n",
       "      <td>65</td>\n",
       "      <td>Torrejon de Ardoz</td>\n",
       "      <td>40.471568</td>\n",
       "      <td>-3.449835</td>\n",
       "    </tr>\n",
       "    <tr>\n",
       "      <th>2</th>\n",
       "      <td>28021</td>\n",
       "      <td>61</td>\n",
       "      <td>Madrid</td>\n",
       "      <td>40.336660</td>\n",
       "      <td>-3.697826</td>\n",
       "    </tr>\n",
       "    <tr>\n",
       "      <th>3</th>\n",
       "      <td>46900</td>\n",
       "      <td>57</td>\n",
       "      <td>*Diseminado*</td>\n",
       "      <td>39.407690</td>\n",
       "      <td>-0.502159</td>\n",
       "    </tr>\n",
       "    <tr>\n",
       "      <th>4</th>\n",
       "      <td>28039</td>\n",
       "      <td>50</td>\n",
       "      <td>Madrid</td>\n",
       "      <td>40.460972</td>\n",
       "      <td>-3.710512</td>\n",
       "    </tr>\n",
       "    <tr>\n",
       "      <th>...</th>\n",
       "      <td>...</td>\n",
       "      <td>...</td>\n",
       "      <td>...</td>\n",
       "      <td>...</td>\n",
       "      <td>...</td>\n",
       "    </tr>\n",
       "    <tr>\n",
       "      <th>2242</th>\n",
       "      <td>50740</td>\n",
       "      <td>1</td>\n",
       "      <td>Fuentes de Ebro</td>\n",
       "      <td>41.459601</td>\n",
       "      <td>-0.620416</td>\n",
       "    </tr>\n",
       "    <tr>\n",
       "      <th>2243</th>\n",
       "      <td>50720</td>\n",
       "      <td>1</td>\n",
       "      <td>Ricla</td>\n",
       "      <td>41.538678</td>\n",
       "      <td>-0.772297</td>\n",
       "    </tr>\n",
       "    <tr>\n",
       "      <th>2244</th>\n",
       "      <td>50694</td>\n",
       "      <td>1</td>\n",
       "      <td>Bardenas</td>\n",
       "      <td>42.199098</td>\n",
       "      <td>-1.318004</td>\n",
       "    </tr>\n",
       "    <tr>\n",
       "      <th>2245</th>\n",
       "      <td>50692</td>\n",
       "      <td>1</td>\n",
       "      <td>Joyosa (La)</td>\n",
       "      <td>41.750590</td>\n",
       "      <td>-1.082563</td>\n",
       "    </tr>\n",
       "    <tr>\n",
       "      <th>2246</th>\n",
       "      <td>50660</td>\n",
       "      <td>1</td>\n",
       "      <td>Tauste</td>\n",
       "      <td>41.953347</td>\n",
       "      <td>-1.173699</td>\n",
       "    </tr>\n",
       "  </tbody>\n",
       "</table>\n",
       "<p>2247 rows × 5 columns</p>\n",
       "</div>"
      ],
      "text/plain": [
       "     zipcode  counts      nucleo_nombre    Latitud  Longitud\n",
       "0      28031     118             Madrid  40.380916 -3.586331\n",
       "1      28850      65  Torrejon de Ardoz  40.471568 -3.449835\n",
       "2      28021      61             Madrid  40.336660 -3.697826\n",
       "3      46900      57       *Diseminado*  39.407690 -0.502159\n",
       "4      28039      50             Madrid  40.460972 -3.710512\n",
       "...      ...     ...                ...        ...       ...\n",
       "2242   50740       1    Fuentes de Ebro  41.459601 -0.620416\n",
       "2243   50720       1              Ricla  41.538678 -0.772297\n",
       "2244   50694       1           Bardenas  42.199098 -1.318004\n",
       "2245   50692       1        Joyosa (La)  41.750590 -1.082563\n",
       "2246   50660       1             Tauste  41.953347 -1.173699\n",
       "\n",
       "[2247 rows x 5 columns]"
      ]
     },
     "execution_count": 51,
     "metadata": {},
     "output_type": "execute_result"
    }
   ],
   "source": [
    "df_locs2 = pd.merge(left=df_locs, right=df_excel, left_on='zipcode', right_on='codigo_postal', how='inner')\n",
    "df_locs = df_locs2.drop(['codigo_postal', 'municipio_id', 'codigo_unidad_poblacional', 'entidad_singular_nombre'], axis=1)\n",
    "df_locs\n"
   ]
  },
  {
   "cell_type": "code",
   "execution_count": 52,
   "id": "ecde6588",
   "metadata": {},
   "outputs": [
    {
     "name": "stderr",
     "output_type": "stream",
     "text": [
      "C:\\Users\\Pablo\\AppData\\Local\\Temp\\ipykernel_8524\\2018403085.py:3: UserWarning: set_ticklabels() should only be used with a fixed number of ticks, i.e. after set_ticks() or using a FixedLocator.\n",
      "  ax.set_xticklabels(ax.get_xticklabels(), rotation=45)\n"
     ]
    },
    {
     "data": {
      "image/png": "[encoded data removed]",
      "text/plain": [
       "<Figure size 640x480 with 1 Axes>"
      ]
     },
     "metadata": {},
     "output_type": "display_data"
    }
   ],
   "source": [
    "fig, ax = plt.subplots(1,1)\n",
    "sns.barplot(data=df_locs.iloc[:20, :], x='zipcode', y='counts', errorbar=None, color=COLORES_COLIBID['primary_blue_green'], edgecolor='black')\n",
    "ax.set_xticklabels(ax.get_xticklabels(), rotation=45)\n",
    "plt.tight_layout()"
   ]
  },
  {
   "cell_type": "code",
   "execution_count": 53,
   "id": "91e556dc",
   "metadata": {},
   "outputs": [],
   "source": [
    "df_locs_plot = pd.DataFrame(df_locs.groupby('nucleo_nombre')['zipcode'].count().sort_values(ascending=False)).reset_index()\n",
    "df_locs_plot.columns=['nombre_nucleo', 'counts']\n"
   ]
  },
  {
   "cell_type": "code",
   "execution_count": 54,
   "id": "4846c1b9",
   "metadata": {},
   "outputs": [
    {
     "name": "stderr",
     "output_type": "stream",
     "text": [
      "C:\\Users\\Pablo\\AppData\\Local\\Temp\\ipykernel_8524\\926818621.py:3: UserWarning: set_ticklabels() should only be used with a fixed number of ticks, i.e. after set_ticks() or using a FixedLocator.\n",
      "  ax.set_xticklabels(ax.get_xticklabels(), rotation=45, fontsize=15)\n"
     ]
    },
    {
     "data": {
      "image/png": "[encoded data removed]",
      "text/plain": [
       "<Figure size 1500x700 with 1 Axes>"
      ]
     },
     "metadata": {},
     "output_type": "display_data"
    }
   ],
   "source": [
    "fig, ax = plt.subplots(1,1, figsize = (15, 7))\n",
    "sns.barplot(data=df_locs_plot.iloc[1:11, :], x='nombre_nucleo', y='counts', errorbar=None, color=COLORES_COLIBID['primary_blue_green'], edgecolor='black')\n",
    "ax.set_xticklabels(ax.get_xticklabels(), rotation=45, fontsize=15)\n",
    "ax.set_xlabel('Localidad')\n",
    "ax.set_ylabel('Frecuencia')\n",
    "ax.set_title('Top 10 localidades de contratación de hipotecas', fontsize=20)\n",
    "plt.tight_layout()"
   ]
  },
  {
   "cell_type": "code",
   "execution_count": 55,
   "id": "ea2c6bab",
   "metadata": {},
   "outputs": [
    {
     "name": "stderr",
     "output_type": "stream",
     "text": [
      "C:\\Users\\Pablo\\AppData\\Local\\Temp\\ipykernel_8524\\598653460.py:1: DeprecationWarning: *scatter_mapbox* is deprecated! Use *scatter_map* instead. Learn more at: https://plotly.com/python/mapbox-to-maplibre/\n",
      "  fig_scatter = px.scatter_mapbox(df_locs,\n"
     ]
    },
    {
     "data": {
      "application/vnd.plotly.v1+json": {
       "config": {
        "plotlyServerURL": "https://plot.ly"
       },
       "data": [
        {
         "hovertemplate": "Latitud=%{lat}<br>Longitud=%{lon}<br>counts=%{marker.color}<extra></extra>",
         "lat": {
          "bdata": "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",
          "dtype": "f8"
         },
         "legendgroup": "",
         "lon": {
          "bdata": "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",
          "dtype": "f8"
         },
         "marker": {
          "color": {
           "bdata": "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",
           "dtype": "i1"
          },
          "coloraxis": "coloraxis"
         },
         "mode": "markers",
         "name": "",
         "showlegend": false,
         "subplot": "mapbox",
         "type": "scattermapbox"
        }
       ],
       "layout": {
        "coloraxis": {
         "colorbar": {
          "tickformat": ",",
          "title": {
           "text": "cuentas"
          }
         },
         "colorscale": [
          [
           0,
           "rgb(255,255,204)"
          ],
          [
           0.125,
           "rgb(255,237,160)"
          ],
          [
           0.25,
           "rgb(254,217,118)"
          ],
          [
           0.375,
           "rgb(254,178,76)"
          ],
          [
           0.5,
           "rgb(253,141,60)"
          ],
          [
           0.625,
           "rgb(252,78,42)"
          ],
          [
           0.75,
           "rgb(227,26,28)"
          ],
          [
           0.875,
           "rgb(189,0,38)"
          ],
          [
           1,
           "rgb(128,0,38)"
          ]
         ]
        },
        "legend": {
         "tracegroupgap": 0
        },
        "mapbox": {
         "center": {
          "lat": 39.60090362790387,
          "lon": -4.268784417133956
         },
         "domain": {
          "x": [
           0,
           1
          ],
          "y": [
           0,
           1
          ]
         },
         "style": "open-street-map",
         "zoom": 5.5
        },
        "margin": {
         "b": 0,
         "l": 0,
         "r": 0,
         "t": 50
        },
        "template": {
         "data": {
          "bar": [
           {
            "error_x": {
             "color": "#2a3f5f"
            },
            "error_y": {
             "color": "#2a3f5f"
            },
            "marker": {
             "line": {
              "color": "#E5ECF6",
              "width": 0.5
             },
             "pattern": {
              "fillmode": "overlay",
              "size": 10,
              "solidity": 0.2
             }
            },
            "type": "bar"
           }
          ],
          "barpolar": [
           {
            "marker": {
             "line": {
              "color": "#E5ECF6",
              "width": 0.5
             },
             "pattern": {
              "fillmode": "overlay",
              "size": 10,
              "solidity": 0.2
             }
            },
            "type": "barpolar"
           }
          ],
          "carpet": [
           {
            "aaxis": {
             "endlinecolor": "#2a3f5f",
             "gridcolor": "white",
             "linecolor": "white",
             "minorgridcolor": "white",
             "startlinecolor": "#2a3f5f"
            },
            "baxis": {
             "endlinecolor": "#2a3f5f",
             "gridcolor": "white",
             "linecolor": "white",
             "minorgridcolor": "white",
             "startlinecolor": "#2a3f5f"
            },
            "type": "carpet"
           }
          ],
          "choropleth": [
           {
            "colorbar": {
             "outlinewidth": 0,
             "ticks": ""
            },
            "type": "choropleth"
           }
          ],
          "contour": [
           {
            "colorbar": {
             "outlinewidth": 0,
             "ticks": ""
            },
            "colorscale": [
             [
              0,
              "#0d0887"
             ],
             [
              0.1111111111111111,
              "#46039f"
             ],
             [
              0.2222222222222222,
              "#7201a8"
             ],
             [
              0.3333333333333333,
              "#9c179e"
             ],
             [
              0.4444444444444444,
              "#bd3786"
             ],
             [
              0.5555555555555556,
              "#d8576b"
             ],
             [
              0.6666666666666666,
              "#ed7953"
             ],
             [
              0.7777777777777778,
              "#fb9f3a"
             ],
             [
              0.8888888888888888,
              "#fdca26"
             ],
             [
              1,
              "#f0f921"
             ]
            ],
            "type": "contour"
           }
          ],
          "contourcarpet": [
           {
            "colorbar": {
             "outlinewidth": 0,
             "ticks": ""
            },
            "type": "contourcarpet"
           }
          ],
          "heatmap": [
           {
            "colorbar": {
             "outlinewidth": 0,
             "ticks": ""
            },
            "colorscale": [
             [
              0,
              "#0d0887"
             ],
             [
              0.1111111111111111,
              "#46039f"
             ],
             [
              0.2222222222222222,
              "#7201a8"
             ],
             [
              0.3333333333333333,
              "#9c179e"
             ],
             [
              0.4444444444444444,
              "#bd3786"
             ],
             [
              0.5555555555555556,
              "#d8576b"
             ],
             [
              0.6666666666666666,
              "#ed7953"
             ],
             [
              0.7777777777777778,
              "#fb9f3a"
             ],
             [
              0.8888888888888888,
              "#fdca26"
             ],
             [
              1,
              "#f0f921"
             ]
            ],
            "type": "heatmap"
           }
          ],
          "histogram": [
           {
            "marker": {
             "pattern": {
              "fillmode": "overlay",
              "size": 10,
              "solidity": 0.2
             }
            },
            "type": "histogram"
           }
          ],
          "histogram2d": [
           {
            "colorbar": {
             "outlinewidth": 0,
             "ticks": ""
            },
            "colorscale": [
             [
              0,
              "#0d0887"
             ],
             [
              0.1111111111111111,
              "#46039f"
             ],
             [
              0.2222222222222222,
              "#7201a8"
             ],
             [
              0.3333333333333333,
              "#9c179e"
             ],
             [
              0.4444444444444444,
              "#bd3786"
             ],
             [
              0.5555555555555556,
              "#d8576b"
             ],
             [
              0.6666666666666666,
              "#ed7953"
             ],
             [
              0.7777777777777778,
              "#fb9f3a"
             ],
             [
              0.8888888888888888,
              "#fdca26"
             ],
             [
              1,
              "#f0f921"
             ]
            ],
            "type": "histogram2d"
           }
          ],
          "histogram2dcontour": [
           {
            "colorbar": {
             "outlinewidth": 0,
             "ticks": ""
            },
            "colorscale": [
             [
              0,
              "#0d0887"
             ],
             [
              0.1111111111111111,
              "#46039f"
             ],
             [
              0.2222222222222222,
              "#7201a8"
             ],
             [
              0.3333333333333333,
              "#9c179e"
             ],
             [
              0.4444444444444444,
              "#bd3786"
             ],
             [
              0.5555555555555556,
              "#d8576b"
             ],
             [
              0.6666666666666666,
              "#ed7953"
             ],
             [
              0.7777777777777778,
              "#fb9f3a"
             ],
             [
              0.8888888888888888,
              "#fdca26"
             ],
             [
              1,
              "#f0f921"
             ]
            ],
            "type": "histogram2dcontour"
           }
          ],
          "mesh3d": [
           {
            "colorbar": {
             "outlinewidth": 0,
             "ticks": ""
            },
            "type": "mesh3d"
           }
          ],
          "parcoords": [
           {
            "line": {
             "colorbar": {
              "outlinewidth": 0,
              "ticks": ""
             }
            },
            "type": "parcoords"
           }
          ],
          "pie": [
           {
            "automargin": true,
            "type": "pie"
           }
          ],
          "scatter": [
           {
            "fillpattern": {
             "fillmode": "overlay",
             "size": 10,
             "solidity": 0.2
            },
            "type": "scatter"
           }
          ],
          "scatter3d": [
           {
            "line": {
             "colorbar": {
              "outlinewidth": 0,
              "ticks": ""
             }
            },
            "marker": {
             "colorbar": {
              "outlinewidth": 0,
              "ticks": ""
             }
            },
            "type": "scatter3d"
           }
          ],
          "scattercarpet": [
           {
            "marker": {
             "colorbar": {
              "outlinewidth": 0,
              "ticks": ""
             }
            },
            "type": "scattercarpet"
           }
          ],
          "scattergeo": [
           {
            "marker": {
             "colorbar": {
              "outlinewidth": 0,
              "ticks": ""
             }
            },
            "type": "scattergeo"
           }
          ],
          "scattergl": [
           {
            "marker": {
             "colorbar": {
              "outlinewidth": 0,
              "ticks": ""
             }
            },
            "type": "scattergl"
           }
          ],
          "scattermap": [
           {
            "marker": {
             "colorbar": {
              "outlinewidth": 0,
              "ticks": ""
             }
            },
            "type": "scattermap"
           }
          ],
          "scattermapbox": [
           {
            "marker": {
             "colorbar": {
              "outlinewidth": 0,
              "ticks": ""
             }
            },
            "type": "scattermapbox"
           }
          ],
          "scatterpolar": [
           {
            "marker": {
             "colorbar": {
              "outlinewidth": 0,
              "ticks": ""
             }
            },
            "type": "scatterpolar"
           }
          ],
          "scatterpolargl": [
           {
            "marker": {
             "colorbar": {
              "outlinewidth": 0,
              "ticks": ""
             }
            },
            "type": "scatterpolargl"
           }
          ],
          "scatterternary": [
           {
            "marker": {
             "colorbar": {
              "outlinewidth": 0,
              "ticks": ""
             }
            },
            "type": "scatterternary"
           }
          ],
          "surface": [
           {
            "colorbar": {
             "outlinewidth": 0,
             "ticks": ""
            },
            "colorscale": [
             [
              0,
              "#0d0887"
             ],
             [
              0.1111111111111111,
              "#46039f"
             ],
             [
              0.2222222222222222,
              "#7201a8"
             ],
             [
              0.3333333333333333,
              "#9c179e"
             ],
             [
              0.4444444444444444,
              "#bd3786"
             ],
             [
              0.5555555555555556,
              "#d8576b"
             ],
             [
              0.6666666666666666,
              "#ed7953"
             ],
             [
              0.7777777777777778,
              "#fb9f3a"
             ],
             [
              0.8888888888888888,
              "#fdca26"
             ],
             [
              1,
              "#f0f921"
             ]
            ],
            "type": "surface"
           }
          ],
          "table": [
           {
            "cells": {
             "fill": {
              "color": "#EBF0F8"
             },
             "line": {
              "color": "white"
             }
            },
            "header": {
             "fill": {
              "color": "#C8D4E3"
             },
             "line": {
              "color": "white"
             }
            },
            "type": "table"
           }
          ]
         },
         "layout": {
          "annotationdefaults": {
           "arrowcolor": "#2a3f5f",
           "arrowhead": 0,
           "arrowwidth": 1
          },
          "autotypenumbers": "strict",
          "coloraxis": {
           "colorbar": {
            "outlinewidth": 0,
            "ticks": ""
           }
          },
          "colorscale": {
           "diverging": [
            [
             0,
             "#8e0152"
            ],
            [
             0.1,
             "#c51b7d"
            ],
            [
             0.2,
             "#de77ae"
            ],
            [
             0.3,
             "#f1b6da"
            ],
            [
             0.4,
             "#fde0ef"
            ],
            [
             0.5,
             "#f7f7f7"
            ],
            [
             0.6,
             "#e6f5d0"
            ],
            [
             0.7,
             "#b8e186"
            ],
            [
             0.8,
             "#7fbc41"
            ],
            [
             0.9,
             "#4d9221"
            ],
            [
             1,
             "#276419"
            ]
           ],
           "sequential": [
            [
             0,
             "#0d0887"
            ],
            [
             0.1111111111111111,
             "#46039f"
            ],
            [
             0.2222222222222222,
             "#7201a8"
            ],
            [
             0.3333333333333333,
             "#9c179e"
            ],
            [
             0.4444444444444444,
             "#bd3786"
            ],
            [
             0.5555555555555556,
             "#d8576b"
            ],
            [
             0.6666666666666666,
             "#ed7953"
            ],
            [
             0.7777777777777778,
             "#fb9f3a"
            ],
            [
             0.8888888888888888,
             "#fdca26"
            ],
            [
             1,
             "#f0f921"
            ]
           ],
           "sequentialminus": [
            [
             0,
             "#0d0887"
            ],
            [
             0.1111111111111111,
             "#46039f"
            ],
            [
             0.2222222222222222,
             "#7201a8"
            ],
            [
             0.3333333333333333,
             "#9c179e"
            ],
            [
             0.4444444444444444,
             "#bd3786"
            ],
            [
             0.5555555555555556,
             "#d8576b"
            ],
            [
             0.6666666666666666,
             "#ed7953"
            ],
            [
             0.7777777777777778,
             "#fb9f3a"
            ],
            [
             0.8888888888888888,
             "#fdca26"
            ],
            [
             1,
             "#f0f921"
            ]
           ]
          },
          "colorway": [
           "#636efa",
           "#EF553B",
           "#00cc96",
           "#ab63fa",
           "#FFA15A",
           "#19d3f3",
           "#FF6692",
           "#B6E880",
           "#FF97FF",
           "#FECB52"
          ],
          "font": {
           "color": "#2a3f5f"
          },
          "geo": {
           "bgcolor": "white",
           "lakecolor": "white",
           "landcolor": "#E5ECF6",
           "showlakes": true,
           "showland": true,
           "subunitcolor": "white"
          },
          "hoverlabel": {
           "align": "left"
          },
          "hovermode": "closest",
          "mapbox": {
           "style": "light"
          },
          "paper_bgcolor": "white",
          "plot_bgcolor": "#E5ECF6",
          "polar": {
           "angularaxis": {
            "gridcolor": "white",
            "linecolor": "white",
            "ticks": ""
           },
           "bgcolor": "#E5ECF6",
           "radialaxis": {
            "gridcolor": "white",
            "linecolor": "white",
            "ticks": ""
           }
          },
          "scene": {
           "xaxis": {
            "backgroundcolor": "#E5ECF6",
            "gridcolor": "white",
            "gridwidth": 2,
            "linecolor": "white",
            "showbackground": true,
            "ticks": "",
            "zerolinecolor": "white"
           },
           "yaxis": {
            "backgroundcolor": "#E5ECF6",
            "gridcolor": "white",
            "gridwidth": 2,
            "linecolor": "white",
            "showbackground": true,
            "ticks": "",
            "zerolinecolor": "white"
           },
           "zaxis": {
            "backgroundcolor": "#E5ECF6",
            "gridcolor": "white",
            "gridwidth": 2,
            "linecolor": "white",
            "showbackground": true,
            "ticks": "",
            "zerolinecolor": "white"
           }
          },
          "shapedefaults": {
           "line": {
            "color": "#2a3f5f"
           }
          },
          "ternary": {
           "aaxis": {
            "gridcolor": "white",
            "linecolor": "white",
            "ticks": ""
           },
           "baxis": {
            "gridcolor": "white",
            "linecolor": "white",
            "ticks": ""
           },
           "bgcolor": "#E5ECF6",
           "caxis": {
            "gridcolor": "white",
            "linecolor": "white",
            "ticks": ""
           }
          },
          "title": {
           "x": 0.05
          },
          "xaxis": {
           "automargin": true,
           "gridcolor": "white",
           "linecolor": "white",
           "ticks": "",
           "title": {
            "standoff": 15
           },
           "zerolinecolor": "white",
           "zerolinewidth": 2
          },
          "yaxis": {
           "automargin": true,
           "gridcolor": "white",
           "linecolor": "white",
           "ticks": "",
           "title": {
            "standoff": 15
           },
           "zerolinecolor": "white",
           "zerolinewidth": 2
          }
         }
        },
        "title": {
         "text": "Puntos Calientes de Actividad Hipotecaria por Código Postal (España)"
        }
       }
      }
     },
     "metadata": {},
     "output_type": "display_data"
    }
   ],
   "source": [
    "fig_scatter = px.scatter_mapbox(df_locs,\n",
    "                                lat='Latitud',\n",
    "                                lon='Longitud',\n",
    "                                color='counts',\n",
    "                                color_continuous_scale=px.colors.sequential.YlOrRd, # Escala de colores (amarillo a rojo)\n",
    "                                size_max=30, # Tamaño máximo de los marcadores para evitar que sean demasiado grandes\n",
    "                                zoom=5.5, # Nivel de zoom inicial (ajusta según tu región)\n",
    "                                # Centra el mapa en la media de tus puntos para una vista general\n",
    "                                center={\"lat\": df_locs['Latitud'].mean(), \"lon\": df_locs['Longitud'].mean()},\n",
    "                                mapbox_style=\"open-street-map\", # Estilo de mapa base (no requiere clave de Mapbox)\n",
    "                                title=f\"Puntos Calientes de Actividad Hipotecaria por Código Postal (España)\"\n",
    "                               )\n",
    "\n",
    "# Ajustes adicionales para el layout del mapa\n",
    "fig_scatter.update_layout(\n",
    "    margin={\"r\":0,\"t\":50,\"l\":0,\"b\":0},\n",
    "    coloraxis_colorbar=dict(\n",
    "        title='cuentas',\n",
    "        tickformat=\",\" # Formato para los números en la leyenda de color\n",
    "    )\n",
    ")\n",
    "\n",
    "fig_scatter.show()"
   ]
  },
  {
   "cell_type": "code",
   "execution_count": 56,
   "id": "a3963bb3",
   "metadata": {},
   "outputs": [
    {
     "name": "stderr",
     "output_type": "stream",
     "text": [
      "C:\\Users\\Pablo\\AppData\\Local\\Temp\\ipykernel_8524\\1916243284.py:1: DeprecationWarning:\n",
      "\n",
      "*density_mapbox* is deprecated! Use *density_map* instead. Learn more at: https://plotly.com/python/mapbox-to-maplibre/\n",
      "\n"
     ]
    },
    {
     "data": {
      "application/vnd.plotly.v1+json": {
       "config": {
        "plotlyServerURL": "https://plot.ly"
       },
       "data": [
        {
         "coloraxis": "coloraxis",
         "hovertemplate": "counts=%{z}<br>Latitud=%{lat}<br>Longitud=%{lon}<extra></extra>",
         "lat": {
          "bdata": "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",
          "dtype": "f8"
         },
         "lon": {
          "bdata": "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",
          "dtype": "f8"
         },
         "name": "",
         "radius": 20,
         "subplot": "mapbox",
         "type": "densitymapbox",
         "z": {
          "bdata": "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",
          "dtype": "i1"
         }
        }
       ],
       "layout": {
        "coloraxis": {
         "colorbar": {
          "tickformat": ",",
          "title": {
           "text": "Número de hipotecas"
          }
         },
         "colorscale": [
          [
           0,
           "rgb(209, 238, 234)"
          ],
          [
           0.16666666666666666,
           "rgb(168, 219, 217)"
          ],
          [
           0.3333333333333333,
           "rgb(133, 196, 201)"
          ],
          [
           0.5,
           "rgb(104, 171, 184)"
          ],
          [
           0.6666666666666666,
           "rgb(79, 144, 166)"
          ],
          [
           0.8333333333333334,
           "rgb(59, 115, 143)"
          ],
          [
           1,
           "rgb(42, 86, 116)"
          ]
         ]
        },
        "legend": {
         "tracegroupgap": 0
        },
        "mapbox": {
         "center": {
          "lat": 39.60090362790387,
          "lon": -4.268784417133956
         },
         "domain": {
          "x": [
           0,
           1
          ],
          "y": [
           0,
           1
          ]
         },
         "style": "open-street-map",
         "zoom": 5.5
        },
        "margin": {
         "b": 0,
         "l": 0,
         "r": 0,
         "t": 50
        },
        "template": {
         "data": {
          "bar": [
           {
            "error_x": {
             "color": "#2a3f5f"
            },
            "error_y": {
             "color": "#2a3f5f"
            },
            "marker": {
             "line": {
              "color": "#E5ECF6",
              "width": 0.5
             },
             "pattern": {
              "fillmode": "overlay",
              "size": 10,
              "solidity": 0.2
             }
            },
            "type": "bar"
           }
          ],
          "barpolar": [
           {
            "marker": {
             "line": {
              "color": "#E5ECF6",
              "width": 0.5
             },
             "pattern": {
              "fillmode": "overlay",
              "size": 10,
              "solidity": 0.2
             }
            },
            "type": "barpolar"
           }
          ],
          "carpet": [
           {
            "aaxis": {
             "endlinecolor": "#2a3f5f",
             "gridcolor": "white",
             "linecolor": "white",
             "minorgridcolor": "white",
             "startlinecolor": "#2a3f5f"
            },
            "baxis": {
             "endlinecolor": "#2a3f5f",
             "gridcolor": "white",
             "linecolor": "white",
             "minorgridcolor": "white",
             "startlinecolor": "#2a3f5f"
            },
            "type": "carpet"
           }
          ],
          "choropleth": [
           {
            "colorbar": {
             "outlinewidth": 0,
             "ticks": ""
            },
            "type": "choropleth"
           }
          ],
          "contour": [
           {
            "colorbar": {
             "outlinewidth": 0,
             "ticks": ""
            },
            "colorscale": [
             [
              0,
              "#0d0887"
             ],
             [
              0.1111111111111111,
              "#46039f"
             ],
             [
              0.2222222222222222,
              "#7201a8"
             ],
             [
              0.3333333333333333,
              "#9c179e"
             ],
             [
              0.4444444444444444,
              "#bd3786"
             ],
             [
              0.5555555555555556,
              "#d8576b"
             ],
             [
              0.6666666666666666,
              "#ed7953"
             ],
             [
              0.7777777777777778,
              "#fb9f3a"
             ],
             [
              0.8888888888888888,
              "#fdca26"
             ],
             [
              1,
              "#f0f921"
             ]
            ],
            "type": "contour"
           }
          ],
          "contourcarpet": [
           {
            "colorbar": {
             "outlinewidth": 0,
             "ticks": ""
            },
            "type": "contourcarpet"
           }
          ],
          "heatmap": [
           {
            "colorbar": {
             "outlinewidth": 0,
             "ticks": ""
            },
            "colorscale": [
             [
              0,
              "#0d0887"
             ],
             [
              0.1111111111111111,
              "#46039f"
             ],
             [
              0.2222222222222222,
              "#7201a8"
             ],
             [
              0.3333333333333333,
              "#9c179e"
             ],
             [
              0.4444444444444444,
              "#bd3786"
             ],
             [
              0.5555555555555556,
              "#d8576b"
             ],
             [
              0.6666666666666666,
              "#ed7953"
             ],
             [
              0.7777777777777778,
              "#fb9f3a"
             ],
             [
              0.8888888888888888,
              "#fdca26"
             ],
             [
              1,
              "#f0f921"
             ]
            ],
            "type": "heatmap"
           }
          ],
          "histogram": [
           {
            "marker": {
             "pattern": {
              "fillmode": "overlay",
              "size": 10,
              "solidity": 0.2
             }
            },
            "type": "histogram"
           }
          ],
          "histogram2d": [
           {
            "colorbar": {
             "outlinewidth": 0,
             "ticks": ""
            },
            "colorscale": [
             [
              0,
              "#0d0887"
             ],
             [
              0.1111111111111111,
              "#46039f"
             ],
             [
              0.2222222222222222,
              "#7201a8"
             ],
             [
              0.3333333333333333,
              "#9c179e"
             ],
             [
              0.4444444444444444,
              "#bd3786"
             ],
             [
              0.5555555555555556,
              "#d8576b"
             ],
             [
              0.6666666666666666,
              "#ed7953"
             ],
             [
              0.7777777777777778,
              "#fb9f3a"
             ],
             [
              0.8888888888888888,
              "#fdca26"
             ],
             [
              1,
              "#f0f921"
             ]
            ],
            "type": "histogram2d"
           }
          ],
          "histogram2dcontour": [
           {
            "colorbar": {
             "outlinewidth": 0,
             "ticks": ""
            },
            "colorscale": [
             [
              0,
              "#0d0887"
             ],
             [
              0.1111111111111111,
              "#46039f"
             ],
             [
              0.2222222222222222,
              "#7201a8"
             ],
             [
              0.3333333333333333,
              "#9c179e"
             ],
             [
              0.4444444444444444,
              "#bd3786"
             ],
             [
              0.5555555555555556,
              "#d8576b"
             ],
             [
              0.6666666666666666,
              "#ed7953"
             ],
             [
              0.7777777777777778,
              "#fb9f3a"
             ],
             [
              0.8888888888888888,
              "#fdca26"
             ],
             [
              1,
              "#f0f921"
             ]
            ],
            "type": "histogram2dcontour"
           }
          ],
          "mesh3d": [
           {
            "colorbar": {
             "outlinewidth": 0,
             "ticks": ""
            },
            "type": "mesh3d"
           }
          ],
          "parcoords": [
           {
            "line": {
             "colorbar": {
              "outlinewidth": 0,
              "ticks": ""
             }
            },
            "type": "parcoords"
           }
          ],
          "pie": [
           {
            "automargin": true,
            "type": "pie"
           }
          ],
          "scatter": [
           {
            "fillpattern": {
             "fillmode": "overlay",
             "size": 10,
             "solidity": 0.2
            },
            "type": "scatter"
           }
          ],
          "scatter3d": [
           {
            "line": {
             "colorbar": {
              "outlinewidth": 0,
              "ticks": ""
             }
            },
            "marker": {
             "colorbar": {
              "outlinewidth": 0,
              "ticks": ""
             }
            },
            "type": "scatter3d"
           }
          ],
          "scattercarpet": [
           {
            "marker": {
             "colorbar": {
              "outlinewidth": 0,
              "ticks": ""
             }
            },
            "type": "scattercarpet"
           }
          ],
          "scattergeo": [
           {
            "marker": {
             "colorbar": {
              "outlinewidth": 0,
              "ticks": ""
             }
            },
            "type": "scattergeo"
           }
          ],
          "scattergl": [
           {
            "marker": {
             "colorbar": {
              "outlinewidth": 0,
              "ticks": ""
             }
            },
            "type": "scattergl"
           }
          ],
          "scattermap": [
           {
            "marker": {
             "colorbar": {
              "outlinewidth": 0,
              "ticks": ""
             }
            },
            "type": "scattermap"
           }
          ],
          "scattermapbox": [
           {
            "marker": {
             "colorbar": {
              "outlinewidth": 0,
              "ticks": ""
             }
            },
            "type": "scattermapbox"
           }
          ],
          "scatterpolar": [
           {
            "marker": {
             "colorbar": {
              "outlinewidth": 0,
              "ticks": ""
             }
            },
            "type": "scatterpolar"
           }
          ],
          "scatterpolargl": [
           {
            "marker": {
             "colorbar": {
              "outlinewidth": 0,
              "ticks": ""
             }
            },
            "type": "scatterpolargl"
           }
          ],
          "scatterternary": [
           {
            "marker": {
             "colorbar": {
              "outlinewidth": 0,
              "ticks": ""
             }
            },
            "type": "scatterternary"
           }
          ],
          "surface": [
           {
            "colorbar": {
             "outlinewidth": 0,
             "ticks": ""
            },
            "colorscale": [
             [
              0,
              "#0d0887"
             ],
             [
              0.1111111111111111,
              "#46039f"
             ],
             [
              0.2222222222222222,
              "#7201a8"
             ],
             [
              0.3333333333333333,
              "#9c179e"
             ],
             [
              0.4444444444444444,
              "#bd3786"
             ],
             [
              0.5555555555555556,
              "#d8576b"
             ],
             [
              0.6666666666666666,
              "#ed7953"
             ],
             [
              0.7777777777777778,
              "#fb9f3a"
             ],
             [
              0.8888888888888888,
              "#fdca26"
             ],
             [
              1,
              "#f0f921"
             ]
            ],
            "type": "surface"
           }
          ],
          "table": [
           {
            "cells": {
             "fill": {
              "color": "#EBF0F8"
             },
             "line": {
              "color": "white"
             }
            },
            "header": {
             "fill": {
              "color": "#C8D4E3"
             },
             "line": {
              "color": "white"
             }
            },
            "type": "table"
           }
          ]
         },
         "layout": {
          "annotationdefaults": {
           "arrowcolor": "#2a3f5f",
           "arrowhead": 0,
           "arrowwidth": 1
          },
          "autotypenumbers": "strict",
          "coloraxis": {
           "colorbar": {
            "outlinewidth": 0,
            "ticks": ""
           }
          },
          "colorscale": {
           "diverging": [
            [
             0,
             "#8e0152"
            ],
            [
             0.1,
             "#c51b7d"
            ],
            [
             0.2,
             "#de77ae"
            ],
            [
             0.3,
             "#f1b6da"
            ],
            [
             0.4,
             "#fde0ef"
            ],
            [
             0.5,
             "#f7f7f7"
            ],
            [
             0.6,
             "#e6f5d0"
            ],
            [
             0.7,
             "#b8e186"
            ],
            [
             0.8,
             "#7fbc41"
            ],
            [
             0.9,
             "#4d9221"
            ],
            [
             1,
             "#276419"
            ]
           ],
           "sequential": [
            [
             0,
             "#0d0887"
            ],
            [
             0.1111111111111111,
             "#46039f"
            ],
            [
             0.2222222222222222,
             "#7201a8"
            ],
            [
             0.3333333333333333,
             "#9c179e"
            ],
            [
             0.4444444444444444,
             "#bd3786"
            ],
            [
             0.5555555555555556,
             "#d8576b"
            ],
            [
             0.6666666666666666,
             "#ed7953"
            ],
            [
             0.7777777777777778,
             "#fb9f3a"
            ],
            [
             0.8888888888888888,
             "#fdca26"
            ],
            [
             1,
             "#f0f921"
            ]
           ],
           "sequentialminus": [
            [
             0,
             "#0d0887"
            ],
            [
             0.1111111111111111,
             "#46039f"
            ],
            [
             0.2222222222222222,
             "#7201a8"
            ],
            [
             0.3333333333333333,
             "#9c179e"
            ],
            [
             0.4444444444444444,
             "#bd3786"
            ],
            [
             0.5555555555555556,
             "#d8576b"
            ],
            [
             0.6666666666666666,
             "#ed7953"
            ],
            [
             0.7777777777777778,
             "#fb9f3a"
            ],
            [
             0.8888888888888888,
             "#fdca26"
            ],
            [
             1,
             "#f0f921"
            ]
           ]
          },
          "colorway": [
           "#636efa",
           "#EF553B",
           "#00cc96",
           "#ab63fa",
           "#FFA15A",
           "#19d3f3",
           "#FF6692",
           "#B6E880",
           "#FF97FF",
           "#FECB52"
          ],
          "font": {
           "color": "#2a3f5f"
          },
          "geo": {
           "bgcolor": "white",
           "lakecolor": "white",
           "landcolor": "#E5ECF6",
           "showlakes": true,
           "showland": true,
           "subunitcolor": "white"
          },
          "hoverlabel": {
           "align": "left"
          },
          "hovermode": "closest",
          "mapbox": {
           "style": "light"
          },
          "paper_bgcolor": "white",
          "plot_bgcolor": "#E5ECF6",
          "polar": {
           "angularaxis": {
            "gridcolor": "white",
            "linecolor": "white",
            "ticks": ""
           },
           "bgcolor": "#E5ECF6",
           "radialaxis": {
            "gridcolor": "white",
            "linecolor": "white",
            "ticks": ""
           }
          },
          "scene": {
           "xaxis": {
            "backgroundcolor": "#E5ECF6",
            "gridcolor": "white",
            "gridwidth": 2,
            "linecolor": "white",
            "showbackground": true,
            "ticks": "",
            "zerolinecolor": "white"
           },
           "yaxis": {
            "backgroundcolor": "#E5ECF6",
            "gridcolor": "white",
            "gridwidth": 2,
            "linecolor": "white",
            "showbackground": true,
            "ticks": "",
            "zerolinecolor": "white"
           },
           "zaxis": {
            "backgroundcolor": "#E5ECF6",
            "gridcolor": "white",
            "gridwidth": 2,
            "linecolor": "white",
            "showbackground": true,
            "ticks": "",
            "zerolinecolor": "white"
           }
          },
          "shapedefaults": {
           "line": {
            "color": "#2a3f5f"
           }
          },
          "ternary": {
           "aaxis": {
            "gridcolor": "white",
            "linecolor": "white",
            "ticks": ""
           },
           "baxis": {
            "gridcolor": "white",
            "linecolor": "white",
            "ticks": ""
           },
           "bgcolor": "#E5ECF6",
           "caxis": {
            "gridcolor": "white",
            "linecolor": "white",
            "ticks": ""
           }
          },
          "title": {
           "x": 0.05
          },
          "xaxis": {
           "automargin": true,
           "gridcolor": "white",
           "linecolor": "white",
           "ticks": "",
           "title": {
            "standoff": 15
           },
           "zerolinecolor": "white",
           "zerolinewidth": 2
          },
          "yaxis": {
           "automargin": true,
           "gridcolor": "white",
           "linecolor": "white",
           "ticks": "",
           "title": {
            "standoff": 15
           },
           "zerolinecolor": "white",
           "zerolinewidth": 2
          }
         }
        },
        "title": {
         "text": "Mapa de Densidad de Actividad Hipotecaria por Código Postal (España)"
        }
       }
      }
     },
     "metadata": {},
     "output_type": "display_data"
    }
   ],
   "source": [
    "fig_density = px.density_mapbox(df_locs,\n",
    "                                lat=\"Latitud\",\n",
    "                                lon=\"Longitud\",\n",
    "                                z='counts', # Variable que define la intensidad del calor\n",
    "                                radius=20, # Ajusta el radio de los puntos de calor (mayor radio = calor más extendido)\n",
    "                                color_continuous_scale=px.colors.sequential.Teal,#['#E5F5F1', '#80BEAB', '#03897D'],#px.colors.sequential.Hot, # Otra buena escala de colores para calor\n",
    "                                zoom=5.5,\n",
    "                                center={\"lat\": df_locs['Latitud'].mean(), \"lon\": df_locs['Longitud'].mean()},\n",
    "                                mapbox_style=\"open-street-map\",\n",
    "                                title=f\"Mapa de Densidad de Actividad Hipotecaria por Código Postal (España)\"\n",
    "                               )\n",
    "\n",
    "fig_density.update_layout(\n",
    "    margin={\"r\":0,\"t\":50,\"l\":0,\"b\":0},\n",
    "    coloraxis_colorbar=dict(\n",
    "        title='Número de hipotecas',\n",
    "        tickformat=\",\" # Formato para los números en la leyenda de color\n",
    "    ))\n",
    "fig_density.show()"
   ]
  }
 ],
 "metadata": {
  "kernelspec": {
   "display_name": "data_analysis_env",
   "language": "python",
   "name": "python3"
  },
  "language_info": {
   "codemirror_mode": {
    "name": "ipython",
    "version": 3
   },
   "file_extension": ".py",
   "mimetype": "text/x-python",
   "name": "python",
   "nbconvert_exporter": "python",
   "pygments_lexer": "ipython3",
   "version": "3.11.11"
  }
 },
 "nbformat": 4,
 "nbformat_minor": 5
}
